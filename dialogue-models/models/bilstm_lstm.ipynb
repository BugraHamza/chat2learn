{
 "cells": [
  {
   "cell_type": "code",
   "execution_count": 1,
   "metadata": {
    "_cell_guid": "b1076dfc-b9ad-4769-8c92-a6c4dae69d19",
    "_uuid": "8f2839f25d086af736a60e9eeb907d3b93b6e0e5",
    "tags": []
   },
   "outputs": [],
   "source": [
    "import re\n",
    "\n",
    "import pandas as pd\n",
    "import numpy as np\n",
    "\n",
    "import torch\n",
    "import torch.nn as nn\n",
    "import torch.optim as optim\n",
    "\n",
    "from torch.utils.data import DataLoader, Dataset\n",
    "from torch.optim import *\n",
    "\n",
    "from torchtext.data import get_tokenizer\n",
    "from torchtext.vocab import build_vocab_from_iterator\n",
    "\n",
    "from nltk.tokenize.treebank import TreebankWordDetokenizer\n",
    "\n",
    "from datasets import load_dataset\n",
    "\n",
    "from tqdm.notebook import tqdm"
   ]
  },
  {
   "cell_type": "code",
   "execution_count": 2,
   "metadata": {},
   "outputs": [],
   "source": [
    "class QADataset(Dataset):\n",
    "    def __init__(self, dataset, tokenizer, vocab, maxlen, special_tokens, device):\n",
    "        super(QADataset, self).__init__()\n",
    "\n",
    "        self.maxlen = maxlen\n",
    "        self.special_tokens = special_tokens\n",
    "        \n",
    "        self.tokenizer = get_tokenizer('spacy') if tokenizer is None else tokenizer\n",
    "        self.vocab = self.get_vocab(dataset) if vocab is None else vocab\n",
    "\n",
    "        self.device = device\n",
    "        \n",
    "        self.sent1, self.sent2 = self.create_pair_dataset(dataset)\n",
    "        \n",
    "        self.sent1 = self.get_tensor(self.sent1)\n",
    "        self.sent2 = self.get_tensor(self.sent2)\n",
    "\n",
    "    def __getitem__(self, i):\n",
    "        return self.sent1[i], self.sent2[i]\n",
    "\n",
    "    def __len__(self):\n",
    "        return len(self.sent1)\n",
    "\n",
    "    def create_sentence_pairs(self, x):\n",
    "        sentences = re.split(r'[\\s]*#Person\\d#: ', x['dialogue'])[1:]\n",
    "        return {'sent1': sentences[:-1], 'sent2': sentences[1:]}\n",
    "\n",
    "    def create_pair_dataset(self, dataset):\n",
    "        dataset = dataset.map(self.create_sentence_pairs)\n",
    "\n",
    "        flatten_sent1 = [sent for sents in dataset['sent1'] for sent in sents]\n",
    "        flatten_sent2 = [sent for sents in dataset['sent2'] for sent in sents]\n",
    "\n",
    "        df = pd.DataFrame({'sent1': flatten_sent1,'sent2': flatten_sent2}).drop_duplicates()\n",
    "        \n",
    "        return df['sent1'].tolist(), df['sent2'].tolist()\n",
    "    \n",
    "    def tokenize_sent(self, sent):\n",
    "        sent = ' '.join([self.special_tokens['bos_token'], sent, self.special_tokens['eos_token']])\n",
    "        sent = [tok for tok in self.tokenizer(sent)]\n",
    "        sent = sent[:self.maxlen]\n",
    "        sent = sent + [self.special_tokens['pad_token']] * (self.maxlen - len(sent))\n",
    "        return sent\n",
    "    \n",
    "    def get_tensor(self, sents):\n",
    "        tokens = torch.zeros((len(sents), self.maxlen), dtype=torch.long, device=self.device)\n",
    "        for i, sent in enumerate(sents):\n",
    "            tokens[i, :] = torch.tensor(self.vocab(self.tokenize_sent(sent)))\n",
    "        return tokens\n",
    "    \n",
    "    def get_vocab(self, dataset):\n",
    "        sent1, sent2 = self.create_pair_dataset(dataset)\n",
    "        dataset = sent1 + sent2[-1:]\n",
    "        \n",
    "        tokenized_dataset = list(map(self.tokenize_sent, dataset))\n",
    "        \n",
    "        vocab = build_vocab_from_iterator(tokenized_dataset, min_freq=5,\n",
    "                                          specials=list(self.special_tokens.values()))\n",
    "        vocab.add_module\n",
    "        vocab.set_default_index(vocab['|UNK|'])\n",
    "\n",
    "        return vocab\n"
   ]
  },
  {
   "cell_type": "code",
   "execution_count": 3,
   "metadata": {},
   "outputs": [],
   "source": [
    "class EncoderModel(nn.Module):\n",
    "    def __init__(self, vocab_size, embed_dim=64, n_layers=32, n_hidden=128, dropout_rate=0.2):\n",
    "        super(EncoderModel, self).__init__()\n",
    "        \n",
    "        self.vocab_size = vocab_size\n",
    "        self.embed_dim = embed_dim\n",
    "        self.n_layers = n_layers\n",
    "        self.n_hidden = n_hidden\n",
    "        self.dropout_rate = dropout_rate\n",
    "        \n",
    "        self.embed = nn.Embedding(self.vocab_size, embedding_dim=self.embed_dim)\n",
    "        self.lstm = nn.LSTM(self.embed_dim, self.n_hidden, num_layers=self.n_layers, bidirectional=True, batch_first=True)\n",
    "        self.dropout = nn.Dropout(self.dropout_rate)\n",
    "        \n",
    "    def forward(self, x):\n",
    "        out = self.dropout(self.embed(x))\n",
    "        _, states = self.lstm(out)\n",
    "        \n",
    "        return states\n",
    "\n",
    "\n",
    "class DecoderModel(nn.Module):\n",
    "    def __init__(self, vocab_size, embed_dim=64, n_layers=32, n_hidden=128, dropout_rate=0.2):\n",
    "        super(DecoderModel, self).__init__()\n",
    "\n",
    "        self.vocab_size = vocab_size\n",
    "        self.embed_dim = embed_dim\n",
    "        self.n_layers = n_layers\n",
    "        self.n_hidden = n_hidden\n",
    "        self.dropout_rate = dropout_rate\n",
    "\n",
    "        self.embed = nn.Embedding(self.vocab_size, embedding_dim=self.embed_dim)\n",
    "        self.lstm = nn.LSTM(self.embed_dim, self.n_hidden, num_layers=self.n_layers,\n",
    "                            batch_first=True)\n",
    "        self.fc = nn.Linear(self.n_hidden, self.vocab_size)\n",
    "        self.softmax = nn.LogSoftmax(dim=-1)\n",
    "\n",
    "        self.dropout = nn.Dropout(dropout_rate)\n",
    "\n",
    "    def forward(self, x, states):\n",
    "        out = self.dropout(self.embed(x))\n",
    "        out, states = self.lstm(out, states)\n",
    "        out = self.fc(out)\n",
    "        out = self.softmax(out)\n",
    "\n",
    "        return out, states\n"
   ]
  },
  {
   "cell_type": "code",
   "execution_count": 4,
   "metadata": {},
   "outputs": [],
   "source": [
    "def train_step(enc_model, dec_model, loader, enc_opt, dec_opt, criterion, device):\n",
    "    enc_model.train(), dec_model.train()\n",
    "\n",
    "    pbar = tqdm(loader)\n",
    "    batch_losses = []\n",
    "\n",
    "    for i, (x, y) in enumerate(pbar):\n",
    "        x = x.to(device)\n",
    "        y = y.to(device)\n",
    "\n",
    "        enc_opt.zero_grad()\n",
    "        dec_opt.zero_grad()\n",
    "        \n",
    "        enc_states = enc_model(x)\n",
    "        dec_out, _ = dec_model(y, enc_states)\n",
    "        \n",
    "        loss = criterion(dec_out.moveaxis(1, -1), y)\n",
    "        loss.backward()\n",
    "        \n",
    "        enc_opt.step()\n",
    "        dec_opt.step()\n",
    "        \n",
    "        batch_losses.append(loss.item())\n",
    "        pbar.set_description(f'Batch Loss: {loss.item():.3f} Train Loss: {np.mean(batch_losses):.3f}')\n",
    "\n",
    "    return np.mean(batch_losses)\n",
    "\n",
    "\n",
    "def eval_step(model, loader, criterion, device):\n",
    "    model.eval()\n",
    "\n",
    "    pbar = tqdm(loader)\n",
    "    batch_losses = []\n",
    "\n",
    "    for i, batch in enumerate(pbar):\n",
    "        batch = batch.to(device)\n",
    "\n",
    "        y_pred, _ = model(batch[:, :-1])\n",
    "        loss = criterion(y_pred.moveaxis(1, -1), y)\n",
    "\n",
    "        batch_losses.append(loss.item())\n",
    "        pbar.set_description(f'Batch Loss: {loss.item():.3f} Validation Loss: {np.mean(batch_losses):.3f}')\n",
    "\n",
    "    return np.mean(batch_losses)\n",
    "\n",
    "\n",
    "def answer(model, sent, tokenizer, vocab, maxlen, special_tokens, device):\n",
    "    model.eval()\n",
    "\n",
    "    detokenizer = TreebankWordDetokenizer()\n",
    "\n",
    "    sent = ' '.join([special_tokens['bos_token'], sent, special_tokens['pad_token']])\n",
    "    sent = vocab(tokenizer(sent))\n",
    "    sent = torch.tensor(sent, device=device)\n",
    "\n",
    "    with torch.no_grad():\n",
    "        y_pred, states = model(sent)\n",
    "\n",
    "        pred_tokens = y_pred.argmax(dim=-1, keepdim=True)\n",
    "        # sent_preds = vocab.lookup_tokens(list(pred_tokens))\n",
    "\n",
    "        answer = []\n",
    "        for j in range(maxlen - len(sent)):\n",
    "            last_idx = pred_tokens[-1]\n",
    "            answer.append(vocab.lookup_token(last_idx))\n",
    "\n",
    "            if answer[-1] == special_tokens['eos_token']:\n",
    "                break\n",
    "\n",
    "            y_pred, states = model(last_idx, states)\n",
    "            pred_tokens = y_pred.argmax(dim=-1, keepdim=True)\n",
    "\n",
    "        return detokenizer.detokenize(answer)"
   ]
  },
  {
   "cell_type": "code",
   "execution_count": 5,
   "metadata": {},
   "outputs": [],
   "source": [
    "def train(max_len, bs, lr, epochs, **kwargs):\n",
    "    special_tokens = {'bos_token': '|BOS|',\n",
    "                      'pad_token': '|PAD|',\n",
    "                      'eos_token': '|EOS|',\n",
    "                      'unk_token': '|UNK|'}\n",
    "\n",
    "    train_dataset = load_dataset('knkarthick/dialogsum', split='train')\n",
    "    val_dataset = load_dataset('knkarthick/dialogsum', split='validation')\n",
    "\n",
    "    lm_train = QADataset(train_dataset, None, None, max_len, special_tokens, device)\n",
    "    lm_valid = QADataset(val_dataset, lm_train.tokenizer, lm_train.vocab, max_len, special_tokens, device)\n",
    "\n",
    "    train_loader = DataLoader(lm_train, batch_size=bs, shuffle=True)\n",
    "    val_loader = DataLoader(lm_valid, batch_size=bs)\n",
    "\n",
    "    encoder_kwargs = {k.replace('encoder_', ''): v for k, v in kwargs.items() if 'encoder_' in k}\n",
    "    encoder_model = EncoderModel(vocab_size=len(lm_train.vocab), **encoder_kwargs)\n",
    "    \n",
    "    decoder_kwargs = {k.replace('decoder_', ''): v for k, v in kwargs.items() if 'decoder_' in k}\n",
    "    decoder_model = DecoderModel(vocab_size=len(lm_train.vocab), **decoder_kwargs)\n",
    "\n",
    "    assert decoder_kwargs['n_layers'] == 2 * encoder_kwargs['n_layers'], '# of encoder layers must be the double the size of # decoder layers..'\n",
    "    \n",
    "    encoder_optimizer = optim.Adam(encoder_model.parameters(), lr=lr)\n",
    "    decoder_optimizer = optim.Adam(decoder_model.parameters(), lr=lr)\n",
    "    \n",
    "    criterion = nn.NLLLoss()\n",
    "    \n",
    "    for e in range(epochs):\n",
    "        train_loss = train_step(encoder_model, decoder_model, train_loader, \n",
    "                                encoder_optimizer, decoder_optimizer, criterion, \n",
    "                                device)\n",
    "        val_loss = eval_step(encoder_model, decoder_model, \n",
    "                             val_loader, criterion, device)\n",
    "\n",
    "\n",
    "    return val_loss\n"
   ]
  },
  {
   "cell_type": "code",
   "execution_count": 8,
   "metadata": {},
   "outputs": [],
   "source": [
    "max_len = 50\n",
    "bs = 32\n",
    "lr = 1e-3\n",
    "epochs = 10\n",
    "device = 'cpu'"
   ]
  },
  {
   "cell_type": "code",
   "execution_count": 9,
   "metadata": {},
   "outputs": [
    {
     "name": "stderr",
     "output_type": "stream",
     "text": [
      "Using custom data configuration knkarthick--dialogsum-caf2f3e75d9073aa\n",
      "Found cached dataset csv (/Users/bugrahamzagundog/.cache/huggingface/datasets/knkarthick___csv/knkarthick--dialogsum-caf2f3e75d9073aa/0.0.0/6b34fb8fcf56f7c8ba51dc895bfa2bfbe43546f190a60fcf74bb5e8afdcc2317)\n",
      "Using custom data configuration knkarthick--dialogsum-caf2f3e75d9073aa\n",
      "Found cached dataset csv (/Users/bugrahamzagundog/.cache/huggingface/datasets/knkarthick___csv/knkarthick--dialogsum-caf2f3e75d9073aa/0.0.0/6b34fb8fcf56f7c8ba51dc895bfa2bfbe43546f190a60fcf74bb5e8afdcc2317)\n",
      "/opt/homebrew/Caskroom/miniconda/base/envs/dialogue38/lib/python3.8/site-packages/torchtext/data/utils.py:105: UserWarning: Spacy model \"en\" could not be loaded, trying \"en_core_web_sm\" instead\n",
      "  warnings.warn(\n"
     ]
    },
    {
     "data": {
      "application/vnd.jupyter.widget-view+json": {
       "model_id": "a305354323e4456790cce5a0cf2d8595",
       "version_major": 2,
       "version_minor": 0
      },
      "text/plain": [
       "  0%|          | 0/12460 [00:00<?, ?ex/s]"
      ]
     },
     "metadata": {},
     "output_type": "display_data"
    },
    {
     "data": {
      "application/vnd.jupyter.widget-view+json": {
       "model_id": "ae98640a56d845e6aa3927d771eaa77e",
       "version_major": 2,
       "version_minor": 0
      },
      "text/plain": [
       "  0%|          | 0/12460 [00:00<?, ?ex/s]"
      ]
     },
     "metadata": {},
     "output_type": "display_data"
    },
    {
     "data": {
      "application/vnd.jupyter.widget-view+json": {
       "model_id": "5879ec94e37a4f59b6e011f5906b9a5b",
       "version_major": 2,
       "version_minor": 0
      },
      "text/plain": [
       "  0%|          | 0/500 [00:00<?, ?ex/s]"
      ]
     },
     "metadata": {},
     "output_type": "display_data"
    },
    {
     "data": {
      "application/vnd.jupyter.widget-view+json": {
       "model_id": "cd52fbba6ffa4541927b152dede2c410",
       "version_major": 2,
       "version_minor": 0
      },
      "text/plain": [
       "  0%|          | 0/2948 [00:00<?, ?it/s]"
      ]
     },
     "metadata": {},
     "output_type": "display_data"
    },
    {
     "ename": "KeyboardInterrupt",
     "evalue": "",
     "output_type": "error",
     "traceback": [
      "\u001b[0;31m---------------------------------------------------------------------------\u001b[0m",
      "\u001b[0;31mKeyboardInterrupt\u001b[0m                         Traceback (most recent call last)",
      "Input \u001b[0;32mIn [9]\u001b[0m, in \u001b[0;36m<cell line: 1>\u001b[0;34m()\u001b[0m\n\u001b[0;32m----> 1\u001b[0m \u001b[43mtrain\u001b[49m\u001b[43m(\u001b[49m\u001b[43mmax_len\u001b[49m\u001b[43m,\u001b[49m\u001b[43m \u001b[49m\u001b[43mbs\u001b[49m\u001b[43m,\u001b[49m\u001b[43m \u001b[49m\u001b[43mlr\u001b[49m\u001b[43m,\u001b[49m\u001b[43m \u001b[49m\u001b[43mepochs\u001b[49m\u001b[43m,\u001b[49m\u001b[43m \u001b[49m\u001b[43mdevice\u001b[49m\u001b[38;5;241;43m=\u001b[39;49m\u001b[43mdevice\u001b[49m\u001b[43m,\u001b[49m\n\u001b[1;32m      2\u001b[0m \u001b[43m     \u001b[49m\u001b[43mencoder_embed_dim\u001b[49m\u001b[38;5;241;43m=\u001b[39;49m\u001b[38;5;241;43m64\u001b[39;49m\u001b[43m,\u001b[49m\u001b[43m \u001b[49m\u001b[43mencoder_n_layers\u001b[49m\u001b[38;5;241;43m=\u001b[39;49m\u001b[38;5;241;43m32\u001b[39;49m\u001b[43m,\u001b[49m\u001b[43m \u001b[49m\u001b[43mencoder_n_hidden\u001b[49m\u001b[38;5;241;43m=\u001b[39;49m\u001b[38;5;241;43m128\u001b[39;49m\u001b[43m,\u001b[49m\u001b[43m \u001b[49m\u001b[43mencoder_dropout_rate\u001b[49m\u001b[38;5;241;43m=\u001b[39;49m\u001b[38;5;241;43m0.2\u001b[39;49m\u001b[43m,\u001b[49m\n\u001b[1;32m      3\u001b[0m \u001b[43m     \u001b[49m\u001b[43mdecoder_embed_dim\u001b[49m\u001b[38;5;241;43m=\u001b[39;49m\u001b[38;5;241;43m64\u001b[39;49m\u001b[43m,\u001b[49m\u001b[43m \u001b[49m\u001b[43mdecoder_n_layers\u001b[49m\u001b[38;5;241;43m=\u001b[39;49m\u001b[38;5;241;43m64\u001b[39;49m\u001b[43m,\u001b[49m\u001b[43m \u001b[49m\u001b[43mdecoder_n_hidden\u001b[49m\u001b[38;5;241;43m=\u001b[39;49m\u001b[38;5;241;43m128\u001b[39;49m\u001b[43m,\u001b[49m\u001b[43m \u001b[49m\u001b[43mdecoder_dropout_rate\u001b[49m\u001b[38;5;241;43m=\u001b[39;49m\u001b[38;5;241;43m0.2\u001b[39;49m\u001b[43m)\u001b[49m\n",
      "Input \u001b[0;32mIn [5]\u001b[0m, in \u001b[0;36mtrain\u001b[0;34m(max_len, bs, lr, epochs, **kwargs)\u001b[0m\n\u001b[1;32m     27\u001b[0m criterion \u001b[38;5;241m=\u001b[39m nn\u001b[38;5;241m.\u001b[39mNLLLoss()\n\u001b[1;32m     29\u001b[0m \u001b[38;5;28;01mfor\u001b[39;00m e \u001b[38;5;129;01min\u001b[39;00m \u001b[38;5;28mrange\u001b[39m(epochs):\n\u001b[0;32m---> 30\u001b[0m     train_loss \u001b[38;5;241m=\u001b[39m \u001b[43mtrain_step\u001b[49m\u001b[43m(\u001b[49m\u001b[43mencoder_model\u001b[49m\u001b[43m,\u001b[49m\u001b[43m \u001b[49m\u001b[43mdecoder_model\u001b[49m\u001b[43m,\u001b[49m\u001b[43m \u001b[49m\u001b[43mtrain_loader\u001b[49m\u001b[43m,\u001b[49m\u001b[43m \u001b[49m\n\u001b[1;32m     31\u001b[0m \u001b[43m                            \u001b[49m\u001b[43mencoder_optimizer\u001b[49m\u001b[43m,\u001b[49m\u001b[43m \u001b[49m\u001b[43mdecoder_optimizer\u001b[49m\u001b[43m,\u001b[49m\u001b[43m \u001b[49m\u001b[43mcriterion\u001b[49m\u001b[43m,\u001b[49m\u001b[43m \u001b[49m\n\u001b[1;32m     32\u001b[0m \u001b[43m                            \u001b[49m\u001b[43mdevice\u001b[49m\u001b[43m)\u001b[49m\n\u001b[1;32m     33\u001b[0m     val_loss \u001b[38;5;241m=\u001b[39m eval_step(encoder_model, decoder_model, \n\u001b[1;32m     34\u001b[0m                          val_loader, criterion, device)\n\u001b[1;32m     37\u001b[0m \u001b[38;5;28;01mreturn\u001b[39;00m val_loss\n",
      "Input \u001b[0;32mIn [4]\u001b[0m, in \u001b[0;36mtrain_step\u001b[0;34m(enc_model, dec_model, loader, enc_opt, dec_opt, criterion, device)\u001b[0m\n\u001b[1;32m     15\u001b[0m dec_out, _ \u001b[38;5;241m=\u001b[39m dec_model(y, enc_states)\n\u001b[1;32m     17\u001b[0m loss \u001b[38;5;241m=\u001b[39m criterion(dec_out\u001b[38;5;241m.\u001b[39mmoveaxis(\u001b[38;5;241m1\u001b[39m, \u001b[38;5;241m-\u001b[39m\u001b[38;5;241m1\u001b[39m), y)\n\u001b[0;32m---> 18\u001b[0m \u001b[43mloss\u001b[49m\u001b[38;5;241;43m.\u001b[39;49m\u001b[43mbackward\u001b[49m\u001b[43m(\u001b[49m\u001b[43m)\u001b[49m\n\u001b[1;32m     20\u001b[0m enc_opt\u001b[38;5;241m.\u001b[39mstep()\n\u001b[1;32m     21\u001b[0m dec_opt\u001b[38;5;241m.\u001b[39mstep()\n",
      "File \u001b[0;32m/opt/homebrew/Caskroom/miniconda/base/envs/dialogue38/lib/python3.8/site-packages/torch/_tensor.py:487\u001b[0m, in \u001b[0;36mTensor.backward\u001b[0;34m(self, gradient, retain_graph, create_graph, inputs)\u001b[0m\n\u001b[1;32m    477\u001b[0m \u001b[38;5;28;01mif\u001b[39;00m has_torch_function_unary(\u001b[38;5;28mself\u001b[39m):\n\u001b[1;32m    478\u001b[0m     \u001b[38;5;28;01mreturn\u001b[39;00m handle_torch_function(\n\u001b[1;32m    479\u001b[0m         Tensor\u001b[38;5;241m.\u001b[39mbackward,\n\u001b[1;32m    480\u001b[0m         (\u001b[38;5;28mself\u001b[39m,),\n\u001b[0;32m   (...)\u001b[0m\n\u001b[1;32m    485\u001b[0m         inputs\u001b[38;5;241m=\u001b[39minputs,\n\u001b[1;32m    486\u001b[0m     )\n\u001b[0;32m--> 487\u001b[0m \u001b[43mtorch\u001b[49m\u001b[38;5;241;43m.\u001b[39;49m\u001b[43mautograd\u001b[49m\u001b[38;5;241;43m.\u001b[39;49m\u001b[43mbackward\u001b[49m\u001b[43m(\u001b[49m\n\u001b[1;32m    488\u001b[0m \u001b[43m    \u001b[49m\u001b[38;5;28;43mself\u001b[39;49m\u001b[43m,\u001b[49m\u001b[43m \u001b[49m\u001b[43mgradient\u001b[49m\u001b[43m,\u001b[49m\u001b[43m \u001b[49m\u001b[43mretain_graph\u001b[49m\u001b[43m,\u001b[49m\u001b[43m \u001b[49m\u001b[43mcreate_graph\u001b[49m\u001b[43m,\u001b[49m\u001b[43m \u001b[49m\u001b[43minputs\u001b[49m\u001b[38;5;241;43m=\u001b[39;49m\u001b[43minputs\u001b[49m\n\u001b[1;32m    489\u001b[0m \u001b[43m\u001b[49m\u001b[43m)\u001b[49m\n",
      "File \u001b[0;32m/opt/homebrew/Caskroom/miniconda/base/envs/dialogue38/lib/python3.8/site-packages/torch/autograd/__init__.py:197\u001b[0m, in \u001b[0;36mbackward\u001b[0;34m(tensors, grad_tensors, retain_graph, create_graph, grad_variables, inputs)\u001b[0m\n\u001b[1;32m    192\u001b[0m     retain_graph \u001b[38;5;241m=\u001b[39m create_graph\n\u001b[1;32m    194\u001b[0m \u001b[38;5;66;03m# The reason we repeat same the comment below is that\u001b[39;00m\n\u001b[1;32m    195\u001b[0m \u001b[38;5;66;03m# some Python versions print out the first line of a multi-line function\u001b[39;00m\n\u001b[1;32m    196\u001b[0m \u001b[38;5;66;03m# calls in the traceback and some print out the last line\u001b[39;00m\n\u001b[0;32m--> 197\u001b[0m \u001b[43mVariable\u001b[49m\u001b[38;5;241;43m.\u001b[39;49m\u001b[43m_execution_engine\u001b[49m\u001b[38;5;241;43m.\u001b[39;49m\u001b[43mrun_backward\u001b[49m\u001b[43m(\u001b[49m\u001b[43m  \u001b[49m\u001b[38;5;66;43;03m# Calls into the C++ engine to run the backward pass\u001b[39;49;00m\n\u001b[1;32m    198\u001b[0m \u001b[43m    \u001b[49m\u001b[43mtensors\u001b[49m\u001b[43m,\u001b[49m\u001b[43m \u001b[49m\u001b[43mgrad_tensors_\u001b[49m\u001b[43m,\u001b[49m\u001b[43m \u001b[49m\u001b[43mretain_graph\u001b[49m\u001b[43m,\u001b[49m\u001b[43m \u001b[49m\u001b[43mcreate_graph\u001b[49m\u001b[43m,\u001b[49m\u001b[43m \u001b[49m\u001b[43minputs\u001b[49m\u001b[43m,\u001b[49m\n\u001b[1;32m    199\u001b[0m \u001b[43m    \u001b[49m\u001b[43mallow_unreachable\u001b[49m\u001b[38;5;241;43m=\u001b[39;49m\u001b[38;5;28;43;01mTrue\u001b[39;49;00m\u001b[43m,\u001b[49m\u001b[43m \u001b[49m\u001b[43maccumulate_grad\u001b[49m\u001b[38;5;241;43m=\u001b[39;49m\u001b[38;5;28;43;01mTrue\u001b[39;49;00m\u001b[43m)\u001b[49m\n",
      "\u001b[0;31mKeyboardInterrupt\u001b[0m: "
     ]
    }
   ],
   "source": [
    "train(max_len, bs, lr, epochs, device=device,\n",
    "     encoder_embed_dim=64, encoder_n_layers=32, encoder_n_hidden=128, encoder_dropout_rate=0.2,\n",
    "     decoder_embed_dim=64, decoder_n_layers=64, decoder_n_hidden=128, decoder_dropout_rate=0.2)"
   ]
  },
  {
   "cell_type": "code",
   "execution_count": null,
   "metadata": {},
   "outputs": [],
   "source": []
  }
 ],
 "metadata": {
  "kernelspec": {
   "display_name": "Python 3 (ipykernel)",
   "language": "python",
   "name": "python3"
  },
  "language_info": {
   "codemirror_mode": {
    "name": "ipython",
    "version": 3
   },
   "file_extension": ".py",
   "mimetype": "text/x-python",
   "name": "python",
   "nbconvert_exporter": "python",
   "pygments_lexer": "ipython3",
   "version": "3.8.13"
  }
 },
 "nbformat": 4,
 "nbformat_minor": 4
}
