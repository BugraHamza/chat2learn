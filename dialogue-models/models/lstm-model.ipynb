{
 "cells": [
  {
   "cell_type": "code",
   "execution_count": 12,
   "metadata": {
    "_cell_guid": "b1076dfc-b9ad-4769-8c92-a6c4dae69d19",
    "_uuid": "8f2839f25d086af736a60e9eeb907d3b93b6e0e5",
    "tags": []
   },
   "outputs": [],
   "source": [
    "import re\n",
    "import random\n",
    "\n",
    "import numpy as np\n",
    "\n",
    "import torch\n",
    "import torch.nn as nn\n",
    "\n",
    "from torch.utils.data import DataLoader, Dataset\n",
    "from torch.optim import *\n",
    "\n",
    "from torchtext.data import get_tokenizer\n",
    "from torchtext.vocab import build_vocab_from_iterator\n",
    "\n",
    "from IPython.display import display, clear_output\n",
    "\n",
    "from nltk.tokenize.treebank import TreebankWordDetokenizer\n",
    "\n",
    "from datasets import load_dataset\n",
    "\n",
    "from tqdm.notebook import tqdm\n",
    "\n",
    "import matplotlib.pyplot as plt\n",
    "\n",
    "import wandb"
   ]
  },
  {
   "cell_type": "code",
   "execution_count": 2,
   "metadata": {
    "tags": []
   },
   "outputs": [],
   "source": [
    "DEVICE = 'cuda'\n",
    "MAXLEN = 100\n",
    "EPOCHS = 50\n",
    "BS = 16\n",
    "LR = 1e-5\n",
    "\n",
    "N_EMBED = 128\n",
    "N_LAYERS = 2\n",
    "N_HIDDEN = 256\n",
    "DROPOUT_RATE = 0.2\n",
    "\n",
    "special_tokens = {'bos_token': '|BOS|', \n",
    "                  'pad_token': '|PAD|', \n",
    "                  'eos_token': '|EOS|',\n",
    "                  'unk_token': '|UNK|'}\n"
   ]
  },
  {
   "cell_type": "code",
   "execution_count": 3,
   "metadata": {},
   "outputs": [
    {
     "name": "stderr",
     "output_type": "stream",
     "text": [
      "/home/sefa/anaconda3/envs/chat2learn/lib/python3.8/site-packages/torchtext/data/utils.py:105: UserWarning: Spacy model \"en\" could not be loaded, trying \"en_core_web_sm\" instead\n",
      "  warnings.warn(\n",
      "Using custom data configuration knkarthick--dialogsum-caf2f3e75d9073aa\n",
      "Found cached dataset csv (/home/sefa/.cache/huggingface/datasets/knkarthick___csv/knkarthick--dialogsum-caf2f3e75d9073aa/0.0.0/6b34fb8fcf56f7c8ba51dc895bfa2bfbe43546f190a60fcf74bb5e8afdcc2317)\n",
      "Using custom data configuration knkarthick--dialogsum-caf2f3e75d9073aa\n",
      "Found cached dataset csv (/home/sefa/.cache/huggingface/datasets/knkarthick___csv/knkarthick--dialogsum-caf2f3e75d9073aa/0.0.0/6b34fb8fcf56f7c8ba51dc895bfa2bfbe43546f190a60fcf74bb5e8afdcc2317)\n"
     ]
    }
   ],
   "source": [
    "def create_sentence_pairs(x):\n",
    "    sentences = re.split(r'[\\s]*#Person\\d#: ', x['dialogue'])[1:]\n",
    "    \n",
    "    sentence_pairs = []\n",
    "    for sent1, sent2 in zip(sentences[:-1], sentences[1:]):\n",
    "        sent_pair = ' '.join([special_tokens['bos_token'], sent1, \n",
    "                              special_tokens['pad_token'], sent2])\n",
    "        \n",
    "        sent = [tok for tok in tokenizer(sent_pair)]   #if tok in glove.stoi\n",
    "        sent = sent[:MAXLEN]\n",
    "        sent = sent + [special_tokens['eos_token']] * (MAXLEN - len(sent))\n",
    "        sentence_pairs.append(sent)\n",
    "        \n",
    "    return {'sentence_pairs': sentence_pairs}\n",
    "\n",
    "tokenizer = get_tokenizer('spacy')\n",
    "\n",
    "train_dataset = load_dataset('knkarthick/dialogsum', split='train')\n",
    "val_dataset = load_dataset('knkarthick/dialogsum', split='validation')"
   ]
  },
  {
   "cell_type": "code",
   "execution_count": 4,
   "metadata": {},
   "outputs": [
    {
     "data": {
      "application/vnd.jupyter.widget-view+json": {
       "model_id": "85a69d94c9f942f8a847e3135397c6a0",
       "version_major": 2,
       "version_minor": 0
      },
      "text/plain": [
       "  0%|          | 0/12460 [00:00<?, ?ex/s]"
      ]
     },
     "metadata": {},
     "output_type": "display_data"
    }
   ],
   "source": [
    "## vocab from iterator\n",
    "sentence_pairs = train_dataset.map(create_sentence_pairs)['sentence_pairs']\n",
    "flatten_tokens = [sent for sents in sentence_pairs for sent in sents]\n",
    "vocab = build_vocab_from_iterator(flatten_tokens, min_freq=5, specials=list(special_tokens.values()))\n",
    "vocab.set_default_index(vocab['|UNK|'])\n",
    "\n",
    "del sentence_pairs\n",
    "del flatten_tokens"
   ]
  },
  {
   "cell_type": "code",
   "execution_count": 5,
   "metadata": {},
   "outputs": [],
   "source": [
    "torch.save(vocab, 'lstm_chkpt/lstm_tokenizer.pth')"
   ]
  },
  {
   "cell_type": "code",
   "execution_count": 6,
   "metadata": {
    "tags": []
   },
   "outputs": [],
   "source": [
    "class LMDataset(Dataset):\n",
    "    def __init__(self, dataset):\n",
    "        super(LMDataset, self).__init__()\n",
    "\n",
    "        sentence_pairs = dataset.map(create_sentence_pairs)['sentence_pairs']\n",
    "        flatten_tokens = [sent for sents in sentence_pairs for sent in sents]\n",
    "        \n",
    "        del sentence_pairs\n",
    "        \n",
    "        self.tokens = torch.zeros((len(flatten_tokens), MAXLEN), dtype=torch.long, device=DEVICE)\n",
    "        for i, sent in enumerate(flatten_tokens):\n",
    "            self.tokens[i, :] = torch.tensor(vocab(sent))\n",
    "                            \n",
    "        del flatten_tokens\n",
    "        \n",
    "    def __getitem__(self, i):\n",
    "        return self.tokens[i]\n",
    "\n",
    "    def __len__(self):\n",
    "        return len(self.tokens)\n"
   ]
  },
  {
   "cell_type": "code",
   "execution_count": 7,
   "metadata": {
    "scrolled": true,
    "tags": []
   },
   "outputs": [
    {
     "data": {
      "application/vnd.jupyter.widget-view+json": {
       "model_id": "074a95ea37d44e5badd9b3f5a859bee9",
       "version_major": 2,
       "version_minor": 0
      },
      "text/plain": [
       "  0%|          | 0/12460 [00:00<?, ?ex/s]"
      ]
     },
     "metadata": {},
     "output_type": "display_data"
    },
    {
     "data": {
      "application/vnd.jupyter.widget-view+json": {
       "model_id": "5cb41640528540f1aaf9be2e6f5fba5a",
       "version_major": 2,
       "version_minor": 0
      },
      "text/plain": [
       "  0%|          | 0/500 [00:00<?, ?ex/s]"
      ]
     },
     "metadata": {},
     "output_type": "display_data"
    }
   ],
   "source": [
    "lm_train = LMDataset(train_dataset)\n",
    "lm_valid = LMDataset(val_dataset)"
   ]
  },
  {
   "cell_type": "code",
   "execution_count": 8,
   "metadata": {
    "tags": []
   },
   "outputs": [],
   "source": [
    "class LanguageModel(nn.Module):\n",
    "    def __init__(self, vocab_size, embed_dim=64, n_layers=32, n_hidden=128):\n",
    "        super(LanguageModel, self).__init__()\n",
    "                \n",
    "        self.embed = nn.Embedding(vocab_size, embedding_dim=embed_dim)\n",
    "        self.lstm = nn.LSTM(self.embed.embedding_dim, n_hidden, num_layers=n_layers, \n",
    "                            batch_first=True)\n",
    "        self.fc = nn.Linear(n_hidden, vocab_size)\n",
    "        \n",
    "        self.dropout = nn.Dropout(DROPOUT_RATE)\n",
    "        \n",
    "    def forward(self, x, states=None):\n",
    "        embeddings = self.dropout(self.embed(x))        \n",
    "        out, states = self.lstm(embeddings, states)\n",
    "        \n",
    "        #out = out.reshape(out.size(0)*out.size(1), out.size(2))\n",
    "        out = self.fc(out)\n",
    "        \n",
    "        return out, states\n"
   ]
  },
  {
   "cell_type": "code",
   "execution_count": 10,
   "metadata": {},
   "outputs": [],
   "source": [
    "def train_step(model, loader):\n",
    "    pbar = tqdm(loader, position=0, leave=False)\n",
    "    batch_losses = []\n",
    "    model.train()\n",
    "    \n",
    "    for i, batch in enumerate(pbar):\n",
    "        batch = batch.to(DEVICE)\n",
    "\n",
    "        states = (torch.zeros((N_LAYERS, batch.size(0), N_HIDDEN), device=DEVICE), \n",
    "                  torch.zeros((N_LAYERS, batch.size(0), N_HIDDEN), device=DEVICE))\n",
    "        \n",
    "        optimizer.zero_grad()\n",
    "        states = [state.detach() for state in states]\n",
    "        y_pred, states = model(batch[:, :-1], states)\n",
    "        loss = criterion(y_pred.moveaxis(1, -1), batch[:, 1:])\n",
    "        loss.backward()\n",
    "        torch.nn.utils.clip_grad_norm_(model.parameters(), 0.5)\n",
    "        optimizer.step()\n",
    "        \n",
    "        batch_losses.append(loss.item())\n",
    "        #pbar.set_description(f'Batch Loss: {loss.item():.3f} Train Loss: {np.mean(batch_losses):.3f}')\n",
    "        \n",
    "    return np.mean(batch_losses)\n",
    "\n",
    "\n",
    "def eval_step(model, loader):\n",
    "    model.eval()\n",
    "    \n",
    "    pbar = tqdm(loader, position=0, leave=False)\n",
    "    batch_losses = []\n",
    "\n",
    "    for i, batch in enumerate(pbar):\n",
    "        batch = batch.to(DEVICE)\n",
    "\n",
    "        y_pred, _ = model(batch[:, :-1])\n",
    "        loss = criterion(y_pred.moveaxis(1, -1), batch[:, 1:])\n",
    "        \n",
    "        batch_losses.append(loss.item())\n",
    "        #pbar.set_description(f'Batch Loss: {loss.item():.3f} Validation Loss: {np.mean(batch_losses):.3f}')\n",
    "        \n",
    "    return np.mean(batch_losses)\n",
    "\n",
    "\n",
    "def answer(model, sent):\n",
    "    model.eval()\n",
    "    \n",
    "    detokenizer = TreebankWordDetokenizer()\n",
    "    \n",
    "    sent = ' '.join([special_tokens['bos_token'], sent, special_tokens['pad_token']])\n",
    "    sent = vocab(tokenizer(sent))\n",
    "    sent = torch.tensor(sent, device=DEVICE)\n",
    "\n",
    "    with torch.no_grad():\n",
    "        y_pred, states = model(sent)\n",
    "\n",
    "        pred_tokens = y_pred.argmax(dim=-1, keepdim=True)\n",
    "        sent_preds = vocab.lookup_tokens(list(pred_tokens))\n",
    "\n",
    "        answer = []\n",
    "        for j in range(MAXLEN - len(sent)):\n",
    "            last_idx = pred_tokens[-1]\n",
    "            answer.append(vocab.lookup_token(last_idx))\n",
    "\n",
    "            if answer[-1] == special_tokens['eos_token']:\n",
    "                break\n",
    "\n",
    "            y_pred, states = model(last_idx, states)\n",
    "            pred_tokens = y_pred.argmax(dim=-1, keepdim=True)\n",
    "        \n",
    "        \n",
    "        return detokenizer.detokenize(answer)\n"
   ]
  },
  {
   "cell_type": "code",
   "execution_count": 14,
   "metadata": {
    "tags": []
   },
   "outputs": [
    {
     "data": {
      "image/png": "[encoded data removed]",
      "text/plain": [
       "<Figure size 640x480 with 1 Axes>"
      ]
     },
     "metadata": {},
     "output_type": "display_data"
    },
    {
     "data": {
      "image/png": "[encoded data removed]",
      "text/plain": [
       "<Figure size 640x480 with 1 Axes>"
      ]
     },
     "metadata": {},
     "output_type": "display_data"
    },
    {
     "data": {
      "application/vnd.jupyter.widget-view+json": {
       "model_id": "",
       "version_major": 2,
       "version_minor": 0
      },
      "text/plain": [
       "  0%|          | 0/6615 [00:00<?, ?it/s]"
      ]
     },
     "metadata": {},
     "output_type": "display_data"
    },
    {
     "data": {
      "application/vnd.jupyter.widget-view+json": {
       "model_id": "",
       "version_major": 2,
       "version_minor": 0
      },
      "text/plain": [
       "  0%|          | 0/262 [00:00<?, ?it/s]"
      ]
     },
     "metadata": {},
     "output_type": "display_data"
    },
    {
     "data": {
      "image/png": "[encoded data removed]",
      "text/plain": [
       "<Figure size 640x480 with 1 Axes>"
      ]
     },
     "metadata": {},
     "output_type": "display_data"
    },
    {
     "data": {
      "image/png": "[encoded data removed]",
      "text/plain": [
       "<Figure size 640x480 with 1 Axes>"
      ]
     },
     "metadata": {},
     "output_type": "display_data"
    }
   ],
   "source": [
    "train_loader = DataLoader(lm_train, batch_size=BS, shuffle=True)\n",
    "val_loader = DataLoader(lm_valid, batch_size=BS, shuffle=True)\n",
    "\n",
    "model = LanguageModel(len(vocab), embed_dim=N_EMBED, n_layers=N_LAYERS, n_hidden=N_HIDDEN).to(DEVICE)\n",
    "\n",
    "criterion = nn.CrossEntropyLoss()\n",
    "optimizer = Adam(model.parameters(), lr=LR)\n",
    "\n",
    "train_losses = []\n",
    "val_losses = []\n",
    "\n",
    "fig, (ax) = plt.subplots(1, 1)\n",
    "ax.set_xlabel('Epoch')\n",
    "ax.set_ylabel('loss')\n",
    "\n",
    "for epoch in range(EPOCHS):\n",
    "    ## training\n",
    "    train_loss = train_step(model, train_loader)\n",
    "    val_loss = eval_step(model, val_loader)\n",
    "\n",
    "    train_losses.append(train_loss)\n",
    "    val_losses.append(val_loss)\n",
    "\n",
    "    if epoch != EPOCHS -1:\n",
    "        clear_output(wait=True)\n",
    "\n",
    "    plt.plot(train_losses, 'b', label='Training loss')\n",
    "    plt.plot(val_losses, 'r', label='Validation loss')\n",
    "    plt.legend()\n",
    "\n",
    "    display(fig)\n",
    "    plt.pause(0.5)\n",
    "    \n",
    "# save the model after training\n",
    "torch.save(model, f'lstm_chkpt/lstm_model.pt')        \n"
   ]
  },
  {
   "cell_type": "code",
   "execution_count": null,
   "metadata": {},
   "outputs": [],
   "source": [
    "import matplotlib.pyplot as plt\n",
    "\n",
    "tlosses = trials[0]['train_losses']\n",
    "vlosses = trials[0]['val_losses']\n",
    "\n",
    "fig, (ax) = plt.subplots(1, 1)\n",
    "ax.set_xlabel('Epoch')\n",
    "ax.set_ylabel('loss')\n",
    "\n",
    "my_t, my_v = [], []\n",
    "for t, v in zip(tlosses, vlosses):\n",
    "    my_t.append(t)\n",
    "    my_v.append(v)\n",
    "    plt.plot(my_t, 'b', label='Training loss')\n",
    "    plt.plot(my_v, 'r', label='Validation Loss')\n",
    "    plt.legend()\n",
    "    \n",
    "    display(fig)\n",
    "    clear_output(wait = True)\n",
    "    plt.pause(0.5)"
   ]
  },
  {
   "cell_type": "code",
   "execution_count": 15,
   "metadata": {},
   "outputs": [
    {
     "data": {
      "text/plain": [
       "1.333923578262329"
      ]
     },
     "execution_count": 15,
     "metadata": {},
     "output_type": "execute_result"
    }
   ],
   "source": [
    "val_losses[-1]\n"
   ]
  },
  {
   "cell_type": "code",
   "execution_count": null,
   "metadata": {},
   "outputs": [],
   "source": []
  }
 ],
 "metadata": {
  "kernelspec": {
   "display_name": "Python 3 (ipykernel)",
   "language": "python",
   "name": "python3"
  },
  "language_info": {
   "codemirror_mode": {
    "name": "ipython",
    "version": 3
   },
   "file_extension": ".py",
   "mimetype": "text/x-python",
   "name": "python",
   "nbconvert_exporter": "python",
   "pygments_lexer": "ipython3",
   "version": "3.8.13"
  }
 },
 "nbformat": 4,
 "nbformat_minor": 4
}
