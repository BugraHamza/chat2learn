{
 "cells": [
  {
   "cell_type": "code",
   "execution_count": 1,
   "metadata": {
    "collapsed": false,
    "jupyter": {
     "outputs_hidden": false
    },
    "tags": []
   },
   "outputs": [
    {
     "ename": "RuntimeError",
     "evalue": "Failed to import transformers.models.auto because of the following error (look up to see its traceback):\nlibssl.so.10: cannot open shared object file: No such file or directory",
     "output_type": "error",
     "traceback": [
      "\u001b[0;31m---------------------------------------------------------------------------\u001b[0m",
      "\u001b[0;31mImportError\u001b[0m                               Traceback (most recent call last)",
      "File \u001b[0;32m~/anaconda3/envs/chat2learn/lib/python3.8/site-packages/transformers/utils/import_utils.py:1093\u001b[0m, in \u001b[0;36m_LazyModule._get_module\u001b[0;34m(self, module_name)\u001b[0m\n\u001b[1;32m   1092\u001b[0m \u001b[38;5;28;01mtry\u001b[39;00m:\n\u001b[0;32m-> 1093\u001b[0m     \u001b[38;5;28;01mreturn\u001b[39;00m \u001b[43mimportlib\u001b[49m\u001b[38;5;241;43m.\u001b[39;49m\u001b[43mimport_module\u001b[49m\u001b[43m(\u001b[49m\u001b[38;5;124;43m\"\u001b[39;49m\u001b[38;5;124;43m.\u001b[39;49m\u001b[38;5;124;43m\"\u001b[39;49m\u001b[43m \u001b[49m\u001b[38;5;241;43m+\u001b[39;49m\u001b[43m \u001b[49m\u001b[43mmodule_name\u001b[49m\u001b[43m,\u001b[49m\u001b[43m \u001b[49m\u001b[38;5;28;43mself\u001b[39;49m\u001b[38;5;241;43m.\u001b[39;49m\u001b[38;5;18;43m__name__\u001b[39;49m\u001b[43m)\u001b[49m\n\u001b[1;32m   1094\u001b[0m \u001b[38;5;28;01mexcept\u001b[39;00m \u001b[38;5;167;01mException\u001b[39;00m \u001b[38;5;28;01mas\u001b[39;00m e:\n",
      "File \u001b[0;32m~/anaconda3/envs/chat2learn/lib/python3.8/importlib/__init__.py:127\u001b[0m, in \u001b[0;36mimport_module\u001b[0;34m(name, package)\u001b[0m\n\u001b[1;32m    126\u001b[0m         level \u001b[38;5;241m+\u001b[39m\u001b[38;5;241m=\u001b[39m \u001b[38;5;241m1\u001b[39m\n\u001b[0;32m--> 127\u001b[0m \u001b[38;5;28;01mreturn\u001b[39;00m \u001b[43m_bootstrap\u001b[49m\u001b[38;5;241;43m.\u001b[39;49m\u001b[43m_gcd_import\u001b[49m\u001b[43m(\u001b[49m\u001b[43mname\u001b[49m\u001b[43m[\u001b[49m\u001b[43mlevel\u001b[49m\u001b[43m:\u001b[49m\u001b[43m]\u001b[49m\u001b[43m,\u001b[49m\u001b[43m \u001b[49m\u001b[43mpackage\u001b[49m\u001b[43m,\u001b[49m\u001b[43m \u001b[49m\u001b[43mlevel\u001b[49m\u001b[43m)\u001b[49m\n",
      "File \u001b[0;32m<frozen importlib._bootstrap>:1014\u001b[0m, in \u001b[0;36m_gcd_import\u001b[0;34m(name, package, level)\u001b[0m\n",
      "File \u001b[0;32m<frozen importlib._bootstrap>:991\u001b[0m, in \u001b[0;36m_find_and_load\u001b[0;34m(name, import_)\u001b[0m\n",
      "File \u001b[0;32m<frozen importlib._bootstrap>:961\u001b[0m, in \u001b[0;36m_find_and_load_unlocked\u001b[0;34m(name, import_)\u001b[0m\n",
      "File \u001b[0;32m<frozen importlib._bootstrap>:219\u001b[0m, in \u001b[0;36m_call_with_frames_removed\u001b[0;34m(f, *args, **kwds)\u001b[0m\n",
      "File \u001b[0;32m<frozen importlib._bootstrap>:1014\u001b[0m, in \u001b[0;36m_gcd_import\u001b[0;34m(name, package, level)\u001b[0m\n",
      "File \u001b[0;32m<frozen importlib._bootstrap>:991\u001b[0m, in \u001b[0;36m_find_and_load\u001b[0;34m(name, import_)\u001b[0m\n",
      "File \u001b[0;32m<frozen importlib._bootstrap>:975\u001b[0m, in \u001b[0;36m_find_and_load_unlocked\u001b[0;34m(name, import_)\u001b[0m\n",
      "File \u001b[0;32m<frozen importlib._bootstrap>:671\u001b[0m, in \u001b[0;36m_load_unlocked\u001b[0;34m(spec)\u001b[0m\n",
      "File \u001b[0;32m<frozen importlib._bootstrap_external>:843\u001b[0m, in \u001b[0;36mexec_module\u001b[0;34m(self, module)\u001b[0m\n",
      "File \u001b[0;32m<frozen importlib._bootstrap>:219\u001b[0m, in \u001b[0;36m_call_with_frames_removed\u001b[0;34m(f, *args, **kwds)\u001b[0m\n",
      "File \u001b[0;32m~/anaconda3/envs/chat2learn/lib/python3.8/site-packages/transformers/models/__init__.py:19\u001b[0m\n\u001b[1;32m      1\u001b[0m \u001b[38;5;66;03m# flake8: noqa\u001b[39;00m\n\u001b[1;32m      2\u001b[0m \u001b[38;5;66;03m# There's no way to ignore \"F401 '...' imported but unused\" warnings in this\u001b[39;00m\n\u001b[1;32m      3\u001b[0m \u001b[38;5;66;03m# module, but to preserve other warnings. So, don't check this module at all.\u001b[39;00m\n\u001b[0;32m   (...)\u001b[0m\n\u001b[1;32m     16\u001b[0m \u001b[38;5;66;03m# See the License for the specific language governing permissions and\u001b[39;00m\n\u001b[1;32m     17\u001b[0m \u001b[38;5;66;03m# limitations under the License.\u001b[39;00m\n\u001b[0;32m---> 19\u001b[0m \u001b[38;5;28;01mfrom\u001b[39;00m \u001b[38;5;21;01m.\u001b[39;00m \u001b[38;5;28;01mimport\u001b[39;00m (\n\u001b[1;32m     20\u001b[0m     albert,\n\u001b[1;32m     21\u001b[0m     audio_spectrogram_transformer,\n\u001b[1;32m     22\u001b[0m     auto,\n\u001b[1;32m     23\u001b[0m     bart,\n\u001b[1;32m     24\u001b[0m     barthez,\n\u001b[1;32m     25\u001b[0m     bartpho,\n\u001b[1;32m     26\u001b[0m     beit,\n\u001b[1;32m     27\u001b[0m     bert,\n\u001b[1;32m     28\u001b[0m     bert_generation,\n\u001b[1;32m     29\u001b[0m     bert_japanese,\n\u001b[1;32m     30\u001b[0m     bertweet,\n\u001b[1;32m     31\u001b[0m     big_bird,\n\u001b[1;32m     32\u001b[0m     bigbird_pegasus,\n\u001b[1;32m     33\u001b[0m     blenderbot,\n\u001b[1;32m     34\u001b[0m     blenderbot_small,\n\u001b[1;32m     35\u001b[0m     bloom,\n\u001b[1;32m     36\u001b[0m     bort,\n\u001b[1;32m     37\u001b[0m     byt5,\n\u001b[1;32m     38\u001b[0m     camembert,\n\u001b[1;32m     39\u001b[0m     canine,\n\u001b[1;32m     40\u001b[0m     chinese_clip,\n\u001b[1;32m     41\u001b[0m     clip,\n\u001b[1;32m     42\u001b[0m     clipseg,\n\u001b[1;32m     43\u001b[0m     codegen,\n\u001b[1;32m     44\u001b[0m     conditional_detr,\n\u001b[1;32m     45\u001b[0m     convbert,\n\u001b[1;32m     46\u001b[0m     convnext,\n\u001b[1;32m     47\u001b[0m     cpm,\n\u001b[1;32m     48\u001b[0m     ctrl,\n\u001b[1;32m     49\u001b[0m     cvt,\n\u001b[1;32m     50\u001b[0m     data2vec,\n\u001b[1;32m     51\u001b[0m     deberta,\n\u001b[1;32m     52\u001b[0m     deberta_v2,\n\u001b[1;32m     53\u001b[0m     decision_transformer,\n\u001b[1;32m     54\u001b[0m     deformable_detr,\n\u001b[1;32m     55\u001b[0m     deit,\n\u001b[1;32m     56\u001b[0m     detr,\n\u001b[1;32m     57\u001b[0m     dialogpt,\n\u001b[1;32m     58\u001b[0m     dinat,\n\u001b[1;32m     59\u001b[0m     distilbert,\n\u001b[1;32m     60\u001b[0m     dit,\n\u001b[1;32m     61\u001b[0m     donut,\n\u001b[1;32m     62\u001b[0m     dpr,\n\u001b[1;32m     63\u001b[0m     dpt,\n\u001b[1;32m     64\u001b[0m     electra,\n\u001b[1;32m     65\u001b[0m     encoder_decoder,\n\u001b[1;32m     66\u001b[0m     ernie,\n\u001b[1;32m     67\u001b[0m     esm,\n\u001b[1;32m     68\u001b[0m     flaubert,\n\u001b[1;32m     69\u001b[0m     flava,\n\u001b[1;32m     70\u001b[0m     fnet,\n\u001b[1;32m     71\u001b[0m     fsmt,\n\u001b[1;32m     72\u001b[0m     funnel,\n\u001b[1;32m     73\u001b[0m     glpn,\n\u001b[1;32m     74\u001b[0m     gpt2,\n\u001b[1;32m     75\u001b[0m     gpt_neo,\n\u001b[1;32m     76\u001b[0m     gpt_neox,\n\u001b[1;32m     77\u001b[0m     gpt_neox_japanese,\n\u001b[1;32m     78\u001b[0m     gptj,\n\u001b[1;32m     79\u001b[0m     groupvit,\n\u001b[1;32m     80\u001b[0m     herbert,\n\u001b[1;32m     81\u001b[0m     hubert,\n\u001b[1;32m     82\u001b[0m     ibert,\n\u001b[1;32m     83\u001b[0m     imagegpt,\n\u001b[1;32m     84\u001b[0m     jukebox,\n\u001b[1;32m     85\u001b[0m     layoutlm,\n\u001b[1;32m     86\u001b[0m     layoutlmv2,\n\u001b[1;32m     87\u001b[0m     layoutlmv3,\n\u001b[1;32m     88\u001b[0m     layoutxlm,\n\u001b[1;32m     89\u001b[0m     led,\n\u001b[1;32m     90\u001b[0m     levit,\n\u001b[1;32m     91\u001b[0m     lilt,\n\u001b[1;32m     92\u001b[0m     longformer,\n\u001b[1;32m     93\u001b[0m     longt5,\n\u001b[1;32m     94\u001b[0m     luke,\n\u001b[1;32m     95\u001b[0m     lxmert,\n\u001b[1;32m     96\u001b[0m     m2m_100,\n\u001b[1;32m     97\u001b[0m     marian,\n\u001b[1;32m     98\u001b[0m     markuplm,\n\u001b[1;32m     99\u001b[0m     maskformer,\n\u001b[1;32m    100\u001b[0m     mbart,\n\u001b[1;32m    101\u001b[0m     mbart50,\n\u001b[1;32m    102\u001b[0m     mctct,\n\u001b[1;32m    103\u001b[0m     megatron_bert,\n\u001b[1;32m    104\u001b[0m     megatron_gpt2,\n\u001b[1;32m    105\u001b[0m     mluke,\n\u001b[1;32m    106\u001b[0m     mmbt,\n\u001b[1;32m    107\u001b[0m     mobilebert,\n\u001b[1;32m    108\u001b[0m     mobilenet_v1,\n\u001b[1;32m    109\u001b[0m     mobilenet_v2,\n\u001b[1;32m    110\u001b[0m     mobilevit,\n\u001b[1;32m    111\u001b[0m     mpnet,\n\u001b[1;32m    112\u001b[0m     mt5,\n\u001b[1;32m    113\u001b[0m     mvp,\n\u001b[1;32m    114\u001b[0m     nat,\n\u001b[1;32m    115\u001b[0m     nezha,\n\u001b[1;32m    116\u001b[0m     nllb,\n\u001b[1;32m    117\u001b[0m     nystromformer,\n\u001b[1;32m    118\u001b[0m     openai,\n\u001b[1;32m    119\u001b[0m     opt,\n\u001b[1;32m    120\u001b[0m     owlvit,\n\u001b[1;32m    121\u001b[0m     pegasus,\n\u001b[1;32m    122\u001b[0m     pegasus_x,\n\u001b[1;32m    123\u001b[0m     perceiver,\n\u001b[1;32m    124\u001b[0m     phobert,\n\u001b[1;32m    125\u001b[0m     plbart,\n\u001b[1;32m    126\u001b[0m     poolformer,\n\u001b[1;32m    127\u001b[0m     prophetnet,\n\u001b[1;32m    128\u001b[0m     qdqbert,\n\u001b[1;32m    129\u001b[0m     rag,\n\u001b[1;32m    130\u001b[0m     realm,\n\u001b[1;32m    131\u001b[0m     reformer,\n\u001b[1;32m    132\u001b[0m     regnet,\n\u001b[1;32m    133\u001b[0m     rembert,\n\u001b[1;32m    134\u001b[0m     resnet,\n\u001b[1;32m    135\u001b[0m     retribert,\n\u001b[1;32m    136\u001b[0m     roberta,\n\u001b[1;32m    137\u001b[0m     roc_bert,\n\u001b[1;32m    138\u001b[0m     roformer,\n\u001b[1;32m    139\u001b[0m     segformer,\n\u001b[1;32m    140\u001b[0m     sew,\n\u001b[1;32m    141\u001b[0m     sew_d,\n\u001b[1;32m    142\u001b[0m     speech_encoder_decoder,\n\u001b[1;32m    143\u001b[0m     speech_to_text,\n\u001b[1;32m    144\u001b[0m     speech_to_text_2,\n\u001b[1;32m    145\u001b[0m     splinter,\n\u001b[1;32m    146\u001b[0m     squeezebert,\n\u001b[1;32m    147\u001b[0m     swin,\n\u001b[1;32m    148\u001b[0m     swinv2,\n\u001b[1;32m    149\u001b[0m     switch_transformers,\n\u001b[1;32m    150\u001b[0m     t5,\n\u001b[1;32m    151\u001b[0m     table_transformer,\n\u001b[1;32m    152\u001b[0m     tapas,\n\u001b[1;32m    153\u001b[0m     tapex,\n\u001b[1;32m    154\u001b[0m     time_series_transformer,\n\u001b[1;32m    155\u001b[0m     trajectory_transformer,\n\u001b[1;32m    156\u001b[0m     transfo_xl,\n\u001b[1;32m    157\u001b[0m     trocr,\n\u001b[1;32m    158\u001b[0m     unispeech,\n\u001b[1;32m    159\u001b[0m     unispeech_sat,\n\u001b[1;32m    160\u001b[0m     van,\n\u001b[1;32m    161\u001b[0m     videomae,\n\u001b[1;32m    162\u001b[0m     vilt,\n\u001b[1;32m    163\u001b[0m     vision_encoder_decoder,\n\u001b[1;32m    164\u001b[0m     vision_text_dual_encoder,\n\u001b[1;32m    165\u001b[0m     visual_bert,\n\u001b[1;32m    166\u001b[0m     vit,\n\u001b[1;32m    167\u001b[0m     vit_mae,\n\u001b[1;32m    168\u001b[0m     vit_msn,\n\u001b[1;32m    169\u001b[0m     wav2vec2,\n\u001b[1;32m    170\u001b[0m     wav2vec2_conformer,\n\u001b[1;32m    171\u001b[0m     wav2vec2_phoneme,\n\u001b[1;32m    172\u001b[0m     wav2vec2_with_lm,\n\u001b[1;32m    173\u001b[0m     wavlm,\n\u001b[1;32m    174\u001b[0m     whisper,\n\u001b[1;32m    175\u001b[0m     x_clip,\n\u001b[1;32m    176\u001b[0m     xglm,\n\u001b[1;32m    177\u001b[0m     xlm,\n\u001b[1;32m    178\u001b[0m     xlm_prophetnet,\n\u001b[1;32m    179\u001b[0m     xlm_roberta,\n\u001b[1;32m    180\u001b[0m     xlm_roberta_xl,\n\u001b[1;32m    181\u001b[0m     xlnet,\n\u001b[1;32m    182\u001b[0m     yolos,\n\u001b[1;32m    183\u001b[0m     yoso,\n\u001b[1;32m    184\u001b[0m )\n",
      "File \u001b[0;32m~/anaconda3/envs/chat2learn/lib/python3.8/site-packages/transformers/models/mt5/__init__.py:40\u001b[0m\n\u001b[1;32m     39\u001b[0m \u001b[38;5;28;01mif\u001b[39;00m is_tokenizers_available():\n\u001b[0;32m---> 40\u001b[0m     \u001b[38;5;28;01mfrom\u001b[39;00m \u001b[38;5;21;01m.\u001b[39;00m\u001b[38;5;21;01m.\u001b[39;00m\u001b[38;5;21;01mt5\u001b[39;00m\u001b[38;5;21;01m.\u001b[39;00m\u001b[38;5;21;01mtokenization_t5_fast\u001b[39;00m \u001b[38;5;28;01mimport\u001b[39;00m T5TokenizerFast\n\u001b[1;32m     41\u001b[0m \u001b[38;5;28;01melse\u001b[39;00m:\n",
      "File \u001b[0;32m~/anaconda3/envs/chat2learn/lib/python3.8/site-packages/transformers/models/t5/tokenization_t5_fast.py:24\u001b[0m\n\u001b[1;32m     22\u001b[0m \u001b[38;5;28;01mfrom\u001b[39;00m \u001b[38;5;21;01mtyping\u001b[39;00m \u001b[38;5;28;01mimport\u001b[39;00m List, Optional, Tuple\n\u001b[0;32m---> 24\u001b[0m \u001b[38;5;28;01mfrom\u001b[39;00m \u001b[38;5;21;01m.\u001b[39;00m\u001b[38;5;21;01m.\u001b[39;00m\u001b[38;5;21;01m.\u001b[39;00m\u001b[38;5;21;01mtokenization_utils_fast\u001b[39;00m \u001b[38;5;28;01mimport\u001b[39;00m PreTrainedTokenizerFast\n\u001b[1;32m     25\u001b[0m \u001b[38;5;28;01mfrom\u001b[39;00m \u001b[38;5;21;01m.\u001b[39;00m\u001b[38;5;21;01m.\u001b[39;00m\u001b[38;5;21;01m.\u001b[39;00m\u001b[38;5;21;01mutils\u001b[39;00m \u001b[38;5;28;01mimport\u001b[39;00m is_sentencepiece_available, logging\n",
      "File \u001b[0;32m~/anaconda3/envs/chat2learn/lib/python3.8/site-packages/transformers/tokenization_utils_fast.py:25\u001b[0m\n\u001b[1;32m     23\u001b[0m \u001b[38;5;28;01mfrom\u001b[39;00m \u001b[38;5;21;01mtyping\u001b[39;00m \u001b[38;5;28;01mimport\u001b[39;00m Any, Dict, List, Optional, Tuple, Union\n\u001b[0;32m---> 25\u001b[0m \u001b[38;5;28;01mimport\u001b[39;00m \u001b[38;5;21;01mtokenizers\u001b[39;00m\u001b[38;5;21;01m.\u001b[39;00m\u001b[38;5;21;01mpre_tokenizers\u001b[39;00m \u001b[38;5;28;01mas\u001b[39;00m \u001b[38;5;21;01mpre_tokenizers_fast\u001b[39;00m\n\u001b[1;32m     26\u001b[0m \u001b[38;5;28;01mfrom\u001b[39;00m \u001b[38;5;21;01mtokenizers\u001b[39;00m \u001b[38;5;28;01mimport\u001b[39;00m Encoding \u001b[38;5;28;01mas\u001b[39;00m EncodingFast\n",
      "File \u001b[0;32m~/anaconda3/envs/chat2learn/lib/python3.8/site-packages/tokenizers/__init__.py:79\u001b[0m\n\u001b[1;32m     76\u001b[0m     CONTIGUOUS \u001b[38;5;241m=\u001b[39m \u001b[38;5;124m\"\u001b[39m\u001b[38;5;124mcontiguous\u001b[39m\u001b[38;5;124m\"\u001b[39m\n\u001b[0;32m---> 79\u001b[0m \u001b[38;5;28;01mfrom\u001b[39;00m \u001b[38;5;21;01m.\u001b[39;00m\u001b[38;5;21;01mtokenizers\u001b[39;00m \u001b[38;5;28;01mimport\u001b[39;00m (\n\u001b[1;32m     80\u001b[0m     Tokenizer,\n\u001b[1;32m     81\u001b[0m     Encoding,\n\u001b[1;32m     82\u001b[0m     AddedToken,\n\u001b[1;32m     83\u001b[0m     Regex,\n\u001b[1;32m     84\u001b[0m     NormalizedString,\n\u001b[1;32m     85\u001b[0m     PreTokenizedString,\n\u001b[1;32m     86\u001b[0m     Token,\n\u001b[1;32m     87\u001b[0m )\n\u001b[1;32m     88\u001b[0m \u001b[38;5;28;01mfrom\u001b[39;00m \u001b[38;5;21;01m.\u001b[39;00m\u001b[38;5;21;01mtokenizers\u001b[39;00m \u001b[38;5;28;01mimport\u001b[39;00m decoders\n",
      "\u001b[0;31mImportError\u001b[0m: libssl.so.10: cannot open shared object file: No such file or directory",
      "\nThe above exception was the direct cause of the following exception:\n",
      "\u001b[0;31mRuntimeError\u001b[0m                              Traceback (most recent call last)",
      "Cell \u001b[0;32mIn[1], line 11\u001b[0m\n\u001b[1;32m      8\u001b[0m \u001b[38;5;28;01mfrom\u001b[39;00m \u001b[38;5;21;01mtorch\u001b[39;00m\u001b[38;5;21;01m.\u001b[39;00m\u001b[38;5;21;01mutils\u001b[39;00m\u001b[38;5;21;01m.\u001b[39;00m\u001b[38;5;21;01mdata\u001b[39;00m \u001b[38;5;28;01mimport\u001b[39;00m Dataset, DataLoader\n\u001b[1;32m      9\u001b[0m \u001b[38;5;28;01mfrom\u001b[39;00m \u001b[38;5;21;01mtorch\u001b[39;00m\u001b[38;5;21;01m.\u001b[39;00m\u001b[38;5;21;01moptim\u001b[39;00m\u001b[38;5;21;01m.\u001b[39;00m\u001b[38;5;21;01mlr_scheduler\u001b[39;00m \u001b[38;5;28;01mimport\u001b[39;00m StepLR\n\u001b[0;32m---> 11\u001b[0m \u001b[38;5;28;01mfrom\u001b[39;00m \u001b[38;5;21;01mtransformers\u001b[39;00m \u001b[38;5;28;01mimport\u001b[39;00m AutoTokenizer, AutoModelForCausalLM, AutoConfig\n\u001b[1;32m     12\u001b[0m \u001b[38;5;28;01mfrom\u001b[39;00m \u001b[38;5;21;01mdatasets\u001b[39;00m \u001b[38;5;28;01mimport\u001b[39;00m load_dataset\n\u001b[1;32m     14\u001b[0m \u001b[38;5;28;01mfrom\u001b[39;00m \u001b[38;5;21;01mtqdm\u001b[39;00m\u001b[38;5;21;01m.\u001b[39;00m\u001b[38;5;21;01mnotebook\u001b[39;00m \u001b[38;5;28;01mimport\u001b[39;00m tqdm\n",
      "File \u001b[0;32m<frozen importlib._bootstrap>:1039\u001b[0m, in \u001b[0;36m_handle_fromlist\u001b[0;34m(module, fromlist, import_, recursive)\u001b[0m\n",
      "File \u001b[0;32m~/anaconda3/envs/chat2learn/lib/python3.8/site-packages/transformers/utils/import_utils.py:1083\u001b[0m, in \u001b[0;36m_LazyModule.__getattr__\u001b[0;34m(self, name)\u001b[0m\n\u001b[1;32m   1081\u001b[0m     value \u001b[38;5;241m=\u001b[39m \u001b[38;5;28mself\u001b[39m\u001b[38;5;241m.\u001b[39m_get_module(name)\n\u001b[1;32m   1082\u001b[0m \u001b[38;5;28;01melif\u001b[39;00m name \u001b[38;5;129;01min\u001b[39;00m \u001b[38;5;28mself\u001b[39m\u001b[38;5;241m.\u001b[39m_class_to_module\u001b[38;5;241m.\u001b[39mkeys():\n\u001b[0;32m-> 1083\u001b[0m     module \u001b[38;5;241m=\u001b[39m \u001b[38;5;28;43mself\u001b[39;49m\u001b[38;5;241;43m.\u001b[39;49m\u001b[43m_get_module\u001b[49m\u001b[43m(\u001b[49m\u001b[38;5;28;43mself\u001b[39;49m\u001b[38;5;241;43m.\u001b[39;49m\u001b[43m_class_to_module\u001b[49m\u001b[43m[\u001b[49m\u001b[43mname\u001b[49m\u001b[43m]\u001b[49m\u001b[43m)\u001b[49m\n\u001b[1;32m   1084\u001b[0m     value \u001b[38;5;241m=\u001b[39m \u001b[38;5;28mgetattr\u001b[39m(module, name)\n\u001b[1;32m   1085\u001b[0m \u001b[38;5;28;01melse\u001b[39;00m:\n",
      "File \u001b[0;32m~/anaconda3/envs/chat2learn/lib/python3.8/site-packages/transformers/utils/import_utils.py:1095\u001b[0m, in \u001b[0;36m_LazyModule._get_module\u001b[0;34m(self, module_name)\u001b[0m\n\u001b[1;32m   1093\u001b[0m     \u001b[38;5;28;01mreturn\u001b[39;00m importlib\u001b[38;5;241m.\u001b[39mimport_module(\u001b[38;5;124m\"\u001b[39m\u001b[38;5;124m.\u001b[39m\u001b[38;5;124m\"\u001b[39m \u001b[38;5;241m+\u001b[39m module_name, \u001b[38;5;28mself\u001b[39m\u001b[38;5;241m.\u001b[39m\u001b[38;5;18m__name__\u001b[39m)\n\u001b[1;32m   1094\u001b[0m \u001b[38;5;28;01mexcept\u001b[39;00m \u001b[38;5;167;01mException\u001b[39;00m \u001b[38;5;28;01mas\u001b[39;00m e:\n\u001b[0;32m-> 1095\u001b[0m     \u001b[38;5;28;01mraise\u001b[39;00m \u001b[38;5;167;01mRuntimeError\u001b[39;00m(\n\u001b[1;32m   1096\u001b[0m         \u001b[38;5;124mf\u001b[39m\u001b[38;5;124m\"\u001b[39m\u001b[38;5;124mFailed to import \u001b[39m\u001b[38;5;132;01m{\u001b[39;00m\u001b[38;5;28mself\u001b[39m\u001b[38;5;241m.\u001b[39m\u001b[38;5;18m__name__\u001b[39m\u001b[38;5;132;01m}\u001b[39;00m\u001b[38;5;124m.\u001b[39m\u001b[38;5;132;01m{\u001b[39;00mmodule_name\u001b[38;5;132;01m}\u001b[39;00m\u001b[38;5;124m because of the following error (look up to see its\u001b[39m\u001b[38;5;124m\"\u001b[39m\n\u001b[1;32m   1097\u001b[0m         \u001b[38;5;124mf\u001b[39m\u001b[38;5;124m\"\u001b[39m\u001b[38;5;124m traceback):\u001b[39m\u001b[38;5;130;01m\\n\u001b[39;00m\u001b[38;5;132;01m{\u001b[39;00me\u001b[38;5;132;01m}\u001b[39;00m\u001b[38;5;124m\"\u001b[39m\n\u001b[1;32m   1098\u001b[0m     ) \u001b[38;5;28;01mfrom\u001b[39;00m \u001b[38;5;21;01me\u001b[39;00m\n",
      "\u001b[0;31mRuntimeError\u001b[0m: Failed to import transformers.models.auto because of the following error (look up to see its traceback):\nlibssl.so.10: cannot open shared object file: No such file or directory"
     ]
    }
   ],
   "source": [
    "import re\n",
    "import random\n",
    "\n",
    "import numpy as np\n",
    "\n",
    "import torch\n",
    "from torch.optim import Adam\n",
    "from torch.utils.data import Dataset, DataLoader\n",
    "from torch.optim.lr_scheduler import StepLR\n",
    "\n",
    "from transformers import AutoTokenizer, AutoModelForCausalLM, AutoConfig\n",
    "from datasets import load_dataset\n",
    "\n",
    "from tqdm.notebook import tqdm"
   ]
  },
  {
   "cell_type": "code",
   "execution_count": null,
   "metadata": {
    "tags": []
   },
   "outputs": [],
   "source": [
    "MODEL_NAME = 'gpt2'\n",
    "\n",
    "# get gpt2 tokenizer and add special tokens\n",
    "tokenizer = AutoTokenizer.from_pretrained(MODEL_NAME)\n",
    "tokenizer.add_special_tokens({'bos_token': '<BOS>', 'eos_token': '<EOS>', 'unk_token': '<UNK>', 'pad_token': '<PAD>'})\n",
    "\n",
    "# get gpt2 model and resize the output shape based on the tokens added\n",
    "model = AutoModelForCausalLM.from_pretrained(MODEL_NAME)\n",
    "model.resize_token_embeddings(len(tokenizer))"
   ]
  },
  {
   "cell_type": "code",
   "execution_count": null,
   "metadata": {},
   "outputs": [],
   "source": [
    "DEVICE = 'cuda'\n",
    "MAXLEN = 100\n",
    "EPOCHS = 10\n",
    "BS = 4\n",
    "LR = 0.001\n",
    "\n",
    "def create_sentence_pairs(x):\n",
    "    sentences = re.split(r'[\\s]*#Person\\d#: ', x['dialogue'])[1:]\n",
    "    return {'sentence_pairs': [' '.join([tokenizer.bos_token, sent1, tokenizer.pad_token, sent2, tokenizer.eos_token]) for sent1, sent2 in zip(sentences[:-1], sentences[1:])]}\n"
   ]
  },
  {
   "cell_type": "code",
   "execution_count": null,
   "metadata": {},
   "outputs": [],
   "source": [
    "train_dataset = load_dataset('knkarthick/dialogsum', split='train')\n",
    "val_dataset = load_dataset('knkarthick/dialogsum', split='validation')\n",
    "\n",
    "train_dataset = train_dataset.map(create_sentence_pairs)\n",
    "val_dataset = val_dataset.map(create_sentence_pairs)"
   ]
  },
  {
   "cell_type": "code",
   "execution_count": null,
   "metadata": {},
   "outputs": [],
   "source": [
    "class GPTDataset(Dataset):\n",
    "    def __init__(self, sentence_pairs):\n",
    "        self.sentence_pairs = [pair for pair_ls in sentence_pairs for pair in pair_ls]\n",
    "        random.shuffle(self.sentence_pairs)\n",
    "        self.sentence_pairs = self.sentence_pairs\n",
    "\n",
    "        self.tokenized_pairs = tokenizer(self.sentence_pairs, max_length=MAXLEN, padding='max_length', truncation=True, return_tensors='pt')\n",
    "        self.tokenized_inputs = self.tokenized_pairs['input_ids']\n",
    "        self.tokenized_mask = self.tokenized_pairs['attention_mask']\n",
    "\n",
    "    def __getitem__(self, item):\n",
    "        return {'input_ids': self.tokenized_inputs[item],\n",
    "                'attention_mask': self.tokenized_mask[item]}\n",
    "\n",
    "    def __len__(self):\n",
    "        return len(self.sentence_pairs)\n"
   ]
  },
  {
   "cell_type": "code",
   "execution_count": null,
   "metadata": {},
   "outputs": [],
   "source": [
    "gpt_train = GPTDataset(train_dataset['sentence_pairs'])\n",
    "gpt_valid = GPTDataset(val_dataset['sentence_pairs'])"
   ]
  },
  {
   "cell_type": "code",
   "execution_count": null,
   "metadata": {},
   "outputs": [],
   "source": [
    "train_loader = DataLoader(gpt_train, batch_size=BS, shuffle=True)\n",
    "val_loader = DataLoader(gpt_valid, batch_size=BS, shuffle=True)"
   ]
  },
  {
   "cell_type": "code",
   "execution_count": null,
   "metadata": {},
   "outputs": [],
   "source": [
    "sent = tokenizer.bos_token + 'Hi, how are you today?' + tokenizer.pad_token\n",
    "tok_sent = tokenizer(sent, max_length=MAXLEN, return_tensors='pt')\n",
    "\n",
    "tok_sent = {k: v.to(DEVICE) for k, v in tok_sent.items()}"
   ]
  },
  {
   "cell_type": "code",
   "execution_count": null,
   "metadata": {},
   "outputs": [],
   "source": [
    "## training loop\n",
    "wandb.init('gpt2_tuner', project='chat2learn', config={'batch_size': BS, \n",
    "                                                       'learning_rate': LR, \n",
    "                                                       'epochs': EPOCHS})\n",
    "\n",
    "optimizer = Adam(model.parameters(), lr=LR)\n",
    "#scheduler = StepLR(optimizer, step_size=500, gamma=0.5)\n",
    "\n",
    "model = model.to(DEVICE)\n",
    "\n",
    "for epoch in range(EPOCHS):\n",
    "    model.train()\n",
    "    pbar = tqdm(enumerate(train_loader))\n",
    "    train_losses = []\n",
    "    for idx, x in pbar:\n",
    "        for k in x.keys():\n",
    "            x[k] = x[k].to(DEVICE)\n",
    "\n",
    "        optimizer.zero_grad()\n",
    "        loss = model(**x, labels=x['input_ids']).loss\n",
    "        loss.backward()\n",
    "        optimizer.step()\n",
    "\n",
    "        train_losses.append(loss.item())\n",
    "        pbar.set_description(f'Loss: {np.mean(train_losses):.3f}')\n",
    "\n",
    "        wandb.log({'epochs': epoch,\n",
    "                   'learning_rate': LR,\n",
    "                   'loss': loss.item()})\n",
    "        \n",
    "        if idx % 1000 == 999:\n",
    "            model.eval()\n",
    "            gpt_out = model.generate(**tok_sent)\n",
    "            print(list(map(tokenizer.decode, gpt_out)))\n",
    "\n",
    "            model.train()\n",
    "        \n",
    "        #scheduler.step()\n",
    "        \n",
    "    model.eval()\n",
    "    pbar = tqdm(val_loader)\n",
    "    val_losses = []\n",
    "    min_val_loss = None\n",
    "    for x in pbar:\n",
    "        for k in x.keys():\n",
    "            x[k] = x[k].to(DEVICE)\n",
    "\n",
    "        loss = model(**x, labels=x['input_ids']).loss\n",
    "\n",
    "        val_losses.append(loss.item())\n",
    "        pbar.set_description(f'Validation Loss: {np.mean(val_losses):.3f}')\n",
    "\n",
    "        wandb.log({'epochs': epoch, 'learning_rate': LR, 'val_loss': loss.item()})\n",
    "\n",
    "    if min_val_loss is None or np.mean(val_losses) < min_val_loss:\n",
    "        min_val_loss = np.mean(val_losses)\n",
    "        torch.save(model, 'gpt_model.pt')"
   ]
  },
  {
   "cell_type": "code",
   "execution_count": null,
   "metadata": {},
   "outputs": [],
   "source": [
    "torch.save(model, 'gpt_model')"
   ]
  },
  {
   "cell_type": "code",
   "execution_count": null,
   "metadata": {},
   "outputs": [],
   "source": [
    "while True:\n",
    "    pass\n"
   ]
  }
 ],
 "metadata": {
  "kernelspec": {
   "display_name": "Python 3 (ipykernel)",
   "language": "python",
   "name": "python3"
  },
  "language_info": {
   "codemirror_mode": {
    "name": "ipython",
    "version": 3
   },
   "file_extension": ".py",
   "mimetype": "text/x-python",
   "name": "python",
   "nbconvert_exporter": "python",
   "pygments_lexer": "ipython3",
   "version": "3.8.13"
  }
 },
 "nbformat": 4,
 "nbformat_minor": 4
}
