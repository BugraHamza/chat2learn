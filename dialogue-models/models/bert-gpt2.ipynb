{
 "cells": [
  {
   "cell_type": "code",
   "execution_count": 2,
   "metadata": {
    "_cell_guid": "b1076dfc-b9ad-4769-8c92-a6c4dae69d19",
    "_uuid": "8f2839f25d086af736a60e9eeb907d3b93b6e0e5",
    "tags": []
   },
   "outputs": [],
   "source": [
    "import os\n",
    "import re\n",
    "from itertools import chain\n",
    "import numpy as np\n",
    "import pandas as pd\n",
    "import torch\n",
    "import torch.nn as nn\n",
    "import torch.optim as optim\n",
    "from torch.utils.data import Dataset, DataLoader\n",
    "\n",
    "from transformers import AutoModel, AutoModelForCausalLM, AutoTokenizer, set_seed\n",
    "from datasets import load_dataset\n",
    "\n",
    "from IPython.display import clear_output\n",
    "import matplotlib.pyplot as plt\n",
    "from tqdm.notebook import tqdm\n",
    "\n",
    "\n",
    "set_seed(42)"
   ]
  },
  {
   "cell_type": "code",
   "execution_count": 3,
   "metadata": {
    "tags": []
   },
   "outputs": [],
   "source": [
    "class Seq2SeqDataset(Dataset):\n",
    "    def __init__(self, dataset, bert_tokenizer, gpt_tokenizer, bert_device, gpt_device):\n",
    "        super(Seq2SeqDataset, self).__init__()\n",
    "        \n",
    "        self.bert_tokenizer = bert_tokenizer\n",
    "        self.gpt_tokenizer = gpt_tokenizer\n",
    "        self.bert_device = bert_device\n",
    "        self.gpt_device = gpt_device\n",
    "        \n",
    "        self.sent1, self.sent2 = self.create_pair_dataset(dataset)\n",
    "        \n",
    "    def __getitem__(self, i):\n",
    "        bert_sent1 = self.bert_tokenizer(self.sent1[i], padding='max_length', truncation=True, return_tensors='pt')\n",
    "        gpt_sent2 = self.gpt_tokenizer(self.sent2[i], padding='max_length', truncation=True, return_tensors='pt')\n",
    "        \n",
    "        bert_sent1 = {k: v.squeeze().to(self.bert_device) for k, v in bert_sent1.items()}\n",
    "        gpt_sent2 = {k: v.squeeze().to(self.gpt_device) for k, v in gpt_sent2.items()}\n",
    "        \n",
    "        return bert_sent1, gpt_sent2\n",
    "    \n",
    "    def __len__(self):\n",
    "        return len(self.sent1)\n",
    "    \n",
    "    def create_tokenized_pairs(self, x):\n",
    "        sentences = re.split(r'[\\s]*#Person\\d#: ', x['dialogue'])[1:]\n",
    "\n",
    "        sentences1 = sentences[:-1]\n",
    "        sentences2 = list(map(lambda x: self.gpt_tokenizer.bos_token + x + self.gpt_tokenizer.eos_token, sentences[1:]))\n",
    "\n",
    "        return {'sent1': sentences1, 'sent2': sentences2}\n",
    "    \n",
    "    def create_pair_dataset(self, dataset):\n",
    "        tokenized_dataset = dataset.map(self.create_tokenized_pairs)\n",
    "\n",
    "        flatten_sent1 = [sent for sents in tokenized_dataset['sent1'] for sent in sents]\n",
    "        flatten_sent2 = [sent for sents in tokenized_dataset['sent2'] for sent in sents]\n",
    "\n",
    "        df = pd.DataFrame({'sent1':flatten_sent1,'sent2':flatten_sent2}).drop_duplicates()\n",
    "        \n",
    "        return df['sent1'].tolist(), df['sent2'].tolist()\n"
   ]
  },
  {
   "cell_type": "code",
   "execution_count": 5,
   "metadata": {
    "tags": []
   },
   "outputs": [],
   "source": [
    "def get_bert_model_tokenizer(path, model_max_length, bert_device):\n",
    "    tokenizer = AutoTokenizer.from_pretrained('bert-base-cased', model_max_length=model_max_length)\n",
    "    model = AutoModel.from_pretrained(path)\n",
    "    \n",
    "    return model.to(bert_device), tokenizer\n",
    "\n",
    "\n",
    "def get_gpt_model_tokenizer(path, model_max_length, gpt_device):\n",
    "    special_tokens = {'bos_token': '<BOS>', 'eos_token': '<EOS>', \n",
    "                      'unk_token': '<UNK>', 'pad_token': '<PAD>'}\n",
    "    \n",
    "    tokenizer = AutoTokenizer.from_pretrained('gpt2', model_max_length=model_max_length)\n",
    "    tokenizer.add_special_tokens(special_tokens)\n",
    "    \n",
    "    model = AutoModelForCausalLM.from_pretrained(path, add_cross_attention=True)\n",
    "    model.resize_token_embeddings(len(tokenizer))\n",
    "    model.config.add_cross_attention = True\n",
    "    model.config.is_decoder = True\n",
    "    \n",
    "    return model.to(gpt_device), tokenizer\n"
   ]
  },
  {
   "cell_type": "code",
   "execution_count": 7,
   "metadata": {},
   "outputs": [
    {
     "data": {
      "application/vnd.jupyter.widget-view+json": {
       "model_id": "bbdd60a378f9461ca468f38f7a9e0fbc",
       "version_major": 2,
       "version_minor": 0
      },
      "text/plain": [
       "Downloading:   0%|          | 0.00/436M [00:00<?, ?B/s]"
      ]
     },
     "metadata": {},
     "output_type": "display_data"
    },
    {
     "name": "stderr",
     "output_type": "stream",
     "text": [
      "Some weights of the model checkpoint at bert-base-cased were not used when initializing BertModel: ['cls.predictions.transform.LayerNorm.weight', 'cls.seq_relationship.weight', 'cls.predictions.transform.LayerNorm.bias', 'cls.seq_relationship.bias', 'cls.predictions.transform.dense.bias', 'cls.predictions.transform.dense.weight', 'cls.predictions.decoder.weight', 'cls.predictions.bias']\n",
      "- This IS expected if you are initializing BertModel from the checkpoint of a model trained on another task or with another architecture (e.g. initializing a BertForSequenceClassification model from a BertForPreTraining model).\n",
      "- This IS NOT expected if you are initializing BertModel from the checkpoint of a model that you expect to be exactly identical (initializing a BertForSequenceClassification model from a BertForSequenceClassification model).\n",
      "Some weights of GPT2LMHeadModel were not initialized from the model checkpoint at gpt2 and are newly initialized: ['h.11.crossattention.c_proj.weight', 'h.3.ln_cross_attn.weight', 'h.0.crossattention.q_attn.weight', 'h.5.crossattention.bias', 'h.10.crossattention.masked_bias', 'h.8.crossattention.bias', 'h.8.ln_cross_attn.weight', 'h.0.crossattention.masked_bias', 'h.2.crossattention.c_attn.weight', 'h.8.crossattention.q_attn.weight', 'h.11.crossattention.masked_bias', 'h.7.crossattention.bias', 'h.8.crossattention.c_attn.weight', 'h.11.ln_cross_attn.weight', 'h.1.crossattention.masked_bias', 'h.8.crossattention.c_proj.weight', 'h.5.crossattention.c_proj.weight', 'h.3.crossattention.bias', 'h.9.crossattention.c_proj.weight', 'h.6.crossattention.q_attn.weight', 'h.0.crossattention.c_proj.bias', 'h.6.ln_cross_attn.weight', 'h.4.crossattention.c_proj.bias', 'h.2.crossattention.q_attn.weight', 'h.10.ln_cross_attn.weight', 'h.1.crossattention.q_attn.weight', 'h.6.crossattention.c_proj.weight', 'h.8.crossattention.masked_bias', 'h.2.crossattention.bias', 'h.4.crossattention.c_attn.weight', 'h.11.crossattention.bias', 'h.3.crossattention.q_attn.weight', 'h.0.crossattention.bias', 'h.2.ln_cross_attn.weight', 'h.10.crossattention.c_proj.weight', 'h.7.crossattention.masked_bias', 'h.5.crossattention.masked_bias', 'h.7.ln_cross_attn.weight', 'h.11.crossattention.c_proj.bias', 'h.4.crossattention.bias', 'h.7.crossattention.q_attn.weight', 'h.0.ln_cross_attn.weight', 'h.0.crossattention.c_attn.weight', 'h.8.crossattention.c_proj.bias', 'h.2.crossattention.masked_bias', 'h.6.crossattention.c_proj.bias', 'h.7.crossattention.c_proj.weight', 'h.6.crossattention.masked_bias', 'h.9.crossattention.c_proj.bias', 'h.1.crossattention.c_proj.weight', 'h.9.crossattention.masked_bias', 'h.6.crossattention.bias', 'h.7.crossattention.c_attn.weight', 'h.10.crossattention.c_attn.weight', 'h.3.crossattention.c_proj.weight', 'h.11.crossattention.c_attn.weight', 'h.1.crossattention.c_attn.weight', 'h.0.crossattention.c_proj.weight', 'h.5.crossattention.c_proj.bias', 'h.9.ln_cross_attn.weight', 'h.6.crossattention.c_attn.weight', 'h.4.crossattention.c_proj.weight', 'h.4.crossattention.q_attn.weight', 'h.10.crossattention.q_attn.weight', 'h.5.crossattention.q_attn.weight', 'h.3.crossattention.c_proj.bias', 'h.10.crossattention.c_proj.bias', 'h.7.crossattention.c_proj.bias', 'h.5.crossattention.c_attn.weight', 'h.2.crossattention.c_proj.bias', 'h.2.crossattention.c_proj.weight', 'h.1.ln_cross_attn.weight', 'h.3.crossattention.c_attn.weight', 'h.4.crossattention.masked_bias', 'h.9.crossattention.q_attn.weight', 'h.9.crossattention.bias', 'h.9.crossattention.c_attn.weight', 'h.1.crossattention.bias', 'h.1.crossattention.c_proj.bias', 'h.3.crossattention.masked_bias', 'h.11.crossattention.q_attn.weight', 'h.4.ln_cross_attn.weight', 'h.10.crossattention.bias', 'h.5.ln_cross_attn.weight']\n",
      "You should probably TRAIN this model on a down-stream task to be able to use it for predictions and inference.\n",
      "Using custom data configuration knkarthick--dialogsum-caf2f3e75d9073aa\n",
      "Found cached dataset csv (/Users/bugrahamzagundog/.cache/huggingface/datasets/knkarthick___csv/knkarthick--dialogsum-caf2f3e75d9073aa/0.0.0/6b34fb8fcf56f7c8ba51dc895bfa2bfbe43546f190a60fcf74bb5e8afdcc2317)\n"
     ]
    },
    {
     "data": {
      "application/vnd.jupyter.widget-view+json": {
       "model_id": "5ba57ef976964629835818043565116e",
       "version_major": 2,
       "version_minor": 0
      },
      "text/plain": [
       "  0%|          | 0/12460 [00:00<?, ?ex/s]"
      ]
     },
     "metadata": {},
     "output_type": "display_data"
    }
   ],
   "source": [
    "max_len = 50\n",
    "bert_device=torch.device('cpu')\n",
    "gpt_device=torch.device('cpu')\n",
    "\n",
    "bert_encoder, bert_tokenizer = get_bert_model_tokenizer('bert-base-cased', max_len, bert_device)\n",
    "gpt_decoder, gpt_tokenizer = get_gpt_model_tokenizer('gpt2', max_len, gpt_device)\n",
    "\n",
    "train_data = load_dataset('knkarthick/dialogsum', split='train')\n",
    "train_dataset = Seq2SeqDataset(train_data, bert_tokenizer, gpt_tokenizer, bert_device, gpt_device)"
   ]
  },
  {
   "cell_type": "code",
   "execution_count": 12,
   "metadata": {},
   "outputs": [
    {
     "data": {
      "text/plain": [
       "(\"[CLS] Yes, well, you haven't had one for 5 years. You should have one every year. [SEP] [PAD] [PAD] [PAD] [PAD] [PAD] [PAD] [PAD] [PAD] [PAD] [PAD] [PAD] [PAD] [PAD] [PAD] [PAD] [PAD] [PAD] [PAD] [PAD] [PAD] [PAD] [PAD] [PAD] [PAD] [PAD] [PAD] [PAD]\",\n",
       " '<BOS>I know. I figure as long as there is nothing wrong, why go see the doctor?<EOS><PAD><PAD><PAD><PAD><PAD><PAD><PAD><PAD><PAD><PAD><PAD><PAD><PAD><PAD><PAD><PAD><PAD><PAD><PAD><PAD><PAD><PAD><PAD><PAD><PAD><PAD><PAD><PAD><PAD>')"
      ]
     },
     "execution_count": 12,
     "metadata": {},
     "output_type": "execute_result"
    }
   ],
   "source": [
    "sent1, sent2 = train_dataset[2]\n",
    "bert_tokenizer.decode(sent1['input_ids']), gpt_tokenizer.decode(sent2['input_ids'])"
   ]
  },
  {
   "cell_type": "code",
   "execution_count": 5,
   "metadata": {
    "execution": {
     "iopub.execute_input": "2023-01-04T12:13:53.541224Z",
     "iopub.status.busy": "2023-01-04T12:13:53.540776Z",
     "iopub.status.idle": "2023-01-04T12:13:53.553254Z",
     "shell.execute_reply": "2023-01-04T12:13:53.552240Z",
     "shell.execute_reply.started": "2023-01-04T12:13:53.541149Z"
    }
   },
   "outputs": [],
   "source": [
    "def get_dataloader(bs, bert_tokenizer, gpt_tokenizer, bert_device, gpt_device):\n",
    "    train_data = load_dataset('knkarthick/dialogsum', split='train')\n",
    "    val_data = load_dataset('knkarthick/dialogsum', split='validation')\n",
    "\n",
    "    train_dataset = Seq2SeqDataset(train_data, bert_tokenizer, gpt_tokenizer, bert_device, gpt_device)\n",
    "    val_dataset = Seq2SeqDataset(val_data, bert_tokenizer, gpt_tokenizer, bert_device, gpt_device)\n",
    "    \n",
    "    train_dataloader = DataLoader(train_dataset, batch_size=bs, shuffle=True)\n",
    "    val_dataloader = DataLoader(val_dataset, batch_size=bs, shuffle=True)\n",
    "    \n",
    "    return train_dataloader, val_dataloader"
   ]
  },
  {
   "cell_type": "code",
   "execution_count": 6,
   "metadata": {
    "execution": {
     "iopub.execute_input": "2023-01-04T12:13:53.555477Z",
     "iopub.status.busy": "2023-01-04T12:13:53.554894Z",
     "iopub.status.idle": "2023-01-04T12:13:53.571293Z",
     "shell.execute_reply": "2023-01-04T12:13:53.570369Z",
     "shell.execute_reply.started": "2023-01-04T12:13:53.555442Z"
    }
   },
   "outputs": [],
   "source": [
    "class Seq2SeqModel:\n",
    "    def __init__(self, bert_model, gpt_model, bert_tokenizer, gpt_tokenizer):\n",
    "        self.bert_model = bert_model\n",
    "        self.gpt_model = gpt_model\n",
    "        self.bert_tokenizer = bert_tokenizer\n",
    "        self.gpt_tokenizer = gpt_tokenizer\n",
    "        \n",
    "    def train_step(self, dataloader, optimizer):\n",
    "        self.bert_model.train(), self.gpt_model.train()\n",
    "        losses = []\n",
    "\n",
    "        pbar = tqdm(dataloader)\n",
    "        for i, (x, y) in enumerate(pbar):\n",
    "            optimizer.zero_grad()\n",
    "            bert_out = self.bert_model(**x)\n",
    "            gpt_out = self.gpt_model(**y, labels=y['input_ids'], \n",
    "                                     encoder_hidden_states=bert_out.last_hidden_state.to(self.gpt_model.device))\n",
    "            loss = gpt_out.loss\n",
    "            loss.backward()\n",
    "            optimizer.step()\n",
    "\n",
    "            losses.append(loss.item())\n",
    "            pbar.set_description(f'Batch Loss: {np.mean(losses):.5f}')\n",
    "        \n",
    "        return np.mean(losses)\n",
    "        \n",
    "    def eval_step(self, dataloader):\n",
    "        self.bert_model.eval(), self.gpt_model.eval()\n",
    "        losses = []\n",
    "\n",
    "        pbar = tqdm(dataloader)\n",
    "        for i, (x, y) in enumerate(pbar):\n",
    "            bert_out = self.bert_model(**x)\n",
    "            gpt_out = self.gpt_model(**y, labels=y['input_ids'], \n",
    "                                     encoder_hidden_states=bert_out.last_hidden_state.to(self.gpt_model.device))\n",
    "            loss = gpt_out.loss\n",
    "\n",
    "            losses.append(loss.item())\n",
    "            pbar.set_description(f'Batch Loss: {np.mean(losses):.5f}')\n",
    "        \n",
    "        return np.mean(losses)\n",
    "    \n",
    "    def answer(self, sent):\n",
    "        with torch.no_grad():\n",
    "            tokenized_sent = self.bert_tokenizer(sent, padding='max_length', \n",
    "                                                 truncation=True, return_tensors='pt')\n",
    "            tokenized_ans = self.gpt_tokenizer(self.gpt_tokenizer.bos_token, return_tensors='pt')\n",
    "\n",
    "            tokenized_sent = {k: v.to(self.bert_model.device) for k, v in tokenized_sent.items()}\n",
    "            tokenized_ans = {k: v.to(self.gpt_model.device) for k, v in tokenized_ans.items()}\n",
    "            \n",
    "            bert_out = self.bert_model(**tokenized_sent)\n",
    "            gpt_out = self.gpt_model.generate(**tokenized_ans, max_new_tokens=30, temperature=0.9, \n",
    "                                              encoder_hidden_state=bert_out.last_hidden_state)\n",
    "\n",
    "            return self.gpt_tokenizer.decode(gpt_out[0])\n",
    "\n",
    "    def save(self, model_dir):\n",
    "        os.makedirs(model_dir, exist_ok=True)\n",
    "        self.bert_model.save_pretrained(os.path.join(model_dir, 'bert_encoder'))\n",
    "        self.gpt_model.save_pretrained(os.path.join(model_dir, 'gpt_decoder'))\n",
    "        "
   ]
  },
  {
   "cell_type": "code",
   "execution_count": 7,
   "metadata": {
    "execution": {
     "iopub.execute_input": "2023-01-04T12:15:01.606859Z",
     "iopub.status.busy": "2023-01-04T12:15:01.606344Z",
     "iopub.status.idle": "2023-01-04T12:15:01.615802Z",
     "shell.execute_reply": "2023-01-04T12:15:01.614480Z",
     "shell.execute_reply.started": "2023-01-04T12:15:01.606809Z"
    }
   },
   "outputs": [],
   "source": [
    "max_len = 50\n",
    "bert_device=torch.device('cuda:0')\n",
    "gpt_device=torch.device('cuda:1')\n",
    "bs = 4\n",
    "lr = 1e-5"
   ]
  },
  {
   "cell_type": "code",
   "execution_count": 8,
   "metadata": {
    "execution": {
     "iopub.execute_input": "2023-01-04T12:15:07.861283Z",
     "iopub.status.busy": "2023-01-04T12:15:07.860925Z",
     "iopub.status.idle": "2023-01-04T16:48:28.896188Z",
     "shell.execute_reply": "2023-01-04T16:48:28.895095Z",
     "shell.execute_reply.started": "2023-01-04T12:15:07.861252Z"
    }
   },
   "outputs": [
    {
     "name": "stdout",
     "output_type": "stream",
     "text": [
      "  Training Loss Validation Loss\n",
      "0           NaN         0.99507\n",
      "1      0.993247          0.9565\n",
      "2      0.930136        0.939213\n",
      "3      0.877437        0.930218\n"
     ]
    },
    {
     "data": {
      "application/vnd.jupyter.widget-view+json": {
       "model_id": "3dfe69f5d27a4ea9ab8bd93f514f89e8",
       "version_major": 2,
       "version_minor": 0
      },
      "text/plain": [
       "  0%|          | 0/23583 [00:00<?, ?it/s]"
      ]
     },
     "metadata": {},
     "output_type": "display_data"
    },
    {
     "data": {
      "application/vnd.jupyter.widget-view+json": {
       "model_id": "98779f5d5ade46fc8f751386fdb30119",
       "version_major": 2,
       "version_minor": 0
      },
      "text/plain": [
       "  0%|          | 0/1042 [00:00<?, ?it/s]"
      ]
     },
     "metadata": {},
     "output_type": "display_data"
    }
   ],
   "source": [
    "bert_encoder, bert_tokenizer = get_bert_model_tokenizer('/kaggle/input/bertgpt2bestmodel/bert_gpt_1_1/bert_encoder', max_len, bert_device)\n",
    "gpt_decoder, gpt_tokenizer = get_gpt_model_tokenizer('/kaggle/input/bertgpt2bestmodel/bert_gpt_1_1/gpt_decoder', max_len, gpt_device)\n",
    "\n",
    "train_loader, val_loader = get_dataloader(bs, bert_tokenizer, gpt_tokenizer, bert_device, gpt_device)\n",
    "opt = optim.Adam(chain(gpt_decoder.parameters(), bert_encoder.parameters()), lr=lr)\n",
    "\n",
    "seq2seq_model = Seq2SeqModel(bert_encoder, gpt_decoder, bert_tokenizer, gpt_tokenizer)\n",
    "\n",
    "\n",
    "df = pd.DataFrame(columns=['Training Loss', 'Validation Loss'])\n",
    "df.at[0, 'Validation Loss'] = 0.99507\n",
    "\n",
    "for e in range(1, 5):\n",
    "    print(df)\n",
    "    \n",
    "    train_loss = seq2seq_model.train_step(train_loader, opt)\n",
    "    val_loss = seq2seq_model.eval_step(val_loader)\n",
    "\n",
    "    df.at[e, 'Training Loss'] = train_loss\n",
    "    df.at[e, 'Validation Loss'] = val_loss\n",
    "\n",
    "    clear_output(wait=True)\n",
    "\n",
    "    seq2seq_model.save(f'bert_gpt2_epoch_{e}')\n"
   ]
  },
  {
   "cell_type": "code",
   "execution_count": 11,
   "metadata": {
    "execution": {
     "iopub.execute_input": "2023-01-04T17:00:43.238807Z",
     "iopub.status.busy": "2023-01-04T17:00:43.238386Z",
     "iopub.status.idle": "2023-01-04T17:01:41.958731Z",
     "shell.execute_reply": "2023-01-04T17:01:41.957512Z",
     "shell.execute_reply.started": "2023-01-04T17:00:43.238771Z"
    }
   },
   "outputs": [
    {
     "name": "stdout",
     "output_type": "stream",
     "text": [
      "huggingface/tokenizers: The current process just got forked, after parallelism has already been used. Disabling parallelism to avoid deadlocks...\n",
      "To disable this warning, you can either:\n",
      "\t- Avoid using `tokenizers` before the fork if possible\n",
      "\t- Explicitly set the environment variable TOKENIZERS_PARALLELISM=(true | false)\n",
      "  adding: kaggle/working/bert_gpt2_epoch_3/ (stored 0%)\n",
      "  adding: kaggle/working/bert_gpt2_epoch_3/gpt_decoder/ (stored 0%)\n",
      "  adding: kaggle/working/bert_gpt2_epoch_3/gpt_decoder/config.json (deflated 51%)\n",
      "  adding: kaggle/working/bert_gpt2_epoch_3/gpt_decoder/pytorch_model.bin (deflated 11%)\n",
      "  adding: kaggle/working/bert_gpt2_epoch_3/bert_encoder/ (stored 0%)\n",
      "  adding: kaggle/working/bert_gpt2_epoch_3/bert_encoder/config.json (deflated 48%)\n",
      "  adding: kaggle/working/bert_gpt2_epoch_3/bert_encoder/pytorch_model.bin (deflated 7%)\n"
     ]
    }
   ],
   "source": [
    "!zip -r bert_gpt2_epoch3.zip /kaggle/working/bert_gpt2_epoch_3"
   ]
  },
  {
   "cell_type": "code",
   "execution_count": 12,
   "metadata": {
    "execution": {
     "iopub.execute_input": "2023-01-04T17:01:42.289524Z",
     "iopub.status.busy": "2023-01-04T17:01:42.288478Z",
     "iopub.status.idle": "2023-01-04T17:01:42.553812Z",
     "shell.execute_reply": "2023-01-04T17:01:42.552469Z",
     "shell.execute_reply.started": "2023-01-04T17:01:42.289477Z"
    }
   },
   "outputs": [
    {
     "data": {
      "text/plain": [
       "<AxesSubplot:>"
      ]
     },
     "execution_count": 12,
     "metadata": {},
     "output_type": "execute_result"
    },
    {
     "data": {
      "image/png": "[encoded data removed]",
      "text/plain": [
       "<Figure size 432x288 with 1 Axes>"
      ]
     },
     "metadata": {
      "needs_background": "light"
     },
     "output_type": "display_data"
    }
   ],
   "source": [
    "df.plot()"
   ]
  },
  {
   "cell_type": "code",
   "execution_count": null,
   "metadata": {},
   "outputs": [],
   "source": []
  }
 ],
 "metadata": {
  "kernelspec": {
   "display_name": "Python 3 (ipykernel)",
   "language": "python",
   "name": "python3"
  },
  "language_info": {
   "codemirror_mode": {
    "name": "ipython",
    "version": 3
   },
   "file_extension": ".py",
   "mimetype": "text/x-python",
   "name": "python",
   "nbconvert_exporter": "python",
   "pygments_lexer": "ipython3",
   "version": "3.8.13"
  }
 },
 "nbformat": 4,
 "nbformat_minor": 4
}
