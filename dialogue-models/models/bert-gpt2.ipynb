{
 "metadata": {
  "kernelspec": {
   "language": "python",
   "display_name": "Python 3",
   "name": "python3"
  },
  "language_info": {
   "name": "python",
   "version": "3.7.12",
   "mimetype": "text/x-python",
   "codemirror_mode": {
    "name": "ipython",
    "version": 3
   },
   "pygments_lexer": "ipython3",
   "nbconvert_exporter": "python",
   "file_extension": ".py"
  }
 },
 "nbformat_minor": 4,
 "nbformat": 4,
 "cells": [
  {
   "cell_type": "code",
   "source": [
    "import os\n",
    "import re\n",
    "from itertools import chain\n",
    "import numpy as np\n",
    "\n",
    "import torch\n",
    "import torch.nn as nn\n",
    "import torch.optim as optim\n",
    "from torch.utils.data import Dataset, DataLoader\n",
    "\n",
    "from transformers import AutoModel, AutoModelForCausalLM, AutoTokenizer\n",
    "from datasets import load_dataset\n",
    "\n",
    "from IPython.display import clear_output\n",
    "import matplotlib.pyplot as plt\n",
    "from tqdm.notebook import tqdm \n",
    "import optuna"
   ],
   "metadata": {
    "_uuid": "8f2839f25d086af736a60e9eeb907d3b93b6e0e5",
    "_cell_guid": "b1076dfc-b9ad-4769-8c92-a6c4dae69d19",
    "execution": {
     "iopub.status.busy": "2022-12-25T07:29:42.383250Z",
     "iopub.execute_input": "2022-12-25T07:29:42.383699Z",
     "iopub.status.idle": "2022-12-25T07:29:48.315698Z",
     "shell.execute_reply.started": "2022-12-25T07:29:42.383623Z",
     "shell.execute_reply": "2022-12-25T07:29:48.314615Z"
    },
    "trusted": true
   },
   "execution_count": 1,
   "outputs": []
  },
  {
   "cell_type": "code",
   "source": [
    "class Seq2SeqDataset(Dataset):\n",
    "    def __init__(self, dataset, bert_tokenizer, gpt_tokenizer, bert_device, gpt_device):\n",
    "        super(Seq2SeqDataset, self).__init__()\n",
    "        \n",
    "        self.bert_tokenizer = bert_tokenizer\n",
    "        self.gpt_tokenizer = gpt_tokenizer\n",
    "        self.bert_device = bert_device\n",
    "        self.gpt_device = gpt_device\n",
    "        \n",
    "        self.sent1, self.sent2 = self.create_pair_dataset(dataset)\n",
    "        \n",
    "    def __getitem__(self, i):\n",
    "        bert_sent1 = self.bert_tokenizer(self.sent1[i], padding='max_length', truncation=True, return_tensors='pt')\n",
    "        gpt_sent2 = self.gpt_tokenizer(self.sent2[i], padding='max_length', truncation=True, return_tensors='pt')\n",
    "        \n",
    "        bert_sent1 = {k: v.squeeze().to(self.bert_device) for k, v in bert_sent1.items()}\n",
    "        gpt_sent2 = {k: v.squeeze().to(self.gpt_device) for k, v in gpt_sent2.items()}\n",
    "        \n",
    "        return bert_sent1, gpt_sent2\n",
    "    \n",
    "    def __len__(self):\n",
    "        return len(self.sent1)\n",
    "    \n",
    "    def create_tokenized_pairs(self, x):\n",
    "        sentences = re.split(r'[\\s]*#Person\\d#: ', x['dialogue'])[1:]\n",
    "\n",
    "        sentences1 = sentences[:-1]\n",
    "        sentences2 = list(map(lambda x: self.gpt_tokenizer.bos_token + x + self.gpt_tokenizer.eos_token, sentences[1:]))\n",
    "\n",
    "        return {'sent1': sentences1, 'sent2': sentences2}\n",
    "    \n",
    "    def create_pair_dataset(self, dataset):\n",
    "        tokenized_dataset = dataset.map(self.create_tokenized_pairs)\n",
    "\n",
    "        flatten_sent1 = [sent for sents in tokenized_dataset['sent1'] for sent in sents]\n",
    "        flatten_sent2 = [sent for sents in tokenized_dataset['sent2'] for sent in sents]\n",
    "\n",
    "        return flatten_sent1, flatten_sent2\n"
   ],
   "metadata": {
    "execution": {
     "iopub.status.busy": "2022-12-25T07:29:48.317848Z",
     "iopub.execute_input": "2022-12-25T07:29:48.318492Z",
     "iopub.status.idle": "2022-12-25T07:29:48.459849Z",
     "shell.execute_reply.started": "2022-12-25T07:29:48.318448Z",
     "shell.execute_reply": "2022-12-25T07:29:48.458789Z"
    },
    "trusted": true
   },
   "execution_count": 2,
   "outputs": []
  },
  {
   "cell_type": "code",
   "source": [
    "def get_bert_model_tokenizer(path, model_max_length, bert_device):\n",
    "    tokenizer = AutoTokenizer.from_pretrained(path, model_max_length=model_max_length)\n",
    "    model = AutoModel.from_pretrained(path)\n",
    "    \n",
    "    return model.to(bert_device), tokenizer\n",
    "\n",
    "\n",
    "def get_gpt_model_tokenizer(path, model_max_length, gpt_device):\n",
    "    special_tokens = {'bos_token': '<BOS>', 'eos_token': '<EOS>', \n",
    "                      'unk_token': '<UNK>', 'pad_token': '<PAD>'}\n",
    "    \n",
    "    tokenizer = AutoTokenizer.from_pretrained(path, model_max_length=model_max_length)\n",
    "    tokenizer.add_special_tokens(special_tokens)\n",
    "    \n",
    "    model = AutoModelForCausalLM.from_pretrained(path, add_cross_attention=True)\n",
    "    model.resize_token_embeddings(len(tokenizer))\n",
    "    model.config.add_cross_attention = True\n",
    "    model.config.is_decoder = True\n",
    "    \n",
    "    return model.to(gpt_device), tokenizer\n"
   ],
   "metadata": {
    "execution": {
     "iopub.status.busy": "2022-12-25T07:29:48.461392Z",
     "iopub.execute_input": "2022-12-25T07:29:48.462036Z",
     "iopub.status.idle": "2022-12-25T07:29:48.480996Z",
     "shell.execute_reply.started": "2022-12-25T07:29:48.462000Z",
     "shell.execute_reply": "2022-12-25T07:29:48.479945Z"
    },
    "trusted": true
   },
   "execution_count": 3,
   "outputs": []
  },
  {
   "cell_type": "code",
   "source": [
    "def get_dataloader(bs, bert_tokenizer, gpt_tokenizer, bert_device, gpt_device):\n",
    "    train_data = load_dataset('knkarthick/dialogsum', split='train')\n",
    "    val_data = load_dataset('knkarthick/dialogsum', split='validation')\n",
    "\n",
    "    train_dataset = Seq2SeqDataset(train_data, bert_tokenizer, gpt_tokenizer, bert_device, gpt_device)\n",
    "    val_dataset = Seq2SeqDataset(val_data, bert_tokenizer, gpt_tokenizer, bert_device, gpt_device)\n",
    "    \n",
    "    train_dataloader = DataLoader(train_dataset, batch_size=bs, shuffle=True)\n",
    "    val_dataloader = DataLoader(val_dataset, batch_size=bs, shuffle=True)\n",
    "    \n",
    "    return train_dataloader, val_dataloader"
   ],
   "metadata": {
    "execution": {
     "iopub.status.busy": "2022-12-25T07:29:48.484523Z",
     "iopub.execute_input": "2022-12-25T07:29:48.484969Z",
     "iopub.status.idle": "2022-12-25T07:29:48.498288Z",
     "shell.execute_reply.started": "2022-12-25T07:29:48.484932Z",
     "shell.execute_reply": "2022-12-25T07:29:48.496970Z"
    },
    "trusted": true
   },
   "execution_count": 4,
   "outputs": []
  },
  {
   "cell_type": "code",
   "source": [
    "class Seq2SeqModel:\n",
    "    def __init__(self, bert_model, gpt_model, bert_tokenizer, gpt_tokenizer):\n",
    "        self.bert_model = bert_model\n",
    "        self.gpt_model = gpt_model\n",
    "        self.bert_tokenizer = bert_tokenizer\n",
    "        self.gpt_tokenizer = gpt_tokenizer\n",
    "        \n",
    "    def train_step(self, dataloader, optimizer):\n",
    "        self.bert_model.train(), self.gpt_model.train()\n",
    "        losses = []\n",
    "\n",
    "        pbar = tqdm(dataloader)\n",
    "        for i, (x, y) in enumerate(pbar):\n",
    "            optimizer.zero_grad()\n",
    "            bert_out = self.bert_model(**x)\n",
    "            gpt_out = self.gpt_model(**y, labels=y['input_ids'], \n",
    "                                     encoder_hidden_states=bert_out.last_hidden_state.to(self.gpt_model.device))\n",
    "            loss = gpt_out.loss\n",
    "            loss.backward()\n",
    "            optimizer.step()\n",
    "\n",
    "            losses.append(loss.item())\n",
    "            pbar.set_description(f'Batch Loss: {np.mean(losses):.5f}')\n",
    "        \n",
    "        return np.mean(losses)\n",
    "        \n",
    "    def eval_step(self, dataloader):\n",
    "        self.bert_model.eval(), self.gpt_model.eval()\n",
    "        losses = []\n",
    "\n",
    "        pbar = tqdm(dataloader)\n",
    "        for i, (x, y) in enumerate(pbar):\n",
    "            bert_out = self.bert_model(**x)\n",
    "            gpt_out = self.gpt_model(**y, labels=y['input_ids'], \n",
    "                                     encoder_hidden_states=bert_out.last_hidden_state.to(self.gpt_model.device))\n",
    "            loss = gpt_out.loss\n",
    "\n",
    "            losses.append(loss.item())\n",
    "            pbar.set_description(f'Batch Loss: {np.mean(losses):.5f}')\n",
    "        \n",
    "        return np.mean(losses)\n",
    "    \n",
    "    def answer(self, sent):\n",
    "        with torch.no_grad():\n",
    "            tokenized_sent = self.bert_tokenizer(sent, padding='max_length', \n",
    "                                                 truncation=True, return_tensors='pt')\n",
    "            tokenized_ans = self.gpt_tokenizer(self.gpt_tokenizer.bos_token, return_tensors='pt')\n",
    "\n",
    "            tokenized_sent = {k: v.to(self.bert_model.device) for k, v in tokenized_sent.items()}\n",
    "            tokenized_ans = {k: v.to(self.gpt_model.device) for k, v in tokenized_ans.items()}\n",
    "            \n",
    "            bert_out = self.bert_model(**tokenized_sent)\n",
    "            gpt_out = self.gpt_model.generate(**tokenized_ans, max_new_tokens=30, temperature=0.9, \n",
    "                                              encoder_hidden_state=bert_out.last_hidden_state)\n",
    "\n",
    "            return self.gpt_tokenizer.decode(gpt_out[0])\n",
    "\n",
    "    def save(self, model_dir):\n",
    "        os.makedirs(model_dir, exist_ok=True)\n",
    "        self.bert_model.save_pretrained(os.path.join(model_dir, 'bert_encoder'))\n",
    "        self.gpt_model.save_pretrained(os.path.join(model_dir, 'gpt_decoder'))\n",
    "        "
   ],
   "metadata": {
    "execution": {
     "iopub.status.busy": "2022-12-25T07:29:48.500478Z",
     "iopub.execute_input": "2022-12-25T07:29:48.501078Z",
     "iopub.status.idle": "2022-12-25T07:29:48.518733Z",
     "shell.execute_reply.started": "2022-12-25T07:29:48.501042Z",
     "shell.execute_reply": "2022-12-25T07:29:48.517894Z"
    },
    "trusted": true
   },
   "execution_count": 5,
   "outputs": []
  },
  {
   "cell_type": "code",
   "source": [
    "def train(max_len, epochs, bs, lr, bert_device, gpt_device, model_path):\n",
    "    bert_encoder, bert_tokenizer = get_bert_model_tokenizer('bert-base-cased', max_len, bert_device)\n",
    "    gpt_decoder, gpt_tokenizer = get_gpt_model_tokenizer('gpt2', max_len, gpt_device)\n",
    "\n",
    "    train_loader, val_loader = get_dataloader(bs, bert_tokenizer, gpt_tokenizer, bert_device, gpt_device)\n",
    "    opt = optim.Adam(chain(gpt_decoder.parameters(), bert_encoder.parameters()), lr=lr)\n",
    "\n",
    "    seq2seq_model = Seq2SeqModel(bert_encoder, gpt_decoder, bert_tokenizer, gpt_tokenizer)\n",
    "\n",
    "    plt.xlabel('Epoch')\n",
    "    plt.ylabel('Loss')\n",
    "    \n",
    "    train_losses, val_losses = [], []\n",
    "    for e in range(epochs):\n",
    "        train_loss = seq2seq_model.train_step(train_loader, opt)\n",
    "        val_loss = seq2seq_model.eval_step(val_loader)\n",
    "        \n",
    "        clear_output(wait=True)\n",
    "\n",
    "        train_losses.append(train_loss)\n",
    "        val_losses.append(val_loss)\n",
    "                \n",
    "        plt.plot(train_losses, 'b', label='Training losses')\n",
    "        plt.plot(val_losses, 'r', label='Validation losses')\n",
    "        plt.show()\n",
    "        \n",
    "        seq2seq_model.save(f'{model_path}_{val_loss}')\n",
    "        \n",
    "    plt.legend()\n",
    "\n",
    "    \n",
    "    #return val_loss\n"
   ],
   "metadata": {
    "execution": {
     "iopub.status.busy": "2022-12-25T07:30:20.431380Z",
     "iopub.execute_input": "2022-12-25T07:30:20.431989Z",
     "iopub.status.idle": "2022-12-25T07:30:20.440931Z",
     "shell.execute_reply.started": "2022-12-25T07:30:20.431952Z",
     "shell.execute_reply": "2022-12-25T07:30:20.440007Z"
    },
    "trusted": true
   },
   "execution_count": 7,
   "outputs": []
  },
  {
   "cell_type": "code",
   "source": [
    "train(max_len=50, bert_device=torch.device('cuda:0'), gpt_device=torch.device('cuda:1'), \n",
    "      model_path=f'epoch_loss', bs=3, lr=2.545263049508698e-05, epochs=10)"
   ],
   "metadata": {
    "execution": {
     "iopub.status.busy": "2022-12-25T07:30:23.503069Z",
     "iopub.execute_input": "2022-12-25T07:30:23.504108Z"
    },
    "trusted": true
   },
   "execution_count": null,
   "outputs": [
    {
     "output_type": "display_data",
     "data": {
      "text/plain": "<Figure size 432x288 with 1 Axes>",
      "image/png": "[encoded data removed]"
     },
     "metadata": {
      "needs_background": "light"
     }
    },
    {
     "output_type": "display_data",
     "data": {
      "text/plain": "  0%|          | 0/35280 [00:00<?, ?it/s]",
      "application/vnd.jupyter.widget-view+json": {
       "version_major": 2,
       "version_minor": 0,
       "model_id": "2c8981f4ade242c58247800d0bf826ae"
      }
     },
     "metadata": {}
    }
   ]
  },
  {
   "cell_type": "code",
   "source": [
    "whi"
   ],
   "metadata": {},
   "execution_count": null,
   "outputs": []
  },
  {
   "cell_type": "code",
   "source": [
    "! zip -r bert_gpt.zip /kaggle/working/epoch_loss_1.0249150006171202"
   ],
   "metadata": {
    "execution": {
     "iopub.status.busy": "2022-12-25T18:24:42.412526Z",
     "iopub.execute_input": "2022-12-25T18:24:42.412905Z",
     "iopub.status.idle": "2022-12-25T18:25:41.170341Z",
     "shell.execute_reply.started": "2022-12-25T18:24:42.412875Z",
     "shell.execute_reply": "2022-12-25T18:25:41.169182Z"
    },
    "trusted": true
   },
   "execution_count": 3,
   "outputs": [
    {
     "name": "stdout",
     "text": "  adding: kaggle/working/epoch_loss_1.0249150006171202/ (stored 0%)\n  adding: kaggle/working/epoch_loss_1.0249150006171202/gpt_decoder/ (stored 0%)\n  adding: kaggle/working/epoch_loss_1.0249150006171202/gpt_decoder/config.json (deflated 52%)\n  adding: kaggle/working/epoch_loss_1.0249150006171202/gpt_decoder/pytorch_model.bin (deflated 11%)\n  adding: kaggle/working/epoch_loss_1.0249150006171202/bert_encoder/ (stored 0%)\n  adding: kaggle/working/epoch_loss_1.0249150006171202/bert_encoder/config.json (deflated 48%)\n  adding: kaggle/working/epoch_loss_1.0249150006171202/bert_encoder/pytorch_model.bin (deflated 7%)\n",
     "output_type": "stream"
    }
   ]
  },
  {
   "cell_type": "code",
   "source": [
    "def objective(trial):\n",
    "    params = {'bs': trial.suggest_int('bs', 2, 6),\n",
    "              'lr': trial.suggest_float('lr', 1e-5, 1e-2, log=True)}    \n",
    "    \n",
    "    return train(max_len=50, bert_device=torch.device('cuda:0'), \n",
    "                 gpt_device=torch.device('cuda:1'), model_path=f'trial{trial.number}', **params)\n"
   ],
   "metadata": {
    "execution": {
     "iopub.status.busy": "2022-12-19T10:48:10.288087Z",
     "iopub.execute_input": "2022-12-19T10:48:10.288490Z",
     "iopub.status.idle": "2022-12-19T10:48:10.294208Z",
     "shell.execute_reply.started": "2022-12-19T10:48:10.288447Z",
     "shell.execute_reply": "2022-12-19T10:48:10.292998Z"
    },
    "trusted": true
   },
   "execution_count": 7,
   "outputs": []
  },
  {
   "cell_type": "code",
   "source": [
    "study = optuna.create_study(direction='minimize')\n",
    "study.optimize(objective, n_trials=6)\n",
    "print(study.best_params)\n"
   ],
   "metadata": {
    "execution": {
     "iopub.status.busy": "2022-12-19T10:54:43.559287Z",
     "iopub.execute_input": "2022-12-19T10:54:43.559975Z",
     "iopub.status.idle": "2022-12-19T18:08:46.167218Z",
     "shell.execute_reply.started": "2022-12-19T10:54:43.559940Z",
     "shell.execute_reply": "2022-12-19T18:08:46.164621Z"
    },
    "trusted": true
   },
   "execution_count": 12,
   "outputs": [
    {
     "name": "stderr",
     "text": "\u001B[32m[I 2022-12-19 10:54:43,561]\u001B[0m A new study created in memory with name: no-name-a98f1eea-e4d5-418f-ab3f-4fe285a8a39c\u001B[0m\nSome weights of the model checkpoint at bert-base-cased were not used when initializing BertModel: ['cls.predictions.transform.LayerNorm.weight', 'cls.seq_relationship.weight', 'cls.predictions.decoder.weight', 'cls.predictions.bias', 'cls.predictions.transform.dense.bias', 'cls.predictions.transform.dense.weight', 'cls.predictions.transform.LayerNorm.bias', 'cls.seq_relationship.bias']\n- This IS expected if you are initializing BertModel from the checkpoint of a model trained on another task or with another architecture (e.g. initializing a BertForSequenceClassification model from a BertForPreTraining model).\n- This IS NOT expected if you are initializing BertModel from the checkpoint of a model that you expect to be exactly identical (initializing a BertForSequenceClassification model from a BertForSequenceClassification model).\nSome weights of GPT2LMHeadModel were not initialized from the model checkpoint at gpt2 and are newly initialized: ['h.1.crossattention.c_attn.weight', 'h.10.ln_cross_attn.weight', 'h.7.crossattention.c_proj.weight', 'h.7.crossattention.bias', 'h.2.crossattention.c_proj.bias', 'h.11.crossattention.bias', 'h.6.crossattention.masked_bias', 'h.9.crossattention.masked_bias', 'h.0.ln_cross_attn.weight', 'h.8.ln_cross_attn.weight', 'h.9.crossattention.c_proj.bias', 'h.10.crossattention.c_proj.bias', 'h.0.crossattention.masked_bias', 'h.0.crossattention.q_attn.weight', 'h.1.ln_cross_attn.weight', 'h.0.crossattention.c_attn.weight', 'h.2.crossattention.bias', 'h.2.ln_cross_attn.weight', 'h.5.crossattention.c_proj.bias', 'h.6.crossattention.c_proj.bias', 'h.1.crossattention.c_proj.bias', 'h.3.crossattention.c_proj.bias', 'h.9.crossattention.c_proj.weight', 'h.8.crossattention.masked_bias', 'h.4.ln_cross_attn.weight', 'h.9.crossattention.bias', 'h.7.ln_cross_attn.weight', 'h.1.crossattention.masked_bias', 'h.5.crossattention.bias', 'h.1.crossattention.c_proj.weight', 'h.7.crossattention.masked_bias', 'h.8.crossattention.bias', 'h.11.crossattention.c_proj.bias', 'h.0.crossattention.c_proj.bias', 'h.4.crossattention.masked_bias', 'h.6.crossattention.c_attn.weight', 'h.10.crossattention.masked_bias', 'h.7.crossattention.q_attn.weight', 'h.5.crossattention.q_attn.weight', 'h.7.crossattention.c_proj.bias', 'h.4.crossattention.q_attn.weight', 'h.5.ln_cross_attn.weight', 'h.2.crossattention.masked_bias', 'h.2.crossattention.c_proj.weight', 'h.6.crossattention.bias', 'h.10.crossattention.c_proj.weight', 'h.3.crossattention.c_proj.weight', 'h.3.crossattention.q_attn.weight', 'h.2.crossattention.q_attn.weight', 'h.4.crossattention.c_attn.weight', 'h.9.crossattention.q_attn.weight', 'h.9.crossattention.c_attn.weight', 'h.5.crossattention.c_proj.weight', 'h.11.crossattention.c_proj.weight', 'h.10.crossattention.q_attn.weight', 'h.11.ln_cross_attn.weight', 'h.6.ln_cross_attn.weight', 'h.8.crossattention.c_proj.weight', 'h.8.crossattention.c_attn.weight', 'h.0.crossattention.c_proj.weight', 'h.2.crossattention.c_attn.weight', 'h.9.ln_cross_attn.weight', 'h.0.crossattention.bias', 'h.5.crossattention.masked_bias', 'h.6.crossattention.q_attn.weight', 'h.3.crossattention.c_attn.weight', 'h.10.crossattention.bias', 'h.3.ln_cross_attn.weight', 'h.1.crossattention.q_attn.weight', 'h.1.crossattention.bias', 'h.5.crossattention.c_attn.weight', 'h.4.crossattention.bias', 'h.3.crossattention.bias', 'h.8.crossattention.q_attn.weight', 'h.4.crossattention.c_proj.bias', 'h.7.crossattention.c_attn.weight', 'h.11.crossattention.c_attn.weight', 'h.10.crossattention.c_attn.weight', 'h.11.crossattention.q_attn.weight', 'h.4.crossattention.c_proj.weight', 'h.6.crossattention.c_proj.weight', 'h.3.crossattention.masked_bias', 'h.8.crossattention.c_proj.bias', 'h.11.crossattention.masked_bias']\nYou should probably TRAIN this model on a down-stream task to be able to use it for predictions and inference.\n",
     "output_type": "stream"
    },
    {
     "output_type": "display_data",
     "data": {
      "text/plain": "  0%|          | 0/12460 [00:00<?, ?ex/s]",
      "application/vnd.jupyter.widget-view+json": {
       "version_major": 2,
       "version_minor": 0,
       "model_id": "992abcebec15434bac80a4851c46aadd"
      }
     },
     "metadata": {}
    },
    {
     "output_type": "display_data",
     "data": {
      "text/plain": "  0%|          | 0/500 [00:00<?, ?ex/s]",
      "application/vnd.jupyter.widget-view+json": {
       "version_major": 2,
       "version_minor": 0,
       "model_id": "7127600ea8b44e708366537f10ace38f"
      }
     },
     "metadata": {}
    },
    {
     "output_type": "display_data",
     "data": {
      "text/plain": "  0%|          | 0/26460 [00:00<?, ?it/s]",
      "application/vnd.jupyter.widget-view+json": {
       "version_major": 2,
       "version_minor": 0,
       "model_id": "a1f425d096f0474dbbfb8ca188850e67"
      }
     },
     "metadata": {}
    },
    {
     "output_type": "display_data",
     "data": {
      "text/plain": "  0%|          | 0/1048 [00:00<?, ?it/s]",
      "application/vnd.jupyter.widget-view+json": {
       "version_major": 2,
       "version_minor": 0,
       "model_id": "35a44b31dbea4cc6b1496dad6170147c"
      }
     },
     "metadata": {}
    },
    {
     "name": "stderr",
     "text": "\u001B[32m[I 2022-12-19 12:04:52,292]\u001B[0m Trial 0 finished with value: 1.081597953366528 and parameters: {'bs': 4, 'lr': 0.00021735438243198512}. Best is trial 0 with value: 1.081597953366528.\u001B[0m\nSome weights of the model checkpoint at bert-base-cased were not used when initializing BertModel: ['cls.predictions.transform.LayerNorm.weight', 'cls.seq_relationship.weight', 'cls.predictions.decoder.weight', 'cls.predictions.bias', 'cls.predictions.transform.dense.bias', 'cls.predictions.transform.dense.weight', 'cls.predictions.transform.LayerNorm.bias', 'cls.seq_relationship.bias']\n- This IS expected if you are initializing BertModel from the checkpoint of a model trained on another task or with another architecture (e.g. initializing a BertForSequenceClassification model from a BertForPreTraining model).\n- This IS NOT expected if you are initializing BertModel from the checkpoint of a model that you expect to be exactly identical (initializing a BertForSequenceClassification model from a BertForSequenceClassification model).\nSome weights of GPT2LMHeadModel were not initialized from the model checkpoint at gpt2 and are newly initialized: ['h.1.crossattention.c_attn.weight', 'h.10.ln_cross_attn.weight', 'h.7.crossattention.c_proj.weight', 'h.7.crossattention.bias', 'h.2.crossattention.c_proj.bias', 'h.11.crossattention.bias', 'h.6.crossattention.masked_bias', 'h.9.crossattention.masked_bias', 'h.0.ln_cross_attn.weight', 'h.8.ln_cross_attn.weight', 'h.9.crossattention.c_proj.bias', 'h.10.crossattention.c_proj.bias', 'h.0.crossattention.masked_bias', 'h.0.crossattention.q_attn.weight', 'h.1.ln_cross_attn.weight', 'h.0.crossattention.c_attn.weight', 'h.2.crossattention.bias', 'h.2.ln_cross_attn.weight', 'h.5.crossattention.c_proj.bias', 'h.6.crossattention.c_proj.bias', 'h.1.crossattention.c_proj.bias', 'h.3.crossattention.c_proj.bias', 'h.9.crossattention.c_proj.weight', 'h.8.crossattention.masked_bias', 'h.4.ln_cross_attn.weight', 'h.9.crossattention.bias', 'h.7.ln_cross_attn.weight', 'h.1.crossattention.masked_bias', 'h.5.crossattention.bias', 'h.1.crossattention.c_proj.weight', 'h.7.crossattention.masked_bias', 'h.8.crossattention.bias', 'h.11.crossattention.c_proj.bias', 'h.0.crossattention.c_proj.bias', 'h.4.crossattention.masked_bias', 'h.6.crossattention.c_attn.weight', 'h.10.crossattention.masked_bias', 'h.7.crossattention.q_attn.weight', 'h.5.crossattention.q_attn.weight', 'h.7.crossattention.c_proj.bias', 'h.4.crossattention.q_attn.weight', 'h.5.ln_cross_attn.weight', 'h.2.crossattention.masked_bias', 'h.2.crossattention.c_proj.weight', 'h.6.crossattention.bias', 'h.10.crossattention.c_proj.weight', 'h.3.crossattention.c_proj.weight', 'h.3.crossattention.q_attn.weight', 'h.2.crossattention.q_attn.weight', 'h.4.crossattention.c_attn.weight', 'h.9.crossattention.q_attn.weight', 'h.9.crossattention.c_attn.weight', 'h.5.crossattention.c_proj.weight', 'h.11.crossattention.c_proj.weight', 'h.10.crossattention.q_attn.weight', 'h.11.ln_cross_attn.weight', 'h.6.ln_cross_attn.weight', 'h.8.crossattention.c_proj.weight', 'h.8.crossattention.c_attn.weight', 'h.0.crossattention.c_proj.weight', 'h.2.crossattention.c_attn.weight', 'h.9.ln_cross_attn.weight', 'h.0.crossattention.bias', 'h.5.crossattention.masked_bias', 'h.6.crossattention.q_attn.weight', 'h.3.crossattention.c_attn.weight', 'h.10.crossattention.bias', 'h.3.ln_cross_attn.weight', 'h.1.crossattention.q_attn.weight', 'h.1.crossattention.bias', 'h.5.crossattention.c_attn.weight', 'h.4.crossattention.bias', 'h.3.crossattention.bias', 'h.8.crossattention.q_attn.weight', 'h.4.crossattention.c_proj.bias', 'h.7.crossattention.c_attn.weight', 'h.11.crossattention.c_attn.weight', 'h.10.crossattention.c_attn.weight', 'h.11.crossattention.q_attn.weight', 'h.4.crossattention.c_proj.weight', 'h.6.crossattention.c_proj.weight', 'h.3.crossattention.masked_bias', 'h.8.crossattention.c_proj.bias', 'h.11.crossattention.masked_bias']\nYou should probably TRAIN this model on a down-stream task to be able to use it for predictions and inference.\n",
     "output_type": "stream"
    },
    {
     "output_type": "display_data",
     "data": {
      "text/plain": "  0%|          | 0/12460 [00:00<?, ?ex/s]",
      "application/vnd.jupyter.widget-view+json": {
       "version_major": 2,
       "version_minor": 0,
       "model_id": "0d12d6a2b7fa429e96e1e5b930b2a930"
      }
     },
     "metadata": {}
    },
    {
     "output_type": "display_data",
     "data": {
      "text/plain": "  0%|          | 0/500 [00:00<?, ?ex/s]",
      "application/vnd.jupyter.widget-view+json": {
       "version_major": 2,
       "version_minor": 0,
       "model_id": "e4809e555cee4a61885396aedf4ebe60"
      }
     },
     "metadata": {}
    },
    {
     "output_type": "display_data",
     "data": {
      "text/plain": "  0%|          | 0/26460 [00:00<?, ?it/s]",
      "application/vnd.jupyter.widget-view+json": {
       "version_major": 2,
       "version_minor": 0,
       "model_id": "c746829744c848689566b1cddd384815"
      }
     },
     "metadata": {}
    },
    {
     "output_type": "display_data",
     "data": {
      "text/plain": "  0%|          | 0/1048 [00:00<?, ?it/s]",
      "application/vnd.jupyter.widget-view+json": {
       "version_major": 2,
       "version_minor": 0,
       "model_id": "d4eed9ab90d74c67b52d53cd0e7e327f"
      }
     },
     "metadata": {}
    },
    {
     "name": "stderr",
     "text": "\u001B[32m[I 2022-12-19 13:14:31,988]\u001B[0m Trial 1 finished with value: 1.3879430635000458 and parameters: {'bs': 4, 'lr': 0.0009823185580343666}. Best is trial 0 with value: 1.081597953366528.\u001B[0m\nSome weights of the model checkpoint at bert-base-cased were not used when initializing BertModel: ['cls.predictions.transform.LayerNorm.weight', 'cls.seq_relationship.weight', 'cls.predictions.decoder.weight', 'cls.predictions.bias', 'cls.predictions.transform.dense.bias', 'cls.predictions.transform.dense.weight', 'cls.predictions.transform.LayerNorm.bias', 'cls.seq_relationship.bias']\n- This IS expected if you are initializing BertModel from the checkpoint of a model trained on another task or with another architecture (e.g. initializing a BertForSequenceClassification model from a BertForPreTraining model).\n- This IS NOT expected if you are initializing BertModel from the checkpoint of a model that you expect to be exactly identical (initializing a BertForSequenceClassification model from a BertForSequenceClassification model).\nSome weights of GPT2LMHeadModel were not initialized from the model checkpoint at gpt2 and are newly initialized: ['h.1.crossattention.c_attn.weight', 'h.10.ln_cross_attn.weight', 'h.7.crossattention.c_proj.weight', 'h.7.crossattention.bias', 'h.2.crossattention.c_proj.bias', 'h.11.crossattention.bias', 'h.6.crossattention.masked_bias', 'h.9.crossattention.masked_bias', 'h.0.ln_cross_attn.weight', 'h.8.ln_cross_attn.weight', 'h.9.crossattention.c_proj.bias', 'h.10.crossattention.c_proj.bias', 'h.0.crossattention.masked_bias', 'h.0.crossattention.q_attn.weight', 'h.1.ln_cross_attn.weight', 'h.0.crossattention.c_attn.weight', 'h.2.crossattention.bias', 'h.2.ln_cross_attn.weight', 'h.5.crossattention.c_proj.bias', 'h.6.crossattention.c_proj.bias', 'h.1.crossattention.c_proj.bias', 'h.3.crossattention.c_proj.bias', 'h.9.crossattention.c_proj.weight', 'h.8.crossattention.masked_bias', 'h.4.ln_cross_attn.weight', 'h.9.crossattention.bias', 'h.7.ln_cross_attn.weight', 'h.1.crossattention.masked_bias', 'h.5.crossattention.bias', 'h.1.crossattention.c_proj.weight', 'h.7.crossattention.masked_bias', 'h.8.crossattention.bias', 'h.11.crossattention.c_proj.bias', 'h.0.crossattention.c_proj.bias', 'h.4.crossattention.masked_bias', 'h.6.crossattention.c_attn.weight', 'h.10.crossattention.masked_bias', 'h.7.crossattention.q_attn.weight', 'h.5.crossattention.q_attn.weight', 'h.7.crossattention.c_proj.bias', 'h.4.crossattention.q_attn.weight', 'h.5.ln_cross_attn.weight', 'h.2.crossattention.masked_bias', 'h.2.crossattention.c_proj.weight', 'h.6.crossattention.bias', 'h.10.crossattention.c_proj.weight', 'h.3.crossattention.c_proj.weight', 'h.3.crossattention.q_attn.weight', 'h.2.crossattention.q_attn.weight', 'h.4.crossattention.c_attn.weight', 'h.9.crossattention.q_attn.weight', 'h.9.crossattention.c_attn.weight', 'h.5.crossattention.c_proj.weight', 'h.11.crossattention.c_proj.weight', 'h.10.crossattention.q_attn.weight', 'h.11.ln_cross_attn.weight', 'h.6.ln_cross_attn.weight', 'h.8.crossattention.c_proj.weight', 'h.8.crossattention.c_attn.weight', 'h.0.crossattention.c_proj.weight', 'h.2.crossattention.c_attn.weight', 'h.9.ln_cross_attn.weight', 'h.0.crossattention.bias', 'h.5.crossattention.masked_bias', 'h.6.crossattention.q_attn.weight', 'h.3.crossattention.c_attn.weight', 'h.10.crossattention.bias', 'h.3.ln_cross_attn.weight', 'h.1.crossattention.q_attn.weight', 'h.1.crossattention.bias', 'h.5.crossattention.c_attn.weight', 'h.4.crossattention.bias', 'h.3.crossattention.bias', 'h.8.crossattention.q_attn.weight', 'h.4.crossattention.c_proj.bias', 'h.7.crossattention.c_attn.weight', 'h.11.crossattention.c_attn.weight', 'h.10.crossattention.c_attn.weight', 'h.11.crossattention.q_attn.weight', 'h.4.crossattention.c_proj.weight', 'h.6.crossattention.c_proj.weight', 'h.3.crossattention.masked_bias', 'h.8.crossattention.c_proj.bias', 'h.11.crossattention.masked_bias']\nYou should probably TRAIN this model on a down-stream task to be able to use it for predictions and inference.\n",
     "output_type": "stream"
    },
    {
     "output_type": "display_data",
     "data": {
      "text/plain": "  0%|          | 0/12460 [00:00<?, ?ex/s]",
      "application/vnd.jupyter.widget-view+json": {
       "version_major": 2,
       "version_minor": 0,
       "model_id": "7208a501b0c14e5d8bb043174e45e4bb"
      }
     },
     "metadata": {}
    },
    {
     "output_type": "display_data",
     "data": {
      "text/plain": "  0%|          | 0/500 [00:00<?, ?ex/s]",
      "application/vnd.jupyter.widget-view+json": {
       "version_major": 2,
       "version_minor": 0,
       "model_id": "f2e60c60171b43d2b6694ca3ab541a6a"
      }
     },
     "metadata": {}
    },
    {
     "output_type": "display_data",
     "data": {
      "text/plain": "  0%|          | 0/17640 [00:00<?, ?it/s]",
      "application/vnd.jupyter.widget-view+json": {
       "version_major": 2,
       "version_minor": 0,
       "model_id": "2b85d894cae8447c8cfa332c1e2ed443"
      }
     },
     "metadata": {}
    },
    {
     "output_type": "display_data",
     "data": {
      "text/plain": "  0%|          | 0/699 [00:00<?, ?it/s]",
      "application/vnd.jupyter.widget-view+json": {
       "version_major": 2,
       "version_minor": 0,
       "model_id": "fc3ec989f3214bcb8df148bd9b0ef263"
      }
     },
     "metadata": {}
    },
    {
     "name": "stderr",
     "text": "\u001B[32m[I 2022-12-19 14:08:32,026]\u001B[0m Trial 2 finished with value: 1.4328137665603293 and parameters: {'bs': 6, 'lr': 0.0019448383663810552}. Best is trial 0 with value: 1.081597953366528.\u001B[0m\nSome weights of the model checkpoint at bert-base-cased were not used when initializing BertModel: ['cls.predictions.transform.LayerNorm.weight', 'cls.seq_relationship.weight', 'cls.predictions.decoder.weight', 'cls.predictions.bias', 'cls.predictions.transform.dense.bias', 'cls.predictions.transform.dense.weight', 'cls.predictions.transform.LayerNorm.bias', 'cls.seq_relationship.bias']\n- This IS expected if you are initializing BertModel from the checkpoint of a model trained on another task or with another architecture (e.g. initializing a BertForSequenceClassification model from a BertForPreTraining model).\n- This IS NOT expected if you are initializing BertModel from the checkpoint of a model that you expect to be exactly identical (initializing a BertForSequenceClassification model from a BertForSequenceClassification model).\nSome weights of GPT2LMHeadModel were not initialized from the model checkpoint at gpt2 and are newly initialized: ['h.1.crossattention.c_attn.weight', 'h.10.ln_cross_attn.weight', 'h.7.crossattention.c_proj.weight', 'h.7.crossattention.bias', 'h.2.crossattention.c_proj.bias', 'h.11.crossattention.bias', 'h.6.crossattention.masked_bias', 'h.9.crossattention.masked_bias', 'h.0.ln_cross_attn.weight', 'h.8.ln_cross_attn.weight', 'h.9.crossattention.c_proj.bias', 'h.10.crossattention.c_proj.bias', 'h.0.crossattention.masked_bias', 'h.0.crossattention.q_attn.weight', 'h.1.ln_cross_attn.weight', 'h.0.crossattention.c_attn.weight', 'h.2.crossattention.bias', 'h.2.ln_cross_attn.weight', 'h.5.crossattention.c_proj.bias', 'h.6.crossattention.c_proj.bias', 'h.1.crossattention.c_proj.bias', 'h.3.crossattention.c_proj.bias', 'h.9.crossattention.c_proj.weight', 'h.8.crossattention.masked_bias', 'h.4.ln_cross_attn.weight', 'h.9.crossattention.bias', 'h.7.ln_cross_attn.weight', 'h.1.crossattention.masked_bias', 'h.5.crossattention.bias', 'h.1.crossattention.c_proj.weight', 'h.7.crossattention.masked_bias', 'h.8.crossattention.bias', 'h.11.crossattention.c_proj.bias', 'h.0.crossattention.c_proj.bias', 'h.4.crossattention.masked_bias', 'h.6.crossattention.c_attn.weight', 'h.10.crossattention.masked_bias', 'h.7.crossattention.q_attn.weight', 'h.5.crossattention.q_attn.weight', 'h.7.crossattention.c_proj.bias', 'h.4.crossattention.q_attn.weight', 'h.5.ln_cross_attn.weight', 'h.2.crossattention.masked_bias', 'h.2.crossattention.c_proj.weight', 'h.6.crossattention.bias', 'h.10.crossattention.c_proj.weight', 'h.3.crossattention.c_proj.weight', 'h.3.crossattention.q_attn.weight', 'h.2.crossattention.q_attn.weight', 'h.4.crossattention.c_attn.weight', 'h.9.crossattention.q_attn.weight', 'h.9.crossattention.c_attn.weight', 'h.5.crossattention.c_proj.weight', 'h.11.crossattention.c_proj.weight', 'h.10.crossattention.q_attn.weight', 'h.11.ln_cross_attn.weight', 'h.6.ln_cross_attn.weight', 'h.8.crossattention.c_proj.weight', 'h.8.crossattention.c_attn.weight', 'h.0.crossattention.c_proj.weight', 'h.2.crossattention.c_attn.weight', 'h.9.ln_cross_attn.weight', 'h.0.crossattention.bias', 'h.5.crossattention.masked_bias', 'h.6.crossattention.q_attn.weight', 'h.3.crossattention.c_attn.weight', 'h.10.crossattention.bias', 'h.3.ln_cross_attn.weight', 'h.1.crossattention.q_attn.weight', 'h.1.crossattention.bias', 'h.5.crossattention.c_attn.weight', 'h.4.crossattention.bias', 'h.3.crossattention.bias', 'h.8.crossattention.q_attn.weight', 'h.4.crossattention.c_proj.bias', 'h.7.crossattention.c_attn.weight', 'h.11.crossattention.c_attn.weight', 'h.10.crossattention.c_attn.weight', 'h.11.crossattention.q_attn.weight', 'h.4.crossattention.c_proj.weight', 'h.6.crossattention.c_proj.weight', 'h.3.crossattention.masked_bias', 'h.8.crossattention.c_proj.bias', 'h.11.crossattention.masked_bias']\nYou should probably TRAIN this model on a down-stream task to be able to use it for predictions and inference.\n",
     "output_type": "stream"
    },
    {
     "output_type": "display_data",
     "data": {
      "text/plain": "  0%|          | 0/12460 [00:00<?, ?ex/s]",
      "application/vnd.jupyter.widget-view+json": {
       "version_major": 2,
       "version_minor": 0,
       "model_id": "6e99a46255864c69942a51950f1f310a"
      }
     },
     "metadata": {}
    },
    {
     "output_type": "display_data",
     "data": {
      "text/plain": "  0%|          | 0/500 [00:00<?, ?ex/s]",
      "application/vnd.jupyter.widget-view+json": {
       "version_major": 2,
       "version_minor": 0,
       "model_id": "d643d8b0bf62442daf1ee151830bc203"
      }
     },
     "metadata": {}
    },
    {
     "output_type": "display_data",
     "data": {
      "text/plain": "  0%|          | 0/26460 [00:00<?, ?it/s]",
      "application/vnd.jupyter.widget-view+json": {
       "version_major": 2,
       "version_minor": 0,
       "model_id": "e37d4bd2b52f4629903d5bb72b466aa5"
      }
     },
     "metadata": {}
    },
    {
     "output_type": "display_data",
     "data": {
      "text/plain": "  0%|          | 0/1048 [00:00<?, ?it/s]",
      "application/vnd.jupyter.widget-view+json": {
       "version_major": 2,
       "version_minor": 0,
       "model_id": "f72e7acb7902435e9dffe7766e521a33"
      }
     },
     "metadata": {}
    },
    {
     "name": "stderr",
     "text": "\u001B[32m[I 2022-12-19 15:18:19,919]\u001B[0m Trial 3 finished with value: 1.4516949300433843 and parameters: {'bs': 4, 'lr': 0.001055327980234386}. Best is trial 0 with value: 1.081597953366528.\u001B[0m\nSome weights of the model checkpoint at bert-base-cased were not used when initializing BertModel: ['cls.predictions.transform.LayerNorm.weight', 'cls.seq_relationship.weight', 'cls.predictions.decoder.weight', 'cls.predictions.bias', 'cls.predictions.transform.dense.bias', 'cls.predictions.transform.dense.weight', 'cls.predictions.transform.LayerNorm.bias', 'cls.seq_relationship.bias']\n- This IS expected if you are initializing BertModel from the checkpoint of a model trained on another task or with another architecture (e.g. initializing a BertForSequenceClassification model from a BertForPreTraining model).\n- This IS NOT expected if you are initializing BertModel from the checkpoint of a model that you expect to be exactly identical (initializing a BertForSequenceClassification model from a BertForSequenceClassification model).\nSome weights of GPT2LMHeadModel were not initialized from the model checkpoint at gpt2 and are newly initialized: ['h.1.crossattention.c_attn.weight', 'h.10.ln_cross_attn.weight', 'h.7.crossattention.c_proj.weight', 'h.7.crossattention.bias', 'h.2.crossattention.c_proj.bias', 'h.11.crossattention.bias', 'h.6.crossattention.masked_bias', 'h.9.crossattention.masked_bias', 'h.0.ln_cross_attn.weight', 'h.8.ln_cross_attn.weight', 'h.9.crossattention.c_proj.bias', 'h.10.crossattention.c_proj.bias', 'h.0.crossattention.masked_bias', 'h.0.crossattention.q_attn.weight', 'h.1.ln_cross_attn.weight', 'h.0.crossattention.c_attn.weight', 'h.2.crossattention.bias', 'h.2.ln_cross_attn.weight', 'h.5.crossattention.c_proj.bias', 'h.6.crossattention.c_proj.bias', 'h.1.crossattention.c_proj.bias', 'h.3.crossattention.c_proj.bias', 'h.9.crossattention.c_proj.weight', 'h.8.crossattention.masked_bias', 'h.4.ln_cross_attn.weight', 'h.9.crossattention.bias', 'h.7.ln_cross_attn.weight', 'h.1.crossattention.masked_bias', 'h.5.crossattention.bias', 'h.1.crossattention.c_proj.weight', 'h.7.crossattention.masked_bias', 'h.8.crossattention.bias', 'h.11.crossattention.c_proj.bias', 'h.0.crossattention.c_proj.bias', 'h.4.crossattention.masked_bias', 'h.6.crossattention.c_attn.weight', 'h.10.crossattention.masked_bias', 'h.7.crossattention.q_attn.weight', 'h.5.crossattention.q_attn.weight', 'h.7.crossattention.c_proj.bias', 'h.4.crossattention.q_attn.weight', 'h.5.ln_cross_attn.weight', 'h.2.crossattention.masked_bias', 'h.2.crossattention.c_proj.weight', 'h.6.crossattention.bias', 'h.10.crossattention.c_proj.weight', 'h.3.crossattention.c_proj.weight', 'h.3.crossattention.q_attn.weight', 'h.2.crossattention.q_attn.weight', 'h.4.crossattention.c_attn.weight', 'h.9.crossattention.q_attn.weight', 'h.9.crossattention.c_attn.weight', 'h.5.crossattention.c_proj.weight', 'h.11.crossattention.c_proj.weight', 'h.10.crossattention.q_attn.weight', 'h.11.ln_cross_attn.weight', 'h.6.ln_cross_attn.weight', 'h.8.crossattention.c_proj.weight', 'h.8.crossattention.c_attn.weight', 'h.0.crossattention.c_proj.weight', 'h.2.crossattention.c_attn.weight', 'h.9.ln_cross_attn.weight', 'h.0.crossattention.bias', 'h.5.crossattention.masked_bias', 'h.6.crossattention.q_attn.weight', 'h.3.crossattention.c_attn.weight', 'h.10.crossattention.bias', 'h.3.ln_cross_attn.weight', 'h.1.crossattention.q_attn.weight', 'h.1.crossattention.bias', 'h.5.crossattention.c_attn.weight', 'h.4.crossattention.bias', 'h.3.crossattention.bias', 'h.8.crossattention.q_attn.weight', 'h.4.crossattention.c_proj.bias', 'h.7.crossattention.c_attn.weight', 'h.11.crossattention.c_attn.weight', 'h.10.crossattention.c_attn.weight', 'h.11.crossattention.q_attn.weight', 'h.4.crossattention.c_proj.weight', 'h.6.crossattention.c_proj.weight', 'h.3.crossattention.masked_bias', 'h.8.crossattention.c_proj.bias', 'h.11.crossattention.masked_bias']\nYou should probably TRAIN this model on a down-stream task to be able to use it for predictions and inference.\n",
     "output_type": "stream"
    },
    {
     "output_type": "display_data",
     "data": {
      "text/plain": "  0%|          | 0/12460 [00:00<?, ?ex/s]",
      "application/vnd.jupyter.widget-view+json": {
       "version_major": 2,
       "version_minor": 0,
       "model_id": "fd57dde45c354e4981dddd317289fdef"
      }
     },
     "metadata": {}
    },
    {
     "output_type": "display_data",
     "data": {
      "text/plain": "  0%|          | 0/500 [00:00<?, ?ex/s]",
      "application/vnd.jupyter.widget-view+json": {
       "version_major": 2,
       "version_minor": 0,
       "model_id": "f668b2d9381344dd88164f58a25a8db7"
      }
     },
     "metadata": {}
    },
    {
     "output_type": "display_data",
     "data": {
      "text/plain": "  0%|          | 0/35280 [00:00<?, ?it/s]",
      "application/vnd.jupyter.widget-view+json": {
       "version_major": 2,
       "version_minor": 0,
       "model_id": "5a119521d915449dac067126fdcc1910"
      }
     },
     "metadata": {}
    },
    {
     "output_type": "display_data",
     "data": {
      "text/plain": "  0%|          | 0/1397 [00:00<?, ?it/s]",
      "application/vnd.jupyter.widget-view+json": {
       "version_major": 2,
       "version_minor": 0,
       "model_id": "2638b539d72a451a8011e9167ef72eb4"
      }
     },
     "metadata": {}
    },
    {
     "name": "stderr",
     "text": "\u001B[32m[I 2022-12-19 16:43:42,976]\u001B[0m Trial 4 finished with value: 0.9833395414123727 and parameters: {'bs': 3, 'lr': 2.545263049508698e-05}. Best is trial 4 with value: 0.9833395414123727.\u001B[0m\nSome weights of the model checkpoint at bert-base-cased were not used when initializing BertModel: ['cls.predictions.transform.LayerNorm.weight', 'cls.seq_relationship.weight', 'cls.predictions.decoder.weight', 'cls.predictions.bias', 'cls.predictions.transform.dense.bias', 'cls.predictions.transform.dense.weight', 'cls.predictions.transform.LayerNorm.bias', 'cls.seq_relationship.bias']\n- This IS expected if you are initializing BertModel from the checkpoint of a model trained on another task or with another architecture (e.g. initializing a BertForSequenceClassification model from a BertForPreTraining model).\n- This IS NOT expected if you are initializing BertModel from the checkpoint of a model that you expect to be exactly identical (initializing a BertForSequenceClassification model from a BertForSequenceClassification model).\nSome weights of GPT2LMHeadModel were not initialized from the model checkpoint at gpt2 and are newly initialized: ['h.1.crossattention.c_attn.weight', 'h.10.ln_cross_attn.weight', 'h.7.crossattention.c_proj.weight', 'h.7.crossattention.bias', 'h.2.crossattention.c_proj.bias', 'h.11.crossattention.bias', 'h.6.crossattention.masked_bias', 'h.9.crossattention.masked_bias', 'h.0.ln_cross_attn.weight', 'h.8.ln_cross_attn.weight', 'h.9.crossattention.c_proj.bias', 'h.10.crossattention.c_proj.bias', 'h.0.crossattention.masked_bias', 'h.0.crossattention.q_attn.weight', 'h.1.ln_cross_attn.weight', 'h.0.crossattention.c_attn.weight', 'h.2.crossattention.bias', 'h.2.ln_cross_attn.weight', 'h.5.crossattention.c_proj.bias', 'h.6.crossattention.c_proj.bias', 'h.1.crossattention.c_proj.bias', 'h.3.crossattention.c_proj.bias', 'h.9.crossattention.c_proj.weight', 'h.8.crossattention.masked_bias', 'h.4.ln_cross_attn.weight', 'h.9.crossattention.bias', 'h.7.ln_cross_attn.weight', 'h.1.crossattention.masked_bias', 'h.5.crossattention.bias', 'h.1.crossattention.c_proj.weight', 'h.7.crossattention.masked_bias', 'h.8.crossattention.bias', 'h.11.crossattention.c_proj.bias', 'h.0.crossattention.c_proj.bias', 'h.4.crossattention.masked_bias', 'h.6.crossattention.c_attn.weight', 'h.10.crossattention.masked_bias', 'h.7.crossattention.q_attn.weight', 'h.5.crossattention.q_attn.weight', 'h.7.crossattention.c_proj.bias', 'h.4.crossattention.q_attn.weight', 'h.5.ln_cross_attn.weight', 'h.2.crossattention.masked_bias', 'h.2.crossattention.c_proj.weight', 'h.6.crossattention.bias', 'h.10.crossattention.c_proj.weight', 'h.3.crossattention.c_proj.weight', 'h.3.crossattention.q_attn.weight', 'h.2.crossattention.q_attn.weight', 'h.4.crossattention.c_attn.weight', 'h.9.crossattention.q_attn.weight', 'h.9.crossattention.c_attn.weight', 'h.5.crossattention.c_proj.weight', 'h.11.crossattention.c_proj.weight', 'h.10.crossattention.q_attn.weight', 'h.11.ln_cross_attn.weight', 'h.6.ln_cross_attn.weight', 'h.8.crossattention.c_proj.weight', 'h.8.crossattention.c_attn.weight', 'h.0.crossattention.c_proj.weight', 'h.2.crossattention.c_attn.weight', 'h.9.ln_cross_attn.weight', 'h.0.crossattention.bias', 'h.5.crossattention.masked_bias', 'h.6.crossattention.q_attn.weight', 'h.3.crossattention.c_attn.weight', 'h.10.crossattention.bias', 'h.3.ln_cross_attn.weight', 'h.1.crossattention.q_attn.weight', 'h.1.crossattention.bias', 'h.5.crossattention.c_attn.weight', 'h.4.crossattention.bias', 'h.3.crossattention.bias', 'h.8.crossattention.q_attn.weight', 'h.4.crossattention.c_proj.bias', 'h.7.crossattention.c_attn.weight', 'h.11.crossattention.c_attn.weight', 'h.10.crossattention.c_attn.weight', 'h.11.crossattention.q_attn.weight', 'h.4.crossattention.c_proj.weight', 'h.6.crossattention.c_proj.weight', 'h.3.crossattention.masked_bias', 'h.8.crossattention.c_proj.bias', 'h.11.crossattention.masked_bias']\nYou should probably TRAIN this model on a down-stream task to be able to use it for predictions and inference.\n",
     "output_type": "stream"
    },
    {
     "output_type": "display_data",
     "data": {
      "text/plain": "  0%|          | 0/12460 [00:00<?, ?ex/s]",
      "application/vnd.jupyter.widget-view+json": {
       "version_major": 2,
       "version_minor": 0,
       "model_id": "9c526b982da94cf99d271dcc44ebc337"
      }
     },
     "metadata": {}
    },
    {
     "output_type": "display_data",
     "data": {
      "text/plain": "  0%|          | 0/500 [00:00<?, ?ex/s]",
      "application/vnd.jupyter.widget-view+json": {
       "version_major": 2,
       "version_minor": 0,
       "model_id": "1c17647f02e247a2a7544ec3e3b69985"
      }
     },
     "metadata": {}
    },
    {
     "output_type": "display_data",
     "data": {
      "text/plain": "  0%|          | 0/35280 [00:00<?, ?it/s]",
      "application/vnd.jupyter.widget-view+json": {
       "version_major": 2,
       "version_minor": 0,
       "model_id": "e8ff9d0891ae47e299933ae09a851709"
      }
     },
     "metadata": {}
    },
    {
     "output_type": "display_data",
     "data": {
      "text/plain": "  0%|          | 0/1397 [00:00<?, ?it/s]",
      "application/vnd.jupyter.widget-view+json": {
       "version_major": 2,
       "version_minor": 0,
       "model_id": "92dadc969cff4b9c8bbd090564335365"
      }
     },
     "metadata": {}
    },
    {
     "name": "stderr",
     "text": "\u001B[32m[I 2022-12-19 18:08:46,160]\u001B[0m Trial 5 finished with value: 1.7344969805108708 and parameters: {'bs': 3, 'lr': 0.005516881543598113}. Best is trial 4 with value: 0.9833395414123727.\u001B[0m\n",
     "output_type": "stream"
    },
    {
     "name": "stdout",
     "text": "{'bs': 3, 'lr': 2.545263049508698e-05}\n",
     "output_type": "stream"
    }
   ]
  },
  {
   "cell_type": "code",
   "source": [
    "! zip -r bert_gpt.zip /kaggle/working/trial4_0.9833395414123727"
   ],
   "metadata": {
    "execution": {
     "iopub.status.busy": "2022-12-19T18:09:27.770168Z",
     "iopub.execute_input": "2022-12-19T18:09:27.770786Z",
     "iopub.status.idle": "2022-12-19T18:10:24.472132Z",
     "shell.execute_reply.started": "2022-12-19T18:09:27.770740Z",
     "shell.execute_reply": "2022-12-19T18:10:24.471093Z"
    },
    "trusted": true
   },
   "execution_count": 13,
   "outputs": [
    {
     "name": "stdout",
     "text": "huggingface/tokenizers: The current process just got forked, after parallelism has already been used. Disabling parallelism to avoid deadlocks...\nTo disable this warning, you can either:\n\t- Avoid using `tokenizers` before the fork if possible\n\t- Explicitly set the environment variable TOKENIZERS_PARALLELISM=(true | false)\n  adding: kaggle/working/trial4_0.9833395414123727/ (stored 0%)\n  adding: kaggle/working/trial4_0.9833395414123727/bert_encoder/ (stored 0%)\n  adding: kaggle/working/trial4_0.9833395414123727/bert_encoder/pytorch_model.bin (deflated 7%)\n  adding: kaggle/working/trial4_0.9833395414123727/bert_encoder/config.json (deflated 48%)\n  adding: kaggle/working/trial4_0.9833395414123727/gpt_decoder/ (stored 0%)\n  adding: kaggle/working/trial4_0.9833395414123727/gpt_decoder/pytorch_model.bin (deflated 11%)\n  adding: kaggle/working/trial4_0.9833395414123727/gpt_decoder/config.json (deflated 52%)\n",
     "output_type": "stream"
    }
   ]
  },
  {
   "cell_type": "code",
   "source": [
    "while True:\n",
    "    pass"
   ],
   "metadata": {
    "execution": {
     "iopub.status.busy": "2022-12-17T21:05:56.284858Z",
     "iopub.execute_input": "2022-12-17T21:05:56.285272Z"
    },
    "trusted": true
   },
   "execution_count": null,
   "outputs": []
  },
  {
   "cell_type": "code",
   "source": [],
   "metadata": {},
   "execution_count": null,
   "outputs": []
  }
 ]
}
