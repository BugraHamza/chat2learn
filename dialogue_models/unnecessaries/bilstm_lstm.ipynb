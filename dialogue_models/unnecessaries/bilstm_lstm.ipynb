{
 "cells": [
  {
   "cell_type": "code",
   "execution_count": 346,
   "metadata": {
    "_cell_guid": "b1076dfc-b9ad-4769-8c92-a6c4dae69d19",
    "_uuid": "8f2839f25d086af736a60e9eeb907d3b93b6e0e5",
    "tags": []
   },
   "outputs": [],
   "source": [
    "import re\n",
    "\n",
    "import numpy as np\n",
    "import pandas as pd\n",
    "import torch\n",
    "import torch.nn as nn\n",
    "import torch.optim as optim\n",
    "\n",
    "from datasets import load_dataset\n",
    "\n",
    "from nltk.tokenize.treebank import TreebankWordDetokenizer\n",
    "\n",
    "from torch.nn.utils.rnn import pack_sequence, pack_padded_sequence, pad_packed_sequence\n",
    "from torch.utils.data import DataLoader, Dataset\n",
    "from torchtext.data import get_tokenizer\n",
    "from torchtext.vocab import build_vocab_from_iterator\n",
    "\n",
    "from tqdm.notebook import tqdm\n",
    "import matplotlib.pyplot as plt"
   ]
  },
  {
   "cell_type": "code",
   "execution_count": null,
   "metadata": {},
   "outputs": [],
   "source": [
    "class QADataset(Dataset):\n",
    "    def __init__(self, dataset, tokenizer, vocab, maxlen, special_tokens, device):\n",
    "        super(QADataset, self).__init__()\n",
    "\n",
    "        self.maxlen = maxlen\n",
    "        self.special_tokens = special_tokens\n",
    "\n",
    "        self.tokenizer = get_tokenizer('spacy') if tokenizer is None else tokenizer\n",
    "        self.vocab = self.get_vocab(dataset) if vocab is None else vocab\n",
    "\n",
    "        self.device = device\n",
    "\n",
    "        sent1, sent2 = self.create_pair_dataset(dataset)\n",
    "\n",
    "        self.sent1, self.lengths1 = self.get_tensor(sent1)\n",
    "        self.sent2, self.lengths2 = self.get_tensor(sent2)\n",
    "\n",
    "    def __getitem__(self, i):\n",
    "        return self.sent1[i], self.lengths1[i], self.sent2[i], self.lengths2[i]\n",
    "\n",
    "    def __len__(self):\n",
    "        return len(self.sent1)\n",
    "\n",
    "    def create_sentence_pairs(self, x):\n",
    "        sentences = re.split(r'[\\s]*#Person\\d#: ', x['dialogue'])[1:]\n",
    "        return {'sent1': sentences[:-1], 'sent2': sentences[1:]}\n",
    "\n",
    "    def create_pair_dataset(self, dataset):\n",
    "        dataset = dataset.map(self.create_sentence_pairs)\n",
    "\n",
    "        flatten_sent1 = [sent for sents in dataset['sent1'] for sent in sents]\n",
    "        flatten_sent2 = [sent for sents in dataset['sent2'] for sent in sents]\n",
    "\n",
    "        df = pd.DataFrame({'sent1': flatten_sent1, 'sent2': flatten_sent2}).drop_duplicates()\n",
    "\n",
    "        return df['sent1'].tolist(), df['sent2'].tolist()\n",
    "\n",
    "    def tokenize_sent(self, sent):\n",
    "        sent = ' '.join([self.special_tokens['bos_token'], sent, self.special_tokens['eos_token']])\n",
    "        sent = [tok for tok in self.tokenizer(sent)]\n",
    "        sent = sent[:self.maxlen]\n",
    "        length = len(sent)\n",
    "        sent = sent + [self.special_tokens['pad_token']] * (self.maxlen - len(sent))\n",
    "        return sent, length\n",
    "\n",
    "    def get_tensor(self, sents):\n",
    "        tokens = torch.zeros((len(sents), self.maxlen), dtype=torch.long, device=self.device)\n",
    "        lengths = []\n",
    "        for i, sent in enumerate(sents):\n",
    "            s, l = self.tokenize_sent(sent)\n",
    "            tokens[i, :] = torch.tensor(self.vocab(s))\n",
    "            lengths.append(l)\n",
    "\n",
    "        return tokens, lengths\n",
    "\n",
    "    def get_vocab(self, dataset):\n",
    "        sent1, sent2 = self.create_pair_dataset(dataset)\n",
    "        dataset = sent1 + sent2\n",
    "\n",
    "        tokenized_dataset = list(map(lambda x: self.tokenize_sent(x)[0], dataset))\n",
    "\n",
    "        vocab = build_vocab_from_iterator(tokenized_dataset, min_freq=5,\n",
    "                                          specials=list(self.special_tokens.values()))\n",
    "        vocab.set_default_index(vocab['|UNK|'])\n",
    "\n",
    "        return vocab\n"
   ]
  },
  {
   "cell_type": "code",
   "execution_count": null,
   "metadata": {},
   "outputs": [],
   "source": [
    "class EncoderModel(nn.Module):\n",
    "    def __init__(self, vocab_size, embed_dim=64, n_layers=32, n_hidden=128, dropout_rate=0.2):\n",
    "        super(EncoderModel, self).__init__()\n",
    "\n",
    "        self.vocab_size = vocab_size\n",
    "        self.embed_dim = embed_dim\n",
    "        self.n_layers = n_layers\n",
    "        self.n_hidden = n_hidden\n",
    "        self.dropout_rate = dropout_rate\n",
    "\n",
    "        self.embed = nn.Embedding(self.vocab_size, embedding_dim=self.embed_dim)\n",
    "        self.lstm = nn.LSTM(self.embed_dim, self.n_hidden, num_layers=self.n_layers, bidirectional=True,\n",
    "                            batch_first=True)\n",
    "        self.dropout = nn.Dropout(self.dropout_rate)\n",
    "\n",
    "    def forward(self, x, lengths=None):\n",
    "        out = self.dropout(self.embed(x))\n",
    "\n",
    "        if lengths is not None:\n",
    "            out = pack_padded_sequence(out, lengths, batch_first=True, enforce_sorted=False)\n",
    "        _, states = self.lstm(out)\n",
    "\n",
    "        return states\n",
    "\n",
    "\n",
    "class DecoderModel(nn.Module):\n",
    "    def __init__(self, vocab_size, embed_dim=64, n_layers=32, n_hidden=128, dropout_rate=0.2):\n",
    "        super(DecoderModel, self).__init__()\n",
    "\n",
    "        self.vocab_size = vocab_size\n",
    "        self.embed_dim = embed_dim\n",
    "        self.n_layers = n_layers\n",
    "        self.n_hidden = n_hidden\n",
    "        self.dropout_rate = dropout_rate\n",
    "\n",
    "        self.embed = nn.Embedding(self.vocab_size, embedding_dim=self.embed_dim)\n",
    "        self.lstm = nn.LSTM(self.embed_dim, self.n_hidden, num_layers=self.n_layers,\n",
    "                            batch_first=True)\n",
    "        self.fc = nn.Linear(self.n_hidden, self.vocab_size)\n",
    "        self.softmax = nn.LogSoftmax(dim=-1)\n",
    "\n",
    "        self.dropout = nn.Dropout(dropout_rate)\n",
    "\n",
    "    def forward(self, x, states, lengths=None):\n",
    "        out = self.dropout(self.embed(x))\n",
    "        if lengths is not None:\n",
    "            out = pack_padded_sequence(out, lengths, batch_first=True, enforce_sorted=False)\n",
    "        out, states = self.lstm(out, states)\n",
    "        out = self.fc(out)\n",
    "        out = self.softmax(out)\n",
    "\n",
    "        return out, states\n"
   ]
  },
  {
   "cell_type": "code",
   "execution_count": null,
   "metadata": {},
   "outputs": [],
   "source": [
    "def train_step(enc_model, dec_model, loader, enc_opt, dec_opt, criterion, device):\n",
    "    enc_model.train(), dec_model.train()\n",
    "\n",
    "    pbar = tqdm(loader)\n",
    "    batch_losses = []\n",
    "\n",
    "    for i, (x, len_x, y, len_y) in enumerate(pbar):\n",
    "        x = x.to(device)\n",
    "        y = y.to(device)\n",
    "\n",
    "        enc_opt.zero_grad()\n",
    "        dec_opt.zero_grad()\n",
    "\n",
    "        enc_states = enc_model(x, len_x)\n",
    "        dec_out, _ = dec_model(y[:, :-1], enc_states)\n",
    "\n",
    "        loss = criterion(dec_out.moveaxis(1, -1), y[:, 1:])\n",
    "        loss.backward()\n",
    "\n",
    "        enc_opt.step()\n",
    "        dec_opt.step()\n",
    "\n",
    "        batch_losses.append(loss.item())\n",
    "        pbar.set_description(f'Batch Loss: {loss.item():.3f} Train Loss: {np.mean(batch_losses):.3f}')\n",
    "\n",
    "    return np.mean(batch_losses)\n",
    "\n",
    "\n",
    "def eval_step(enc_model, dec_model, loader, criterion, device):\n",
    "    enc_model.eval(), dec_model.eval()\n",
    "\n",
    "    pbar = tqdm(loader)\n",
    "    batch_losses = []\n",
    "\n",
    "    with torch.no_grad():\n",
    "        for i, (x, len_x, y, len_y) in enumerate(pbar):\n",
    "            x = x.to(device)\n",
    "            y = y.to(device)\n",
    "\n",
    "            enc_states = enc_model(x, len_x)\n",
    "            dec_out, _ = dec_model(y[:, :-1], enc_states)\n",
    "\n",
    "            loss = criterion(dec_out.moveaxis(1, -1), y[:, 1:])\n",
    "\n",
    "            batch_losses.append(loss.item())\n",
    "            pbar.set_description(f'Batch Loss: {loss.item():.3f} Validation Loss: {np.mean(batch_losses):.3f}')\n",
    "\n",
    "    return np.mean(batch_losses)\n",
    "\n",
    "\n",
    "def beam_search(model, tokenized_sent, num_beams, max_new_token, eos_token_id, **kwargs):\n",
    "    # generate function for beam search decoding\n",
    "    # model: model to generate\n",
    "    # tokenized_sent: tokenized input sentence\n",
    "    # num_beams: number of beams\n",
    "    # max_new_token: maximum number of new tokens to generate\n",
    "    # eos_token_id: end of sentence token_id for early stopping\n",
    "    # **kwargs: additional arguments for model forward pass\n",
    "\n",
    "    # get first beams\n",
    "    out, states = model(tokenized_sent, kwargs.get('states'))\n",
    "    top_preds = out[-1, :].topk(num_beams, dim=-1)\n",
    "\n",
    "    # add predictions to beams\n",
    "    beams = [(pred.unsqueeze(0), states, score.item()) for pred, score in zip(top_preds.indices, top_preds.values)]\n",
    "\n",
    "    for i in range(max_new_token - 1):\n",
    "        new_beams = []\n",
    "        for beam in beams:\n",
    "            if beam[0][-1] == eos_token_id:\n",
    "                new_beams.append(beam)\n",
    "                continue\n",
    "\n",
    "            out, states = model(beam[0][-1:], beam[1])\n",
    "            top_preds = out[-1, :].topk(num_beams, dim=-1)\n",
    "\n",
    "            for pred, score in zip(top_preds.indices, top_preds.values):\n",
    "                new_beams.append((torch.cat((beam[0], pred.unsqueeze(0)), dim=0), states, beam[2] + score.item()))\n",
    "\n",
    "        beams = sorted(new_beams, key=lambda x: x[2], reverse=True)[:num_beams]\n",
    "\n",
    "        if beams[0][0][-1] == eos_token_id:\n",
    "            break\n",
    "\n",
    "    # return the best beam and its states\n",
    "    return beams[0][0], beams[0][1]\n",
    "\n",
    "\n",
    "def answer(enc_model, dec_model, sent, maxlen, tokenizer, vocab, special_tokens, device):\n",
    "    enc_model.eval(), dec_model.eval()\n",
    "\n",
    "    eos_token_id = vocab[special_tokens['eos_token']]\n",
    "    detokenizer = TreebankWordDetokenizer()\n",
    "\n",
    "    sent = ' '.join([special_tokens['bos_token'], sent, special_tokens['eos_token']])\n",
    "    sent = [tok for tok in tokenizer(sent)]\n",
    "    sent = torch.tensor(vocab(sent), device=device)\n",
    "    print(sent)\n",
    "\n",
    "    answer_sent = vocab([special_tokens['bos_token']])\n",
    "    answer_sent = torch.tensor(answer_sent, device=device)\n",
    "    print(answer_sent)\n",
    "\n",
    "    with torch.no_grad():\n",
    "        encoder_states = enc_model(sent)\n",
    "\n",
    "        answer, _ = beam_search(dec_model, answer_sent, num_beams=1, max_new_token=maxlen, eos_token_id=eos_token_id, states=encoder_states)\n",
    "        print(answer)\n",
    "        tokens = vocab.lookup_tokens(answer.tolist())\n",
    "\n",
    "        return detokenizer.detokenize(tokens)\n"
   ]
  },
  {
   "cell_type": "code",
   "execution_count": 349,
   "metadata": {},
   "outputs": [],
   "source": [
    "def train(max_len, bs, lr, epochs, **kwargs):\n",
    "    special_tokens = {'bos_token': '|BOS|',\n",
    "                      'pad_token': '|PAD|',\n",
    "                      'eos_token': '|EOS|',\n",
    "                      'unk_token': '|UNK|'}\n",
    "\n",
    "    train_dataset = load_dataset('knkarthick/dialogsum', split='train')\n",
    "    val_dataset = load_dataset('knkarthick/dialogsum', split='validation')\n",
    "\n",
    "    lm_train = QADataset(train_dataset, None, None, max_len, special_tokens, device)\n",
    "    lm_valid = QADataset(val_dataset, lm_train.tokenizer, lm_train.vocab, max_len, special_tokens, device)\n",
    "\n",
    "    train_loader = DataLoader(lm_train, batch_size=bs, shuffle=True)\n",
    "    val_loader = DataLoader(lm_valid, batch_size=bs)\n",
    "\n",
    "    encoder_kwargs = {k.replace('encoder_', ''): v for k, v in kwargs.items() if 'encoder_' in k}\n",
    "    encoder_model = EncoderModel(vocab_size=len(lm_train.vocab), **encoder_kwargs).to(device)\n",
    "\n",
    "    decoder_kwargs = {k.replace('decoder_', ''): v for k, v in kwargs.items() if 'decoder_' in k}\n",
    "    decoder_model = DecoderModel(vocab_size=len(lm_train.vocab), **decoder_kwargs).to(device)\n",
    "\n",
    "    #assert decoder_kwargs['n_layers'] == 2 * encoder_kwargs['n_layers'], '# of encoder layers must be the double the size of # decoder layers..'\n",
    "\n",
    "    encoder_optimizer = optim.Adam(encoder_model.parameters(), lr=lr)\n",
    "    decoder_optimizer = optim.Adam(decoder_model.parameters(), lr=lr)\n",
    "\n",
    "    criterion = nn.NLLLoss()\n",
    "\n",
    "    train_losses, val_losses = [], []\n",
    "    for e in range(epochs):\n",
    "        train_loss = train_step(encoder_model, decoder_model, train_loader,\n",
    "                                encoder_optimizer, decoder_optimizer, criterion,\n",
    "                                device)\n",
    "        val_loss = eval_step(encoder_model, decoder_model,\n",
    "                             val_loader, criterion, device)\n",
    "        ans = answer(encoder_model, decoder_model, 'Hi, how are you?', max_len, lm_train.tokenizer, lm_train.vocab, special_tokens, device)\n",
    "        print('ANSWER: ', ans)\n",
    "\n",
    "        train_losses.append(train_loss)\n",
    "        val_losses.append(val_loss)\n",
    "\n",
    "        torch.save(encoder_model.state_dict(), f'encoder{e+1}.pt')\n",
    "        torch.save(decoder_model.state_dict(), f'decoder{e+1}.pt')\n",
    "\n",
    "    plt.plot(train_losses, 'r', label='Training Loss')\n",
    "    plt.plot(val_losses, 'b', label='Validation Loss')\n",
    "    plt.title('BiLSTM + LSTM Training Results')\n",
    "    plt.xlabel('Epoch')\n",
    "    plt.ylabel('Loss')\n",
    "    plt.legend()\n",
    "    plt.savefig('bilstm_results.png')\n",
    "\n",
    "    return val_loss\n"
   ]
  },
  {
   "cell_type": "code",
   "execution_count": 350,
   "metadata": {},
   "outputs": [],
   "source": [
    "max_len = 50\n",
    "bs = 8\n",
    "lr = 1e-3\n",
    "epochs = 20\n",
    "device = 'cuda'"
   ]
  },
  {
   "cell_type": "code",
   "execution_count": 354,
   "outputs": [],
   "source": [
    "torch.save(lm_train.vocab, 'bilstm_tokenizer.pth')"
   ],
   "metadata": {
    "collapsed": false
   }
  },
  {
   "cell_type": "code",
   "execution_count": 355,
   "outputs": [],
   "source": [
    "encoder_model = EncoderModel(vocab_size=len(lm_train.vocab), embed_dim=256 , n_layers=2, n_hidden=256, dropout_rate=0.2).to(device)\n",
    "decoder_model = DecoderModel(vocab_size=len(lm_train.vocab), embed_dim=256, n_layers=4, n_hidden=256, dropout_rate=0.2).to(device)\n",
    "\n",
    "torch.save(encoder_model.load_state_dict(torch.load('../saved models/bilstm_lstm-models/encoder8.pt')), 'encoder_model8.pt')\n",
    "torch.save(decoder_model.load_state_dict(torch.load('../saved models/bilstm_lstm-models/decoder8.pt')), 'decoder_model8.pt')\n"
   ],
   "metadata": {
    "collapsed": false
   }
  },
  {
   "cell_type": "code",
   "execution_count": 360,
   "outputs": [
    {
     "name": "stdout",
     "output_type": "stream",
     "text": [
      "tensor([  0, 280,   5, 104,  23,   7,   9,   2], device='cuda:0')\n",
      "tensor([0], device='cuda:0')\n",
      "tensor([  6,  34, 276,   5, 392,   4,   2], device='cuda:0')\n"
     ]
    },
    {
     "data": {
      "text/plain": "\"I'm fine, thanks . |EOS|\""
     },
     "execution_count": 360,
     "metadata": {},
     "output_type": "execute_result"
    }
   ],
   "source": [
    "special_tokens = {'bos_token': '|BOS|',\n",
    "                      'pad_token': '|PAD|',\n",
    "                      'eos_token': '|EOS|',\n",
    "                      'unk_token': '|UNK|'}\n",
    "answer(encoder_model, decoder_model, 'Hi, how are you?', 50, lm_train.tokenizer, lm_train.vocab, special_tokens, 'cuda')"
   ],
   "metadata": {
    "collapsed": false
   }
  },
  {
   "cell_type": "code",
   "execution_count": 362,
   "outputs": [],
   "source": [
    "torch.save(encoder_model, 'encoder_model8.pt')\n",
    "torch.save(decoder_model, 'decoder_model8.pt')\n"
   ],
   "metadata": {
    "collapsed": false
   }
  },
  {
   "cell_type": "code",
   "execution_count": 351,
   "outputs": [
    {
     "name": "stderr",
     "output_type": "stream",
     "text": [
      "Using custom data configuration knkarthick--dialogsum-caf2f3e75d9073aa\n",
      "Found cached dataset csv (/home/sefa/.cache/huggingface/datasets/knkarthick___csv/knkarthick--dialogsum-caf2f3e75d9073aa/0.0.0/6b34fb8fcf56f7c8ba51dc895bfa2bfbe43546f190a60fcf74bb5e8afdcc2317)\n",
      "Using custom data configuration knkarthick--dialogsum-caf2f3e75d9073aa\n",
      "Found cached dataset csv (/home/sefa/.cache/huggingface/datasets/knkarthick___csv/knkarthick--dialogsum-caf2f3e75d9073aa/0.0.0/6b34fb8fcf56f7c8ba51dc895bfa2bfbe43546f190a60fcf74bb5e8afdcc2317)\n",
      "/home/sefa/anaconda3/envs/chat2learn/lib/python3.8/site-packages/torchtext/data/utils.py:105: UserWarning: Spacy model \"en\" could not be loaded, trying \"en_core_web_sm\" instead\n",
      "  warnings.warn(\n",
      "Loading cached processed dataset at /home/sefa/.cache/huggingface/datasets/knkarthick___csv/knkarthick--dialogsum-caf2f3e75d9073aa/0.0.0/6b34fb8fcf56f7c8ba51dc895bfa2bfbe43546f190a60fcf74bb5e8afdcc2317/cache-9d033395d0a367cf.arrow\n",
      "Loading cached processed dataset at /home/sefa/.cache/huggingface/datasets/knkarthick___csv/knkarthick--dialogsum-caf2f3e75d9073aa/0.0.0/6b34fb8fcf56f7c8ba51dc895bfa2bfbe43546f190a60fcf74bb5e8afdcc2317/cache-a45bb773a7c0cad2.arrow\n",
      "Loading cached processed dataset at /home/sefa/.cache/huggingface/datasets/knkarthick___csv/knkarthick--dialogsum-caf2f3e75d9073aa/0.0.0/6b34fb8fcf56f7c8ba51dc895bfa2bfbe43546f190a60fcf74bb5e8afdcc2317/cache-86d8f1d2faeeba6c.arrow\n"
     ]
    },
    {
     "data": {
      "text/plain": "  0%|          | 0/11792 [00:00<?, ?it/s]",
      "application/vnd.jupyter.widget-view+json": {
       "version_major": 2,
       "version_minor": 0,
       "model_id": "2314c85aae4e43cda55eed3f6a27c370"
      }
     },
     "metadata": {},
     "output_type": "display_data"
    },
    {
     "data": {
      "text/plain": "  0%|          | 0/521 [00:00<?, ?it/s]",
      "application/vnd.jupyter.widget-view+json": {
       "version_major": 2,
       "version_minor": 0,
       "model_id": "a81436553f96419eafb84f58c6172a4f"
      }
     },
     "metadata": {},
     "output_type": "display_data"
    },
    {
     "name": "stdout",
     "output_type": "stream",
     "text": [
      "tensor([  0, 280,   5, 104,  23,   7,   9,   2], device='cuda:0')\n",
      "tensor([0], device='cuda:0')\n",
      "tensor([  6,  34,  79,  10,  19,  11, 674,   4,   2], device='cuda:0')\n",
      "ANSWER:  I'm going to have a reservation . |EOS|\n"
     ]
    },
    {
     "data": {
      "text/plain": "  0%|          | 0/11792 [00:00<?, ?it/s]",
      "application/vnd.jupyter.widget-view+json": {
       "version_major": 2,
       "version_minor": 0,
       "model_id": "5c1e79b8d697434aa88aac7e2113db80"
      }
     },
     "metadata": {},
     "output_type": "display_data"
    },
    {
     "data": {
      "text/plain": "  0%|          | 0/521 [00:00<?, ?it/s]",
      "application/vnd.jupyter.widget-view+json": {
       "version_major": 2,
       "version_minor": 0,
       "model_id": "7d1d3a89a77c48ab97fe5d92383bf22b"
      }
     },
     "metadata": {},
     "output_type": "display_data"
    },
    {
     "name": "stdout",
     "output_type": "stream",
     "text": [
      "tensor([  0, 280,   5, 104,  23,   7,   9,   2], device='cuda:0')\n",
      "tensor([0], device='cuda:0')\n",
      "tensor([280,   5,   6,  34, 594,  10, 343,  20,   4,   2], device='cuda:0')\n",
      "ANSWER:  Hi, I'm calling to hear that . |EOS|\n"
     ]
    },
    {
     "data": {
      "text/plain": "  0%|          | 0/11792 [00:00<?, ?it/s]",
      "application/vnd.jupyter.widget-view+json": {
       "version_major": 2,
       "version_minor": 0,
       "model_id": "86da2810a7f9497abc9a25f230e40bd3"
      }
     },
     "metadata": {},
     "output_type": "display_data"
    },
    {
     "data": {
      "text/plain": "  0%|          | 0/521 [00:00<?, ?it/s]",
      "application/vnd.jupyter.widget-view+json": {
       "version_major": 2,
       "version_minor": 0,
       "model_id": "f37dd98d0b464b6791e810c404dd60fb"
      }
     },
     "metadata": {},
     "output_type": "display_data"
    },
    {
     "name": "stdout",
     "output_type": "stream",
     "text": [
      "tensor([  0, 280,   5, 104,  23,   7,   9,   2], device='cuda:0')\n",
      "tensor([0], device='cuda:0')\n",
      "tensor([280,   5,   6,  34, 594,  10, 283,   7,   4,   2], device='cuda:0')\n",
      "ANSWER:  Hi, I'm calling to meet you . |EOS|\n"
     ]
    },
    {
     "data": {
      "text/plain": "  0%|          | 0/11792 [00:00<?, ?it/s]",
      "application/vnd.jupyter.widget-view+json": {
       "version_major": 2,
       "version_minor": 0,
       "model_id": "737b87c53fcd455d953eb92a9ff6b1a4"
      }
     },
     "metadata": {},
     "output_type": "display_data"
    },
    {
     "data": {
      "text/plain": "  0%|          | 0/521 [00:00<?, ?it/s]",
      "application/vnd.jupyter.widget-view+json": {
       "version_major": 2,
       "version_minor": 0,
       "model_id": "1e8b933030684fffafd6ac6bd40f7bb5"
      }
     },
     "metadata": {},
     "output_type": "display_data"
    },
    {
     "name": "stdout",
     "output_type": "stream",
     "text": [
      "tensor([  0, 280,   5, 104,  23,   7,   9,   2], device='cuda:0')\n",
      "tensor([0], device='cuda:0')\n",
      "tensor([   6,   34,  276,    4,    6,   34,   79,   10,   19,   10,   54,   10,\n",
      "           8, 1124,    4,    2], device='cuda:0')\n",
      "ANSWER:  I'm fine . I'm going to have to go to the gym . |EOS|\n"
     ]
    },
    {
     "data": {
      "text/plain": "  0%|          | 0/11792 [00:00<?, ?it/s]",
      "application/vnd.jupyter.widget-view+json": {
       "version_major": 2,
       "version_minor": 0,
       "model_id": "d2898cf4eee847f289735f483f8630f3"
      }
     },
     "metadata": {},
     "output_type": "display_data"
    },
    {
     "data": {
      "text/plain": "  0%|          | 0/521 [00:00<?, ?it/s]",
      "application/vnd.jupyter.widget-view+json": {
       "version_major": 2,
       "version_minor": 0,
       "model_id": "6adf73d32f754fd08fba25cc460bf56e"
      }
     },
     "metadata": {},
     "output_type": "display_data"
    },
    {
     "name": "stdout",
     "output_type": "stream",
     "text": [
      "tensor([  0, 280,   5, 104,  23,   7,   9,   2], device='cuda:0')\n",
      "tensor([0], device='cuda:0')\n",
      "tensor([564,   5, 392,   4,   6,  34,  71, 177,   4,   6,  34,  58, 260,  22,\n",
      "         11, 134, 154,   4,   2], device='cuda:0')\n",
      "ANSWER:  Fine, thanks . I'm very sorry . I'm just looking for a new job . |EOS|\n"
     ]
    },
    {
     "data": {
      "text/plain": "  0%|          | 0/11792 [00:00<?, ?it/s]",
      "application/vnd.jupyter.widget-view+json": {
       "version_major": 2,
       "version_minor": 0,
       "model_id": "8db3b8b798734ed798c156f98aedcdc1"
      }
     },
     "metadata": {},
     "output_type": "display_data"
    },
    {
     "data": {
      "text/plain": "  0%|          | 0/521 [00:00<?, ?it/s]",
      "application/vnd.jupyter.widget-view+json": {
       "version_major": 2,
       "version_minor": 0,
       "model_id": "c4f554b9bec14950bdf53d3e05955f3b"
      }
     },
     "metadata": {},
     "output_type": "display_data"
    },
    {
     "name": "stdout",
     "output_type": "stream",
     "text": [
      "tensor([  0, 280,   5, 104,  23,   7,   9,   2], device='cuda:0')\n",
      "tensor([0], device='cuda:0')\n",
      "tensor([  6,  34, 276,   4,   6,  34,  58, 260,  22,  11, 134,  60,   4,   2],\n",
      "       device='cuda:0')\n",
      "ANSWER:  I'm fine . I'm just looking for a new one . |EOS|\n"
     ]
    },
    {
     "data": {
      "text/plain": "  0%|          | 0/11792 [00:00<?, ?it/s]",
      "application/vnd.jupyter.widget-view+json": {
       "version_major": 2,
       "version_minor": 0,
       "model_id": "b50e9807aed741bd93d58ac0f2794147"
      }
     },
     "metadata": {},
     "output_type": "display_data"
    },
    {
     "data": {
      "text/plain": "  0%|          | 0/521 [00:00<?, ?it/s]",
      "application/vnd.jupyter.widget-view+json": {
       "version_major": 2,
       "version_minor": 0,
       "model_id": "2d38724474d74917a73c3fe08adbfec8"
      }
     },
     "metadata": {},
     "output_type": "display_data"
    },
    {
     "name": "stdout",
     "output_type": "stream",
     "text": [
      "tensor([  0, 280,   5, 104,  23,   7,   9,   2], device='cuda:0')\n",
      "tensor([0], device='cuda:0')\n",
      "tensor([  6,  34, 276,   4,   6,  34, 594,  10, 283,   7,   4,   2],\n",
      "       device='cuda:0')\n",
      "ANSWER:  I'm fine . I'm calling to meet you . |EOS|\n"
     ]
    },
    {
     "data": {
      "text/plain": "  0%|          | 0/11792 [00:00<?, ?it/s]",
      "application/vnd.jupyter.widget-view+json": {
       "version_major": 2,
       "version_minor": 0,
       "model_id": "4d1ecab5cf3e472ca2debb1dc3229573"
      }
     },
     "metadata": {},
     "output_type": "display_data"
    },
    {
     "data": {
      "text/plain": "  0%|          | 0/521 [00:00<?, ?it/s]",
      "application/vnd.jupyter.widget-view+json": {
       "version_major": 2,
       "version_minor": 0,
       "model_id": "a9da46c079614f9b9fe421d80b10c276"
      }
     },
     "metadata": {},
     "output_type": "display_data"
    },
    {
     "name": "stdout",
     "output_type": "stream",
     "text": [
      "tensor([  0, 280,   5, 104,  23,   7,   9,   2], device='cuda:0')\n",
      "tensor([0], device='cuda:0')\n",
      "tensor([   6,   34,  276,    4,    6,   34,   79,   10,   19,   10,   53,   11,\n",
      "         134, 1847,    4,    2], device='cuda:0')\n",
      "ANSWER:  I'm fine . I'm going to have to get a new carpet . |EOS|\n"
     ]
    },
    {
     "data": {
      "text/plain": "  0%|          | 0/11792 [00:00<?, ?it/s]",
      "application/vnd.jupyter.widget-view+json": {
       "version_major": 2,
       "version_minor": 0,
       "model_id": "4a2ba7c8035747aca7a7fa8d314983a2"
      }
     },
     "metadata": {},
     "output_type": "display_data"
    },
    {
     "data": {
      "text/plain": "  0%|          | 0/521 [00:00<?, ?it/s]",
      "application/vnd.jupyter.widget-view+json": {
       "version_major": 2,
       "version_minor": 0,
       "model_id": "c0d23fc94b4141f29eaf15fdfcf7acb2"
      }
     },
     "metadata": {},
     "output_type": "display_data"
    },
    {
     "name": "stdout",
     "output_type": "stream",
     "text": [
      "tensor([  0, 280,   5, 104,  23,   7,   9,   2], device='cuda:0')\n",
      "tensor([0], device='cuda:0')\n",
      "tensor([251,  86, 254,   4,   2], device='cuda:0')\n",
      "ANSWER:  Not too bad . |EOS|\n"
     ]
    },
    {
     "data": {
      "text/plain": "  0%|          | 0/11792 [00:00<?, ?it/s]",
      "application/vnd.jupyter.widget-view+json": {
       "version_major": 2,
       "version_minor": 0,
       "model_id": "6249f316182442c28c8c0c88d1d57ef4"
      }
     },
     "metadata": {},
     "output_type": "display_data"
    },
    {
     "data": {
      "text/plain": "  0%|          | 0/521 [00:00<?, ?it/s]",
      "application/vnd.jupyter.widget-view+json": {
       "version_major": 2,
       "version_minor": 0,
       "model_id": "c5ed28826cb24ae3af04f74466ffc526"
      }
     },
     "metadata": {},
     "output_type": "display_data"
    },
    {
     "name": "stdout",
     "output_type": "stream",
     "text": [
      "tensor([  0, 280,   5, 104,  23,   7,   9,   2], device='cuda:0')\n",
      "tensor([0], device='cuda:0')\n",
      "tensor([  6,  34, 276,   4,   6,  34, 260,  22,  11, 134, 154,   4,   2],\n",
      "       device='cuda:0')\n",
      "ANSWER:  I'm fine . I'm looking for a new job . |EOS|\n"
     ]
    },
    {
     "data": {
      "text/plain": "  0%|          | 0/11792 [00:00<?, ?it/s]",
      "application/vnd.jupyter.widget-view+json": {
       "version_major": 2,
       "version_minor": 0,
       "model_id": "b8dc6e2670964a5a9e4d182a7a2239e8"
      }
     },
     "metadata": {},
     "output_type": "display_data"
    },
    {
     "data": {
      "text/plain": "  0%|          | 0/521 [00:00<?, ?it/s]",
      "application/vnd.jupyter.widget-view+json": {
       "version_major": 2,
       "version_minor": 0,
       "model_id": "54480fe67d054262b3d121d3bfeac1d0"
      }
     },
     "metadata": {},
     "output_type": "display_data"
    },
    {
     "name": "stdout",
     "output_type": "stream",
     "text": [
      "tensor([  0, 280,   5, 104,  23,   7,   9,   2], device='cuda:0')\n",
      "tensor([0], device='cuda:0')\n",
      "tensor([  6,  34, 276,   4,   2], device='cuda:0')\n",
      "ANSWER:  I'm fine . |EOS|\n"
     ]
    },
    {
     "data": {
      "text/plain": "  0%|          | 0/11792 [00:00<?, ?it/s]",
      "application/vnd.jupyter.widget-view+json": {
       "version_major": 2,
       "version_minor": 0,
       "model_id": "4ba85b296fa842d59c522a0adc740c69"
      }
     },
     "metadata": {},
     "output_type": "display_data"
    },
    {
     "data": {
      "text/plain": "  0%|          | 0/521 [00:00<?, ?it/s]",
      "application/vnd.jupyter.widget-view+json": {
       "version_major": 2,
       "version_minor": 0,
       "model_id": "7113be20d0344db7a8b889d3c655bd57"
      }
     },
     "metadata": {},
     "output_type": "display_data"
    },
    {
     "name": "stdout",
     "output_type": "stream",
     "text": [
      "tensor([  0, 280,   5, 104,  23,   7,   9,   2], device='cuda:0')\n",
      "tensor([0], device='cuda:0')\n",
      "tensor([   6,   34,  276,    4,    6,   34,   79,   10,   19,   10,  464,   85,\n",
      "          28, 2080,   80,    8, 1155, 1112,    4,    2], device='cuda:0')\n",
      "ANSWER:  I'm fine . I'm going to have to pick up my aunt from the United States . |EOS|\n"
     ]
    },
    {
     "data": {
      "text/plain": "  0%|          | 0/11792 [00:00<?, ?it/s]",
      "application/vnd.jupyter.widget-view+json": {
       "version_major": 2,
       "version_minor": 0,
       "model_id": "1637d9c2460b429cb5584bb24e277dca"
      }
     },
     "metadata": {},
     "output_type": "display_data"
    },
    {
     "data": {
      "text/plain": "  0%|          | 0/521 [00:00<?, ?it/s]",
      "application/vnd.jupyter.widget-view+json": {
       "version_major": 2,
       "version_minor": 0,
       "model_id": "fe2cd728348e4dc89496c641106f6f51"
      }
     },
     "metadata": {},
     "output_type": "display_data"
    },
    {
     "name": "stdout",
     "output_type": "stream",
     "text": [
      "tensor([  0, 280,   5, 104,  23,   7,   9,   2], device='cuda:0')\n",
      "tensor([0], device='cuda:0')\n",
      "tensor([   6,   34,  276,    4,    6,   34,   79,   10,   25,   11, 2604, 3057,\n",
      "           4,    2], device='cuda:0')\n",
      "ANSWER:  I'm fine . I'm going to be a senior engineer . |EOS|\n"
     ]
    },
    {
     "data": {
      "text/plain": "  0%|          | 0/11792 [00:00<?, ?it/s]",
      "application/vnd.jupyter.widget-view+json": {
       "version_major": 2,
       "version_minor": 0,
       "model_id": "1ef92d3bca3a454796c5e1f6dafaed38"
      }
     },
     "metadata": {},
     "output_type": "display_data"
    },
    {
     "data": {
      "text/plain": "  0%|          | 0/521 [00:00<?, ?it/s]",
      "application/vnd.jupyter.widget-view+json": {
       "version_major": 2,
       "version_minor": 0,
       "model_id": "0e9d50bf12d04073965a1a694a6e4b65"
      }
     },
     "metadata": {},
     "output_type": "display_data"
    },
    {
     "name": "stdout",
     "output_type": "stream",
     "text": [
      "tensor([  0, 280,   5, 104,  23,   7,   9,   2], device='cuda:0')\n",
      "tensor([0], device='cuda:0')\n",
      "tensor([  6,  34, 276,   4,   6,  34,  79,  10,  19,  10, 464,  85,  65,  16,\n",
      "         28, 323,   4,   2], device='cuda:0')\n",
      "ANSWER:  I'm fine . I'm going to have to pick up some of my friends . |EOS|\n"
     ]
    },
    {
     "data": {
      "text/plain": "  0%|          | 0/11792 [00:00<?, ?it/s]",
      "application/vnd.jupyter.widget-view+json": {
       "version_major": 2,
       "version_minor": 0,
       "model_id": "6a984ff44dad49958528a012fc1b433b"
      }
     },
     "metadata": {},
     "output_type": "display_data"
    },
    {
     "data": {
      "text/plain": "  0%|          | 0/521 [00:00<?, ?it/s]",
      "application/vnd.jupyter.widget-view+json": {
       "version_major": 2,
       "version_minor": 0,
       "model_id": "51294628c295411dbc2708bef10bddee"
      }
     },
     "metadata": {},
     "output_type": "display_data"
    },
    {
     "name": "stdout",
     "output_type": "stream",
     "text": [
      "tensor([  0, 280,   5, 104,  23,   7,   9,   2], device='cuda:0')\n",
      "tensor([0], device='cuda:0')\n",
      "tensor([ 280,    5,    6,   34, 2658,    4,    6,   34,   11,  176,  862,   38,\n",
      "          13,    4,    2], device='cuda:0')\n",
      "ANSWER:  Hi, I'm Henry . I'm a little worried about it . |EOS|\n"
     ]
    },
    {
     "data": {
      "text/plain": "  0%|          | 0/11792 [00:00<?, ?it/s]",
      "application/vnd.jupyter.widget-view+json": {
       "version_major": 2,
       "version_minor": 0,
       "model_id": "126700a923ed41e794b02d23a0016a75"
      }
     },
     "metadata": {},
     "output_type": "display_data"
    },
    {
     "data": {
      "text/plain": "  0%|          | 0/521 [00:00<?, ?it/s]",
      "application/vnd.jupyter.widget-view+json": {
       "version_major": 2,
       "version_minor": 0,
       "model_id": "d640d70a8e3b402e8ad2ac8d9b308c12"
      }
     },
     "metadata": {},
     "output_type": "display_data"
    },
    {
     "name": "stdout",
     "output_type": "stream",
     "text": [
      "tensor([  0, 280,   5, 104,  23,   7,   9,   2], device='cuda:0')\n",
      "tensor([0], device='cuda:0')\n",
      "tensor([   6,   34,  276,    4,    6,   34,   79,   10,   25,   11, 2815,   17,\n",
      "           8,  802,    4,    2], device='cuda:0')\n",
      "ANSWER:  I'm fine . I'm going to be a volunteer in the library . |EOS|\n"
     ]
    },
    {
     "data": {
      "text/plain": "  0%|          | 0/11792 [00:00<?, ?it/s]",
      "application/vnd.jupyter.widget-view+json": {
       "version_major": 2,
       "version_minor": 0,
       "model_id": "8d178d721bab4f54822236f89af27587"
      }
     },
     "metadata": {},
     "output_type": "display_data"
    },
    {
     "data": {
      "text/plain": "  0%|          | 0/521 [00:00<?, ?it/s]",
      "application/vnd.jupyter.widget-view+json": {
       "version_major": 2,
       "version_minor": 0,
       "model_id": "5811673be69743968d011d95d5d1ea05"
      }
     },
     "metadata": {},
     "output_type": "display_data"
    },
    {
     "name": "stdout",
     "output_type": "stream",
     "text": [
      "tensor([  0, 280,   5, 104,  23,   7,   9,   2], device='cuda:0')\n",
      "tensor([0], device='cuda:0')\n",
      "tensor([  6,  34, 276,   4,   6,  34, 260,  22,  11, 134, 154,   4,   2],\n",
      "       device='cuda:0')\n",
      "ANSWER:  I'm fine . I'm looking for a new job . |EOS|\n"
     ]
    },
    {
     "data": {
      "text/plain": "  0%|          | 0/11792 [00:00<?, ?it/s]",
      "application/vnd.jupyter.widget-view+json": {
       "version_major": 2,
       "version_minor": 0,
       "model_id": "5aaa839d408a49d9a7dca153e158a885"
      }
     },
     "metadata": {},
     "output_type": "display_data"
    },
    {
     "data": {
      "text/plain": "  0%|          | 0/521 [00:00<?, ?it/s]",
      "application/vnd.jupyter.widget-view+json": {
       "version_major": 2,
       "version_minor": 0,
       "model_id": "fe1d6fef941244dc81d806b13f0ab957"
      }
     },
     "metadata": {},
     "output_type": "display_data"
    },
    {
     "name": "stdout",
     "output_type": "stream",
     "text": [
      "tensor([  0, 280,   5, 104,  23,   7,   9,   2], device='cuda:0')\n",
      "tensor([0], device='cuda:0')\n",
      "tensor([  6,  34, 276,   5, 392,   4,   2], device='cuda:0')\n",
      "ANSWER:  I'm fine, thanks . |EOS|\n"
     ]
    },
    {
     "data": {
      "text/plain": "  0%|          | 0/11792 [00:00<?, ?it/s]",
      "application/vnd.jupyter.widget-view+json": {
       "version_major": 2,
       "version_minor": 0,
       "model_id": "1ae092f3b9fc4253a2eb69e4b7e8180c"
      }
     },
     "metadata": {},
     "output_type": "display_data"
    },
    {
     "data": {
      "text/plain": "  0%|          | 0/521 [00:00<?, ?it/s]",
      "application/vnd.jupyter.widget-view+json": {
       "version_major": 2,
       "version_minor": 0,
       "model_id": "46225781be8543cd952b763afdfca7a6"
      }
     },
     "metadata": {},
     "output_type": "display_data"
    },
    {
     "name": "stdout",
     "output_type": "stream",
     "text": [
      "tensor([  0, 280,   5, 104,  23,   7,   9,   2], device='cuda:0')\n",
      "tensor([0], device='cuda:0')\n",
      "tensor([   6,   34,  276,    4,    6,   34,   11,  176, 1082,    4,    2],\n",
      "       device='cuda:0')\n",
      "ANSWER:  I'm fine . I'm a little nervous . |EOS|\n"
     ]
    },
    {
     "data": {
      "text/plain": "  0%|          | 0/11792 [00:00<?, ?it/s]",
      "application/vnd.jupyter.widget-view+json": {
       "version_major": 2,
       "version_minor": 0,
       "model_id": "684bebdb3f1d474ea861d8f17462b544"
      }
     },
     "metadata": {},
     "output_type": "display_data"
    },
    {
     "data": {
      "text/plain": "  0%|          | 0/521 [00:00<?, ?it/s]",
      "application/vnd.jupyter.widget-view+json": {
       "version_major": 2,
       "version_minor": 0,
       "model_id": "a748acf86f9148c6aca035c7a19bd2a6"
      }
     },
     "metadata": {},
     "output_type": "display_data"
    },
    {
     "name": "stdout",
     "output_type": "stream",
     "text": [
      "tensor([  0, 280,   5, 104,  23,   7,   9,   2], device='cuda:0')\n",
      "tensor([0], device='cuda:0')\n",
      "tensor([   6,   34,  276,    4,    6,   34,   58,  260,   22,   11, 1332,    4,\n",
      "           2], device='cuda:0')\n",
      "ANSWER:  I'm fine . I'm just looking for a coat . |EOS|\n"
     ]
    },
    {
     "data": {
      "text/plain": "<Figure size 640x480 with 1 Axes>",
      "image/png": "[encoded data removed]"
     },
     "metadata": {},
     "output_type": "display_data"
    }
   ],
   "source": [
    "val_loss = train(max_len, bs, lr, epochs, device=device,\n",
    "                 encoder_embed_dim=256, encoder_n_layers=1, encoder_n_hidden=256, encoder_dropout_rate=0.2,\n",
    "                 decoder_embed_dim=256, decoder_n_layers=2, decoder_n_hidden=256, decoder_dropout_rate=0.2)"
   ],
   "metadata": {
    "collapsed": false
   }
  },
  {
   "cell_type": "code",
   "execution_count": 348,
   "outputs": [
    {
     "name": "stderr",
     "output_type": "stream",
     "text": [
      "Using custom data configuration knkarthick--dialogsum-caf2f3e75d9073aa\n",
      "Found cached dataset csv (/home/sefa/.cache/huggingface/datasets/knkarthick___csv/knkarthick--dialogsum-caf2f3e75d9073aa/0.0.0/6b34fb8fcf56f7c8ba51dc895bfa2bfbe43546f190a60fcf74bb5e8afdcc2317)\n",
      "Using custom data configuration knkarthick--dialogsum-caf2f3e75d9073aa\n",
      "Found cached dataset csv (/home/sefa/.cache/huggingface/datasets/knkarthick___csv/knkarthick--dialogsum-caf2f3e75d9073aa/0.0.0/6b34fb8fcf56f7c8ba51dc895bfa2bfbe43546f190a60fcf74bb5e8afdcc2317)\n",
      "/home/sefa/anaconda3/envs/chat2learn/lib/python3.8/site-packages/torchtext/data/utils.py:105: UserWarning: Spacy model \"en\" could not be loaded, trying \"en_core_web_sm\" instead\n",
      "  warnings.warn(\n",
      "Loading cached processed dataset at /home/sefa/.cache/huggingface/datasets/knkarthick___csv/knkarthick--dialogsum-caf2f3e75d9073aa/0.0.0/6b34fb8fcf56f7c8ba51dc895bfa2bfbe43546f190a60fcf74bb5e8afdcc2317/cache-9d033395d0a367cf.arrow\n",
      "Loading cached processed dataset at /home/sefa/.cache/huggingface/datasets/knkarthick___csv/knkarthick--dialogsum-caf2f3e75d9073aa/0.0.0/6b34fb8fcf56f7c8ba51dc895bfa2bfbe43546f190a60fcf74bb5e8afdcc2317/cache-a45bb773a7c0cad2.arrow\n",
      "Loading cached processed dataset at /home/sefa/.cache/huggingface/datasets/knkarthick___csv/knkarthick--dialogsum-caf2f3e75d9073aa/0.0.0/6b34fb8fcf56f7c8ba51dc895bfa2bfbe43546f190a60fcf74bb5e8afdcc2317/cache-86d8f1d2faeeba6c.arrow\n"
     ]
    },
    {
     "data": {
      "text/plain": "  0%|          | 0/11792 [00:00<?, ?it/s]",
      "application/vnd.jupyter.widget-view+json": {
       "version_major": 2,
       "version_minor": 0,
       "model_id": "759b9009d633469d9cb89f1749f032ae"
      }
     },
     "metadata": {},
     "output_type": "display_data"
    },
    {
     "data": {
      "text/plain": "  0%|          | 0/521 [00:00<?, ?it/s]",
      "application/vnd.jupyter.widget-view+json": {
       "version_major": 2,
       "version_minor": 0,
       "model_id": "f33090e71e794885a6fb7d1f1676b8ac"
      }
     },
     "metadata": {},
     "output_type": "display_data"
    },
    {
     "name": "stdout",
     "output_type": "stream",
     "text": [
      "tensor([  0, 280,   5, 104,  23,   7,   9,   2], device='cuda:0')\n",
      "tensor([0], device='cuda:0')\n",
      "tensor([ 40,   5,   6,  34,  52, 127,   4,   6,  34,  79,  10,  54,  10,   8,\n",
      "        189,   4,   2], device='cuda:0')\n",
      "ANSWER:  Yes, I'm not sure . I'm going to go to the company . |EOS|\n"
     ]
    },
    {
     "data": {
      "text/plain": "  0%|          | 0/11792 [00:00<?, ?it/s]",
      "application/vnd.jupyter.widget-view+json": {
       "version_major": 2,
       "version_minor": 0,
       "model_id": "e804d100d0664310aa3ebbdaddd1ba0f"
      }
     },
     "metadata": {},
     "output_type": "display_data"
    },
    {
     "data": {
      "text/plain": "  0%|          | 0/521 [00:00<?, ?it/s]",
      "application/vnd.jupyter.widget-view+json": {
       "version_major": 2,
       "version_minor": 0,
       "model_id": "b6db539c828c4021bd00780f6936c132"
      }
     },
     "metadata": {},
     "output_type": "display_data"
    },
    {
     "name": "stdout",
     "output_type": "stream",
     "text": [
      "tensor([  0, 280,   5, 104,  23,   7,   9,   2], device='cuda:0')\n",
      "tensor([0], device='cuda:0')\n",
      "tensor([  6,  34,  52, 127,   4,   6,  34,  79,  10,  25,  11, 319, 319,   4,\n",
      "          2], device='cuda:0')\n",
      "ANSWER:  I'm not sure . I'm going to be a bit bit . |EOS|\n"
     ]
    },
    {
     "data": {
      "text/plain": "  0%|          | 0/11792 [00:00<?, ?it/s]",
      "application/vnd.jupyter.widget-view+json": {
       "version_major": 2,
       "version_minor": 0,
       "model_id": "f2869d7b86634f18b9adbef6a0fe5b5a"
      }
     },
     "metadata": {},
     "output_type": "display_data"
    },
    {
     "data": {
      "text/plain": "  0%|          | 0/521 [00:00<?, ?it/s]",
      "application/vnd.jupyter.widget-view+json": {
       "version_major": 2,
       "version_minor": 0,
       "model_id": "d591916835dc4b9ab8a41cbbcff64f25"
      }
     },
     "metadata": {},
     "output_type": "display_data"
    },
    {
     "name": "stdout",
     "output_type": "stream",
     "text": [
      "tensor([  0, 280,   5, 104,  23,   7,   9,   2], device='cuda:0')\n",
      "tensor([0], device='cuda:0')\n",
      "tensor([564,   4,   6,  34, 260,  22,  11, 154,   4,   2], device='cuda:0')\n",
      "ANSWER:  Fine . I'm looking for a job . |EOS|\n"
     ]
    },
    {
     "data": {
      "text/plain": "  0%|          | 0/11792 [00:00<?, ?it/s]",
      "application/vnd.jupyter.widget-view+json": {
       "version_major": 2,
       "version_minor": 0,
       "model_id": "421c8e76aaff493093205ab5a5064a95"
      }
     },
     "metadata": {},
     "output_type": "display_data"
    },
    {
     "data": {
      "text/plain": "  0%|          | 0/521 [00:00<?, ?it/s]",
      "application/vnd.jupyter.widget-view+json": {
       "version_major": 2,
       "version_minor": 0,
       "model_id": "17a252aa00434c74ae067ed7fb0d5491"
      }
     },
     "metadata": {},
     "output_type": "display_data"
    },
    {
     "name": "stdout",
     "output_type": "stream",
     "text": [
      "tensor([  0, 280,   5, 104,  23,   7,   9,   2], device='cuda:0')\n",
      "tensor([0], device='cuda:0')\n",
      "tensor([564,   4,   6,  34, 260,  22,  11, 154,   4,   2], device='cuda:0')\n",
      "ANSWER:  Fine . I'm looking for a job . |EOS|\n"
     ]
    },
    {
     "data": {
      "text/plain": "  0%|          | 0/11792 [00:00<?, ?it/s]",
      "application/vnd.jupyter.widget-view+json": {
       "version_major": 2,
       "version_minor": 0,
       "model_id": "bd18bba88d454078b396825ba7fb61e8"
      }
     },
     "metadata": {},
     "output_type": "display_data"
    },
    {
     "data": {
      "text/plain": "  0%|          | 0/521 [00:00<?, ?it/s]",
      "application/vnd.jupyter.widget-view+json": {
       "version_major": 2,
       "version_minor": 0,
       "model_id": "3ff48a9394a3481d9bf78b416ec2c362"
      }
     },
     "metadata": {},
     "output_type": "display_data"
    },
    {
     "name": "stdout",
     "output_type": "stream",
     "text": [
      "tensor([  0, 280,   5, 104,  23,   7,   9,   2], device='cuda:0')\n",
      "tensor([0], device='cuda:0')\n",
      "tensor([564,   4,   6,  34, 594,  10, 283,   7,   4,   2], device='cuda:0')\n",
      "ANSWER:  Fine . I'm calling to meet you . |EOS|\n"
     ]
    },
    {
     "data": {
      "text/plain": "  0%|          | 0/11792 [00:00<?, ?it/s]",
      "application/vnd.jupyter.widget-view+json": {
       "version_major": 2,
       "version_minor": 0,
       "model_id": "cb4c14075ff44187a700aff3835c3ab9"
      }
     },
     "metadata": {},
     "output_type": "display_data"
    },
    {
     "data": {
      "text/plain": "  0%|          | 0/521 [00:00<?, ?it/s]",
      "application/vnd.jupyter.widget-view+json": {
       "version_major": 2,
       "version_minor": 0,
       "model_id": "0f63dc5104524a4daba0876ca6eca1e2"
      }
     },
     "metadata": {},
     "output_type": "display_data"
    },
    {
     "name": "stdout",
     "output_type": "stream",
     "text": [
      "tensor([  0, 280,   5, 104,  23,   7,   9,   2], device='cuda:0')\n",
      "tensor([0], device='cuda:0')\n",
      "tensor([564,   5, 392,   4,   2], device='cuda:0')\n",
      "ANSWER:  Fine, thanks . |EOS|\n"
     ]
    },
    {
     "data": {
      "text/plain": "  0%|          | 0/11792 [00:00<?, ?it/s]",
      "application/vnd.jupyter.widget-view+json": {
       "version_major": 2,
       "version_minor": 0,
       "model_id": "ae00095e103d4e738f1464e7602e5cc4"
      }
     },
     "metadata": {},
     "output_type": "display_data"
    },
    {
     "data": {
      "text/plain": "  0%|          | 0/521 [00:00<?, ?it/s]",
      "application/vnd.jupyter.widget-view+json": {
       "version_major": 2,
       "version_minor": 0,
       "model_id": "febceee443ad45b6a839098241e5b367"
      }
     },
     "metadata": {},
     "output_type": "display_data"
    },
    {
     "name": "stdout",
     "output_type": "stream",
     "text": [
      "tensor([  0, 280,   5, 104,  23,   7,   9,   2], device='cuda:0')\n",
      "tensor([0], device='cuda:0')\n",
      "tensor([  6,  34, 276,   4,   2], device='cuda:0')\n",
      "ANSWER:  I'm fine . |EOS|\n"
     ]
    },
    {
     "data": {
      "text/plain": "  0%|          | 0/11792 [00:00<?, ?it/s]",
      "application/vnd.jupyter.widget-view+json": {
       "version_major": 2,
       "version_minor": 0,
       "model_id": "5efa3513fc744a01ae5e93ca8c9d85ae"
      }
     },
     "metadata": {},
     "output_type": "display_data"
    },
    {
     "data": {
      "text/plain": "  0%|          | 0/521 [00:00<?, ?it/s]",
      "application/vnd.jupyter.widget-view+json": {
       "version_major": 2,
       "version_minor": 0,
       "model_id": "05918f48b9e5416f851d89e7a5a293b6"
      }
     },
     "metadata": {},
     "output_type": "display_data"
    },
    {
     "name": "stdout",
     "output_type": "stream",
     "text": [
      "tensor([  0, 280,   5, 104,  23,   7,   9,   2], device='cuda:0')\n",
      "tensor([0], device='cuda:0')\n",
      "tensor([  6,  34, 276,   5, 392,   4,   2], device='cuda:0')\n",
      "ANSWER:  I'm fine, thanks . |EOS|\n"
     ]
    },
    {
     "data": {
      "text/plain": "  0%|          | 0/11792 [00:00<?, ?it/s]",
      "application/vnd.jupyter.widget-view+json": {
       "version_major": 2,
       "version_minor": 0,
       "model_id": "1ec8484dc85e4d71b5441c690d444427"
      }
     },
     "metadata": {},
     "output_type": "display_data"
    },
    {
     "data": {
      "text/plain": "  0%|          | 0/521 [00:00<?, ?it/s]",
      "application/vnd.jupyter.widget-view+json": {
       "version_major": 2,
       "version_minor": 0,
       "model_id": "7359721f17a34b8b86597db3ac5903cf"
      }
     },
     "metadata": {},
     "output_type": "display_data"
    },
    {
     "name": "stdout",
     "output_type": "stream",
     "text": [
      "tensor([  0, 280,   5, 104,  23,   7,   9,   2], device='cuda:0')\n",
      "tensor([0], device='cuda:0')\n",
      "tensor([  6,  34, 276,   5, 392,   4,   6,  34,  71, 423,   4,   2],\n",
      "       device='cuda:0')\n",
      "ANSWER:  I'm fine, thanks . I'm very busy . |EOS|\n"
     ]
    },
    {
     "data": {
      "text/plain": "  0%|          | 0/11792 [00:00<?, ?it/s]",
      "application/vnd.jupyter.widget-view+json": {
       "version_major": 2,
       "version_minor": 0,
       "model_id": "721b61da40804abcb053388b32844329"
      }
     },
     "metadata": {},
     "output_type": "display_data"
    },
    {
     "data": {
      "text/plain": "  0%|          | 0/521 [00:00<?, ?it/s]",
      "application/vnd.jupyter.widget-view+json": {
       "version_major": 2,
       "version_minor": 0,
       "model_id": "b8e50244b88e4d258221b352842d936a"
      }
     },
     "metadata": {},
     "output_type": "display_data"
    },
    {
     "name": "stdout",
     "output_type": "stream",
     "text": [
      "tensor([  0, 280,   5, 104,  23,   7,   9,   2], device='cuda:0')\n",
      "tensor([0], device='cuda:0')\n",
      "tensor([251, 254,   4,   6,  34, 459,   7,  31,  13,   4,   2],\n",
      "       device='cuda:0')\n",
      "ANSWER:  Not bad . I'm glad you like it . |EOS|\n"
     ]
    },
    {
     "data": {
      "text/plain": "  0%|          | 0/11792 [00:00<?, ?it/s]",
      "application/vnd.jupyter.widget-view+json": {
       "version_major": 2,
       "version_minor": 0,
       "model_id": "f0d53c0d07944977bf4f10f0e2de306b"
      }
     },
     "metadata": {},
     "output_type": "display_data"
    },
    {
     "data": {
      "text/plain": "  0%|          | 0/521 [00:00<?, ?it/s]",
      "application/vnd.jupyter.widget-view+json": {
       "version_major": 2,
       "version_minor": 0,
       "model_id": "999b2d6ce98d465f9d1bef2de81a2bcc"
      }
     },
     "metadata": {},
     "output_type": "display_data"
    },
    {
     "name": "stdout",
     "output_type": "stream",
     "text": [
      "tensor([  0, 280,   5, 104,  23,   7,   9,   2], device='cuda:0')\n",
      "tensor([0], device='cuda:0')\n",
      "tensor([564,   5, 392,   4,   2], device='cuda:0')\n",
      "ANSWER:  Fine, thanks . |EOS|\n"
     ]
    },
    {
     "data": {
      "text/plain": "  0%|          | 0/11792 [00:00<?, ?it/s]",
      "application/vnd.jupyter.widget-view+json": {
       "version_major": 2,
       "version_minor": 0,
       "model_id": "798176b8da51434ca516474cc4ae6825"
      }
     },
     "metadata": {},
     "output_type": "display_data"
    },
    {
     "data": {
      "text/plain": "  0%|          | 0/521 [00:00<?, ?it/s]",
      "application/vnd.jupyter.widget-view+json": {
       "version_major": 2,
       "version_minor": 0,
       "model_id": "40db3ac750c44d95aa4fde626d86fd01"
      }
     },
     "metadata": {},
     "output_type": "display_data"
    },
    {
     "name": "stdout",
     "output_type": "stream",
     "text": [
      "tensor([  0, 280,   5, 104,  23,   7,   9,   2], device='cuda:0')\n",
      "tensor([0], device='cuda:0')\n",
      "tensor([564,   4,   6,  34,  79,  10,  19,  11, 354,   4,   2],\n",
      "       device='cuda:0')\n",
      "ANSWER:  Fine . I'm going to have a party . |EOS|\n"
     ]
    },
    {
     "data": {
      "text/plain": "  0%|          | 0/11792 [00:00<?, ?it/s]",
      "application/vnd.jupyter.widget-view+json": {
       "version_major": 2,
       "version_minor": 0,
       "model_id": "6f7c54d4810948bfaaae9ac0ec6f7984"
      }
     },
     "metadata": {},
     "output_type": "display_data"
    },
    {
     "data": {
      "text/plain": "  0%|          | 0/521 [00:00<?, ?it/s]",
      "application/vnd.jupyter.widget-view+json": {
       "version_major": 2,
       "version_minor": 0,
       "model_id": "53df0eb75b0f49c9b6126a02ed9044c2"
      }
     },
     "metadata": {},
     "output_type": "display_data"
    },
    {
     "name": "stdout",
     "output_type": "stream",
     "text": [
      "tensor([  0, 280,   5, 104,  23,   7,   9,   2], device='cuda:0')\n",
      "tensor([0], device='cuda:0')\n",
      "tensor([251, 254,   4,   6,  34,  11, 134, 685,   4,   2], device='cuda:0')\n",
      "ANSWER:  Not bad . I'm a new student . |EOS|\n"
     ]
    },
    {
     "data": {
      "text/plain": "  0%|          | 0/11792 [00:00<?, ?it/s]",
      "application/vnd.jupyter.widget-view+json": {
       "version_major": 2,
       "version_minor": 0,
       "model_id": "89e5a2aa175d412880b9e899f0f319d8"
      }
     },
     "metadata": {},
     "output_type": "display_data"
    },
    {
     "data": {
      "text/plain": "  0%|          | 0/521 [00:00<?, ?it/s]",
      "application/vnd.jupyter.widget-view+json": {
       "version_major": 2,
       "version_minor": 0,
       "model_id": "6a168182ff074a528ec089a37c901f96"
      }
     },
     "metadata": {},
     "output_type": "display_data"
    },
    {
     "name": "stdout",
     "output_type": "stream",
     "text": [
      "tensor([  0, 280,   5, 104,  23,   7,   9,   2], device='cuda:0')\n",
      "tensor([0], device='cuda:0')\n",
      "tensor([  6,  34, 276,   4,   6,  34,  71, 423,   4,   2], device='cuda:0')\n",
      "ANSWER:  I'm fine . I'm very busy . |EOS|\n"
     ]
    },
    {
     "data": {
      "text/plain": "  0%|          | 0/11792 [00:00<?, ?it/s]",
      "application/vnd.jupyter.widget-view+json": {
       "version_major": 2,
       "version_minor": 0,
       "model_id": "3c5b5a1d01454525badf53304bcd27de"
      }
     },
     "metadata": {},
     "output_type": "display_data"
    },
    {
     "data": {
      "text/plain": "  0%|          | 0/521 [00:00<?, ?it/s]",
      "application/vnd.jupyter.widget-view+json": {
       "version_major": 2,
       "version_minor": 0,
       "model_id": "7839c1bd17604aaf997077b17a50924f"
      }
     },
     "metadata": {},
     "output_type": "display_data"
    },
    {
     "name": "stdout",
     "output_type": "stream",
     "text": [
      "tensor([  0, 280,   5, 104,  23,   7,   9,   2], device='cuda:0')\n",
      "tensor([0], device='cuda:0')\n",
      "tensor([564,   5, 392,   4,   2], device='cuda:0')\n",
      "ANSWER:  Fine, thanks . |EOS|\n"
     ]
    },
    {
     "data": {
      "text/plain": "  0%|          | 0/11792 [00:00<?, ?it/s]",
      "application/vnd.jupyter.widget-view+json": {
       "version_major": 2,
       "version_minor": 0,
       "model_id": "286029740e7141d2bc0ebc307fd634d7"
      }
     },
     "metadata": {},
     "output_type": "display_data"
    },
    {
     "data": {
      "text/plain": "  0%|          | 0/521 [00:00<?, ?it/s]",
      "application/vnd.jupyter.widget-view+json": {
       "version_major": 2,
       "version_minor": 0,
       "model_id": "6518fd571b384b5f836001f72c6cbb52"
      }
     },
     "metadata": {},
     "output_type": "display_data"
    },
    {
     "name": "stdout",
     "output_type": "stream",
     "text": [
      "tensor([  0, 280,   5, 104,  23,   7,   9,   2], device='cuda:0')\n",
      "tensor([0], device='cuda:0')\n",
      "tensor([251, 254,   4,   6,  34,  58, 260,  22,  11, 134, 154,   4,   2],\n",
      "       device='cuda:0')\n",
      "ANSWER:  Not bad . I'm just looking for a new job . |EOS|\n"
     ]
    },
    {
     "data": {
      "text/plain": "  0%|          | 0/11792 [00:00<?, ?it/s]",
      "application/vnd.jupyter.widget-view+json": {
       "version_major": 2,
       "version_minor": 0,
       "model_id": "a2a9a84af5c84a689aa0e3ca2cedf8df"
      }
     },
     "metadata": {},
     "output_type": "display_data"
    },
    {
     "data": {
      "text/plain": "  0%|          | 0/521 [00:00<?, ?it/s]",
      "application/vnd.jupyter.widget-view+json": {
       "version_major": 2,
       "version_minor": 0,
       "model_id": "4689a4cf48074eaea5c67262cf5e301b"
      }
     },
     "metadata": {},
     "output_type": "display_data"
    },
    {
     "name": "stdout",
     "output_type": "stream",
     "text": [
      "tensor([  0, 280,   5, 104,  23,   7,   9,   2], device='cuda:0')\n",
      "tensor([0], device='cuda:0')\n",
      "tensor([361,   4,   2], device='cuda:0')\n",
      "ANSWER:  Great . |EOS|\n"
     ]
    },
    {
     "data": {
      "text/plain": "  0%|          | 0/11792 [00:00<?, ?it/s]",
      "application/vnd.jupyter.widget-view+json": {
       "version_major": 2,
       "version_minor": 0,
       "model_id": "4d955170c1084ccc8dccbdc621e8300e"
      }
     },
     "metadata": {},
     "output_type": "display_data"
    },
    {
     "data": {
      "text/plain": "  0%|          | 0/521 [00:00<?, ?it/s]",
      "application/vnd.jupyter.widget-view+json": {
       "version_major": 2,
       "version_minor": 0,
       "model_id": "e2bc85c36c6e436688242df68092b3b0"
      }
     },
     "metadata": {},
     "output_type": "display_data"
    },
    {
     "name": "stdout",
     "output_type": "stream",
     "text": [
      "tensor([  0, 280,   5, 104,  23,   7,   9,   2], device='cuda:0')\n",
      "tensor([0], device='cuda:0')\n",
      "tensor([ 251,  254,    4,    6,   34,   79,   10,    8, 1112,    4,    2],\n",
      "       device='cuda:0')\n",
      "ANSWER:  Not bad . I'm going to the States . |EOS|\n"
     ]
    },
    {
     "data": {
      "text/plain": "  0%|          | 0/11792 [00:00<?, ?it/s]",
      "application/vnd.jupyter.widget-view+json": {
       "version_major": 2,
       "version_minor": 0,
       "model_id": "7e676b844d714f3195a38d2137e22a8a"
      }
     },
     "metadata": {},
     "output_type": "display_data"
    },
    {
     "data": {
      "text/plain": "  0%|          | 0/521 [00:00<?, ?it/s]",
      "application/vnd.jupyter.widget-view+json": {
       "version_major": 2,
       "version_minor": 0,
       "model_id": "e4ad5441a3184e62a4bf0164ca7b507b"
      }
     },
     "metadata": {},
     "output_type": "display_data"
    },
    {
     "name": "stdout",
     "output_type": "stream",
     "text": [
      "tensor([  0, 280,   5, 104,  23,   7,   9,   2], device='cuda:0')\n",
      "tensor([0], device='cuda:0')\n",
      "tensor([251, 254,   4,   6,  34,  79,  10, 476,  28, 684,   4,   2],\n",
      "       device='cuda:0')\n",
      "ANSWER:  Not bad . I'm going to visit my sister . |EOS|\n"
     ]
    },
    {
     "data": {
      "text/plain": "  0%|          | 0/11792 [00:00<?, ?it/s]",
      "application/vnd.jupyter.widget-view+json": {
       "version_major": 2,
       "version_minor": 0,
       "model_id": "73f80c74c01d42a0a606219d6e5765ae"
      }
     },
     "metadata": {},
     "output_type": "display_data"
    },
    {
     "data": {
      "text/plain": "  0%|          | 0/521 [00:00<?, ?it/s]",
      "application/vnd.jupyter.widget-view+json": {
       "version_major": 2,
       "version_minor": 0,
       "model_id": "93c325e081654aa1a28284696b807232"
      }
     },
     "metadata": {},
     "output_type": "display_data"
    },
    {
     "name": "stdout",
     "output_type": "stream",
     "text": [
      "tensor([  0, 280,   5, 104,  23,   7,   9,   2], device='cuda:0')\n",
      "tensor([0], device='cuda:0')\n",
      "tensor([  6,  34, 276,   4,   2], device='cuda:0')\n",
      "ANSWER:  I'm fine . |EOS|\n"
     ]
    },
    {
     "data": {
      "text/plain": "<Figure size 640x480 with 1 Axes>",
      "image/png": "[encoded data removed]"
     },
     "metadata": {},
     "output_type": "display_data"
    }
   ],
   "source": [
    "val_loss = train(max_len, bs, lr, epochs, device=device,\n",
    "                 encoder_embed_dim=256, encoder_n_layers=2, encoder_n_hidden=256, encoder_dropout_rate=0.2,\n",
    "                 decoder_embed_dim=256, decoder_n_layers=4, decoder_n_hidden=256, decoder_dropout_rate=0.2)"
   ],
   "metadata": {
    "collapsed": false
   }
  },
  {
   "cell_type": "code",
   "execution_count": 340,
   "metadata": {},
   "outputs": [
    {
     "name": "stderr",
     "output_type": "stream",
     "text": [
      "Using custom data configuration knkarthick--dialogsum-caf2f3e75d9073aa\n",
      "Found cached dataset csv (/home/sefa/.cache/huggingface/datasets/knkarthick___csv/knkarthick--dialogsum-caf2f3e75d9073aa/0.0.0/6b34fb8fcf56f7c8ba51dc895bfa2bfbe43546f190a60fcf74bb5e8afdcc2317)\n",
      "Using custom data configuration knkarthick--dialogsum-caf2f3e75d9073aa\n",
      "Found cached dataset csv (/home/sefa/.cache/huggingface/datasets/knkarthick___csv/knkarthick--dialogsum-caf2f3e75d9073aa/0.0.0/6b34fb8fcf56f7c8ba51dc895bfa2bfbe43546f190a60fcf74bb5e8afdcc2317)\n",
      "/home/sefa/anaconda3/envs/chat2learn/lib/python3.8/site-packages/torchtext/data/utils.py:105: UserWarning: Spacy model \"en\" could not be loaded, trying \"en_core_web_sm\" instead\n",
      "  warnings.warn(\n",
      "Loading cached processed dataset at /home/sefa/.cache/huggingface/datasets/knkarthick___csv/knkarthick--dialogsum-caf2f3e75d9073aa/0.0.0/6b34fb8fcf56f7c8ba51dc895bfa2bfbe43546f190a60fcf74bb5e8afdcc2317/cache-9d033395d0a367cf.arrow\n",
      "Loading cached processed dataset at /home/sefa/.cache/huggingface/datasets/knkarthick___csv/knkarthick--dialogsum-caf2f3e75d9073aa/0.0.0/6b34fb8fcf56f7c8ba51dc895bfa2bfbe43546f190a60fcf74bb5e8afdcc2317/cache-a45bb773a7c0cad2.arrow\n",
      "Loading cached processed dataset at /home/sefa/.cache/huggingface/datasets/knkarthick___csv/knkarthick--dialogsum-caf2f3e75d9073aa/0.0.0/6b34fb8fcf56f7c8ba51dc895bfa2bfbe43546f190a60fcf74bb5e8afdcc2317/cache-86d8f1d2faeeba6c.arrow\n"
     ]
    },
    {
     "data": {
      "text/plain": "  0%|          | 0/11792 [00:00<?, ?it/s]",
      "application/vnd.jupyter.widget-view+json": {
       "version_major": 2,
       "version_minor": 0,
       "model_id": "3669ab05b4994cd7bff32f0eedd2e71b"
      }
     },
     "metadata": {},
     "output_type": "display_data"
    },
    {
     "data": {
      "text/plain": "  0%|          | 0/521 [00:00<?, ?it/s]",
      "application/vnd.jupyter.widget-view+json": {
       "version_major": 2,
       "version_minor": 0,
       "model_id": "5f4d102666fc44898b88a8421855e539"
      }
     },
     "metadata": {},
     "output_type": "display_data"
    },
    {
     "name": "stdout",
     "output_type": "stream",
     "text": [
      "tensor([  0, 280,   5, 104,  23,   7,   9,   2], device='cuda:0')\n",
      "tensor([0], device='cuda:0')\n",
      "tensor([  6,  34,  52, 127,   4,   2], device='cuda:0')\n",
      "ANSWER:  I'm not sure . |EOS|\n"
     ]
    },
    {
     "data": {
      "text/plain": "  0%|          | 0/11792 [00:00<?, ?it/s]",
      "application/vnd.jupyter.widget-view+json": {
       "version_major": 2,
       "version_minor": 0,
       "model_id": "cd81f25ab91444f78b75301b79757bf2"
      }
     },
     "metadata": {},
     "output_type": "display_data"
    },
    {
     "data": {
      "text/plain": "  0%|          | 0/521 [00:00<?, ?it/s]",
      "application/vnd.jupyter.widget-view+json": {
       "version_major": 2,
       "version_minor": 0,
       "model_id": "02d793677eb741daafcf40f6e7765f46"
      }
     },
     "metadata": {},
     "output_type": "display_data"
    },
    {
     "name": "stdout",
     "output_type": "stream",
     "text": [
      "tensor([  0, 280,   5, 104,  23,   7,   9,   2], device='cuda:0')\n",
      "tensor([0], device='cuda:0')\n",
      "tensor([  6,  34, 177,   5,  42,   6,  34, 177,   5,   6,  34, 177,   5,   6,\n",
      "         34, 177,   5,   6,  34, 177,   5,   6,  34, 177,   5,   6,  34, 177,\n",
      "          5,   6,  34, 177,   5,   6,  34, 177,   5,   6,  34, 177,   5,   6,\n",
      "         34, 177,   5,   6,  34, 177,   5,   6], device='cuda:0')\n",
      "ANSWER:  I'm sorry, but I'm sorry, I'm sorry, I'm sorry, I'm sorry, I'm sorry, I'm sorry, I'm sorry, I'm sorry, I'm sorry, I'm sorry, I'm sorry, I\n"
     ]
    },
    {
     "data": {
      "text/plain": "  0%|          | 0/11792 [00:00<?, ?it/s]",
      "application/vnd.jupyter.widget-view+json": {
       "version_major": 2,
       "version_minor": 0,
       "model_id": "b56db58de7c042249204602990c6d659"
      }
     },
     "metadata": {},
     "output_type": "display_data"
    },
    {
     "data": {
      "text/plain": "  0%|          | 0/521 [00:00<?, ?it/s]",
      "application/vnd.jupyter.widget-view+json": {
       "version_major": 2,
       "version_minor": 0,
       "model_id": "291f07862013479ebcf728ca15c45a4f"
      }
     },
     "metadata": {},
     "output_type": "display_data"
    },
    {
     "name": "stdout",
     "output_type": "stream",
     "text": [
      "tensor([  0, 280,   5, 104,  23,   7,   9,   2], device='cuda:0')\n",
      "tensor([0], device='cuda:0')\n",
      "tensor([  6,  34, 177,   5,  42,   6,  34, 177,  10, 343,  20,   4,   2],\n",
      "       device='cuda:0')\n",
      "ANSWER:  I'm sorry, but I'm sorry to hear that . |EOS|\n"
     ]
    },
    {
     "data": {
      "text/plain": "  0%|          | 0/11792 [00:00<?, ?it/s]",
      "application/vnd.jupyter.widget-view+json": {
       "version_major": 2,
       "version_minor": 0,
       "model_id": "289ed347a00b4f7faf99ad3ef491d4d3"
      }
     },
     "metadata": {},
     "output_type": "display_data"
    },
    {
     "data": {
      "text/plain": "  0%|          | 0/521 [00:00<?, ?it/s]",
      "application/vnd.jupyter.widget-view+json": {
       "version_major": 2,
       "version_minor": 0,
       "model_id": "78d98f592f9f429bbd462166d19f890e"
      }
     },
     "metadata": {},
     "output_type": "display_data"
    },
    {
     "name": "stdout",
     "output_type": "stream",
     "text": [
      "tensor([  0, 280,   5, 104,  23,   7,   9,   2], device='cuda:0')\n",
      "tensor([0], device='cuda:0')\n",
      "tensor([  6,  34,  52, 127,   4,   2], device='cuda:0')\n",
      "ANSWER:  I'm not sure . |EOS|\n"
     ]
    },
    {
     "data": {
      "text/plain": "  0%|          | 0/11792 [00:00<?, ?it/s]",
      "application/vnd.jupyter.widget-view+json": {
       "version_major": 2,
       "version_minor": 0,
       "model_id": "f1f1c1bca2f54165a8be0832db897fa7"
      }
     },
     "metadata": {},
     "output_type": "display_data"
    },
    {
     "data": {
      "text/plain": "  0%|          | 0/521 [00:00<?, ?it/s]",
      "application/vnd.jupyter.widget-view+json": {
       "version_major": 2,
       "version_minor": 0,
       "model_id": "77ba3435ab084676aac164c210a0787d"
      }
     },
     "metadata": {},
     "output_type": "display_data"
    },
    {
     "name": "stdout",
     "output_type": "stream",
     "text": [
      "tensor([  0, 280,   5, 104,  23,   7,   9,   2], device='cuda:0')\n",
      "tensor([0], device='cuda:0')\n",
      "tensor([  6,  34, 177,   4,   6,  34, 177,   4,   2], device='cuda:0')\n",
      "ANSWER:  I'm sorry . I'm sorry . |EOS|\n"
     ]
    },
    {
     "data": {
      "text/plain": "  0%|          | 0/11792 [00:00<?, ?it/s]",
      "application/vnd.jupyter.widget-view+json": {
       "version_major": 2,
       "version_minor": 0,
       "model_id": "a72469a7344146b38619c26e3ec538e7"
      }
     },
     "metadata": {},
     "output_type": "display_data"
    },
    {
     "data": {
      "text/plain": "  0%|          | 0/521 [00:00<?, ?it/s]",
      "application/vnd.jupyter.widget-view+json": {
       "version_major": 2,
       "version_minor": 0,
       "model_id": "31cf4a58b3f0469b895eaccd7db8d72a"
      }
     },
     "metadata": {},
     "output_type": "display_data"
    },
    {
     "name": "stdout",
     "output_type": "stream",
     "text": [
      "tensor([  0, 280,   5, 104,  23,   7,   9,   2], device='cuda:0')\n",
      "tensor([0], device='cuda:0')\n",
      "tensor([  6,  34, 177,   4,   6,  34,  52, 127,   4,   2], device='cuda:0')\n",
      "ANSWER:  I'm sorry . I'm not sure . |EOS|\n"
     ]
    },
    {
     "data": {
      "text/plain": "  0%|          | 0/11792 [00:00<?, ?it/s]",
      "application/vnd.jupyter.widget-view+json": {
       "version_major": 2,
       "version_minor": 0,
       "model_id": "8c7c5203861a4e659982dac61da3740c"
      }
     },
     "metadata": {},
     "output_type": "display_data"
    },
    {
     "data": {
      "text/plain": "  0%|          | 0/521 [00:00<?, ?it/s]",
      "application/vnd.jupyter.widget-view+json": {
       "version_major": 2,
       "version_minor": 0,
       "model_id": "f368a613dc6e48f6bc3bee13e9aa2876"
      }
     },
     "metadata": {},
     "output_type": "display_data"
    },
    {
     "name": "stdout",
     "output_type": "stream",
     "text": [
      "tensor([  0, 280,   5, 104,  23,   7,   9,   2], device='cuda:0')\n",
      "tensor([0], device='cuda:0')\n",
      "tensor([  6,  34, 273,   6,  34,  79,  10,  25,  11,  67, 221,   4,   2],\n",
      "       device='cuda:0')\n",
      "ANSWER:  I'm afraid I'm going to be a good idea . |EOS|\n"
     ]
    },
    {
     "name": "stderr",
     "output_type": "stream",
     "text": [
      "Using custom data configuration knkarthick--dialogsum-caf2f3e75d9073aa\n",
      "Found cached dataset csv (/home/sefa/.cache/huggingface/datasets/knkarthick___csv/knkarthick--dialogsum-caf2f3e75d9073aa/0.0.0/6b34fb8fcf56f7c8ba51dc895bfa2bfbe43546f190a60fcf74bb5e8afdcc2317)\n",
      "Using custom data configuration knkarthick--dialogsum-caf2f3e75d9073aa\n",
      "Found cached dataset csv (/home/sefa/.cache/huggingface/datasets/knkarthick___csv/knkarthick--dialogsum-caf2f3e75d9073aa/0.0.0/6b34fb8fcf56f7c8ba51dc895bfa2bfbe43546f190a60fcf74bb5e8afdcc2317)\n",
      "/home/sefa/anaconda3/envs/chat2learn/lib/python3.8/site-packages/torchtext/data/utils.py:105: UserWarning: Spacy model \"en\" could not be loaded, trying \"en_core_web_sm\" instead\n",
      "  warnings.warn(\n",
      "Loading cached processed dataset at /home/sefa/.cache/huggingface/datasets/knkarthick___csv/knkarthick--dialogsum-caf2f3e75d9073aa/0.0.0/6b34fb8fcf56f7c8ba51dc895bfa2bfbe43546f190a60fcf74bb5e8afdcc2317/cache-9d033395d0a367cf.arrow\n",
      "Loading cached processed dataset at /home/sefa/.cache/huggingface/datasets/knkarthick___csv/knkarthick--dialogsum-caf2f3e75d9073aa/0.0.0/6b34fb8fcf56f7c8ba51dc895bfa2bfbe43546f190a60fcf74bb5e8afdcc2317/cache-a45bb773a7c0cad2.arrow\n",
      "Loading cached processed dataset at /home/sefa/.cache/huggingface/datasets/knkarthick___csv/knkarthick--dialogsum-caf2f3e75d9073aa/0.0.0/6b34fb8fcf56f7c8ba51dc895bfa2bfbe43546f190a60fcf74bb5e8afdcc2317/cache-86d8f1d2faeeba6c.arrow\n"
     ]
    },
    {
     "data": {
      "text/plain": "  0%|          | 0/11792 [00:00<?, ?it/s]",
      "application/vnd.jupyter.widget-view+json": {
       "version_major": 2,
       "version_minor": 0,
       "model_id": "4faaf0bf72884f8f9dcb94676617c161"
      }
     },
     "metadata": {},
     "output_type": "display_data"
    },
    {
     "data": {
      "text/plain": "  0%|          | 0/521 [00:00<?, ?it/s]",
      "application/vnd.jupyter.widget-view+json": {
       "version_major": 2,
       "version_minor": 0,
       "model_id": "2488b2ca2b4e41ed98ad105ac63a3899"
      }
     },
     "metadata": {},
     "output_type": "display_data"
    },
    {
     "name": "stdout",
     "output_type": "stream",
     "text": [
      "tensor([  0, 280,   5, 104,  23,   7,   9,   2], device='cuda:0')\n",
      "tensor([0], device='cuda:0')\n",
      "tensor([  6,  34, 177,   4,   6,  34,  52, 127,   7,  87,  52,  11,  67, 221,\n",
      "          4,   2], device='cuda:0')\n",
      "ANSWER:  I'm sorry . I'm not sure you're not a good idea . |EOS|\n"
     ]
    },
    {
     "data": {
      "text/plain": "  0%|          | 0/11792 [00:00<?, ?it/s]",
      "application/vnd.jupyter.widget-view+json": {
       "version_major": 2,
       "version_minor": 0,
       "model_id": "e883f6e4da2243409e61481ffca36471"
      }
     },
     "metadata": {},
     "output_type": "display_data"
    },
    {
     "data": {
      "text/plain": "  0%|          | 0/521 [00:00<?, ?it/s]",
      "application/vnd.jupyter.widget-view+json": {
       "version_major": 2,
       "version_minor": 0,
       "model_id": "570f2c88ce7e423c9319e8207fe4a635"
      }
     },
     "metadata": {},
     "output_type": "display_data"
    },
    {
     "name": "stdout",
     "output_type": "stream",
     "text": [
      "tensor([  0, 280,   5, 104,  23,   7,   9,   2], device='cuda:0')\n",
      "tensor([0], device='cuda:0')\n",
      "tensor([  6,  34, 177,   4,   2], device='cuda:0')\n",
      "ANSWER:  I'm sorry . |EOS|\n"
     ]
    },
    {
     "data": {
      "text/plain": "  0%|          | 0/11792 [00:00<?, ?it/s]",
      "application/vnd.jupyter.widget-view+json": {
       "version_major": 2,
       "version_minor": 0,
       "model_id": "61531efb54b94a088873ca0cfb67c702"
      }
     },
     "metadata": {},
     "output_type": "display_data"
    },
    {
     "data": {
      "text/plain": "  0%|          | 0/521 [00:00<?, ?it/s]",
      "application/vnd.jupyter.widget-view+json": {
       "version_major": 2,
       "version_minor": 0,
       "model_id": "9ccf3aae671b466b9845ed65f9bcd7ab"
      }
     },
     "metadata": {},
     "output_type": "display_data"
    },
    {
     "name": "stdout",
     "output_type": "stream",
     "text": [
      "tensor([  0, 280,   5, 104,  23,   7,   9,   2], device='cuda:0')\n",
      "tensor([0], device='cuda:0')\n",
      "tensor([  6,  34,  52, 127,   4,   2], device='cuda:0')\n",
      "ANSWER:  I'm not sure . |EOS|\n"
     ]
    },
    {
     "data": {
      "text/plain": "  0%|          | 0/11792 [00:00<?, ?it/s]",
      "application/vnd.jupyter.widget-view+json": {
       "version_major": 2,
       "version_minor": 0,
       "model_id": "7e2f03495a5948c0a81159fda7c4836a"
      }
     },
     "metadata": {},
     "output_type": "display_data"
    },
    {
     "data": {
      "text/plain": "  0%|          | 0/521 [00:00<?, ?it/s]",
      "application/vnd.jupyter.widget-view+json": {
       "version_major": 2,
       "version_minor": 0,
       "model_id": "06c22c225b844b84a9f0c1695b8eb95f"
      }
     },
     "metadata": {},
     "output_type": "display_data"
    },
    {
     "name": "stdout",
     "output_type": "stream",
     "text": [
      "tensor([  0, 280,   5, 104,  23,   7,   9,   2], device='cuda:0')\n",
      "tensor([0], device='cuda:0')\n",
      "tensor([  6,  34,  52,  79,  10,  53,  11, 120,  16, 183,   4,   2],\n",
      "       device='cuda:0')\n",
      "ANSWER:  I'm not going to get a lot of money . |EOS|\n"
     ]
    },
    {
     "data": {
      "text/plain": "  0%|          | 0/11792 [00:00<?, ?it/s]",
      "application/vnd.jupyter.widget-view+json": {
       "version_major": 2,
       "version_minor": 0,
       "model_id": "999db34e9b4a498c85549f69fe4daa42"
      }
     },
     "metadata": {},
     "output_type": "display_data"
    },
    {
     "data": {
      "text/plain": "  0%|          | 0/521 [00:00<?, ?it/s]",
      "application/vnd.jupyter.widget-view+json": {
       "version_major": 2,
       "version_minor": 0,
       "model_id": "8511e7623eaf4c40808b0f286ab5db0a"
      }
     },
     "metadata": {},
     "output_type": "display_data"
    },
    {
     "name": "stdout",
     "output_type": "stream",
     "text": [
      "tensor([  0, 280,   5, 104,  23,   7,   9,   2], device='cuda:0')\n",
      "tensor([0], device='cuda:0')\n",
      "tensor([  6,  34,  52, 127,   4,   2], device='cuda:0')\n",
      "ANSWER:  I'm not sure . |EOS|\n"
     ]
    },
    {
     "data": {
      "text/plain": "  0%|          | 0/11792 [00:00<?, ?it/s]",
      "application/vnd.jupyter.widget-view+json": {
       "version_major": 2,
       "version_minor": 0,
       "model_id": "1deaeb6a3080492e8f1d543539f0c44f"
      }
     },
     "metadata": {},
     "output_type": "display_data"
    },
    {
     "data": {
      "text/plain": "  0%|          | 0/521 [00:00<?, ?it/s]",
      "application/vnd.jupyter.widget-view+json": {
       "version_major": 2,
       "version_minor": 0,
       "model_id": "61969a76abc747de902626e913b92d42"
      }
     },
     "metadata": {},
     "output_type": "display_data"
    },
    {
     "name": "stdout",
     "output_type": "stream",
     "text": [
      "tensor([  0, 280,   5, 104,  23,   7,   9,   2], device='cuda:0')\n",
      "tensor([0], device='cuda:0')\n",
      "tensor([  6,  18,  21,  49,   4,   6,  44,  19,  10,  54,  10,   8, 783,   4,\n",
      "          2], device='cuda:0')\n",
      "ANSWER:  I don't know . I'll have to go to the airport . |EOS|\n"
     ]
    },
    {
     "data": {
      "text/plain": "  0%|          | 0/11792 [00:00<?, ?it/s]",
      "application/vnd.jupyter.widget-view+json": {
       "version_major": 2,
       "version_minor": 0,
       "model_id": "c2bbf914978e4980b04917f01cea85f8"
      }
     },
     "metadata": {},
     "output_type": "display_data"
    },
    {
     "data": {
      "text/plain": "  0%|          | 0/521 [00:00<?, ?it/s]",
      "application/vnd.jupyter.widget-view+json": {
       "version_major": 2,
       "version_minor": 0,
       "model_id": "29a36fb067a742d79a4285a41240b2df"
      }
     },
     "metadata": {},
     "output_type": "display_data"
    },
    {
     "name": "stdout",
     "output_type": "stream",
     "text": [
      "tensor([  0, 280,   5, 104,  23,   7,   9,   2], device='cuda:0')\n",
      "tensor([0], device='cuda:0')\n",
      "tensor([  6,  34,  52,  11, 176, 319, 127,   4,   2], device='cuda:0')\n",
      "ANSWER:  I'm not a little bit sure . |EOS|\n"
     ]
    },
    {
     "name": "stderr",
     "output_type": "stream",
     "text": [
      "Using custom data configuration knkarthick--dialogsum-caf2f3e75d9073aa\n",
      "Found cached dataset csv (/home/sefa/.cache/huggingface/datasets/knkarthick___csv/knkarthick--dialogsum-caf2f3e75d9073aa/0.0.0/6b34fb8fcf56f7c8ba51dc895bfa2bfbe43546f190a60fcf74bb5e8afdcc2317)\n",
      "Using custom data configuration knkarthick--dialogsum-caf2f3e75d9073aa\n",
      "Found cached dataset csv (/home/sefa/.cache/huggingface/datasets/knkarthick___csv/knkarthick--dialogsum-caf2f3e75d9073aa/0.0.0/6b34fb8fcf56f7c8ba51dc895bfa2bfbe43546f190a60fcf74bb5e8afdcc2317)\n",
      "Loading cached processed dataset at /home/sefa/.cache/huggingface/datasets/knkarthick___csv/knkarthick--dialogsum-caf2f3e75d9073aa/0.0.0/6b34fb8fcf56f7c8ba51dc895bfa2bfbe43546f190a60fcf74bb5e8afdcc2317/cache-9d033395d0a367cf.arrow\n",
      "Loading cached processed dataset at /home/sefa/.cache/huggingface/datasets/knkarthick___csv/knkarthick--dialogsum-caf2f3e75d9073aa/0.0.0/6b34fb8fcf56f7c8ba51dc895bfa2bfbe43546f190a60fcf74bb5e8afdcc2317/cache-a45bb773a7c0cad2.arrow\n",
      "Loading cached processed dataset at /home/sefa/.cache/huggingface/datasets/knkarthick___csv/knkarthick--dialogsum-caf2f3e75d9073aa/0.0.0/6b34fb8fcf56f7c8ba51dc895bfa2bfbe43546f190a60fcf74bb5e8afdcc2317/cache-86d8f1d2faeeba6c.arrow\n"
     ]
    },
    {
     "data": {
      "text/plain": "  0%|          | 0/11792 [00:00<?, ?it/s]",
      "application/vnd.jupyter.widget-view+json": {
       "version_major": 2,
       "version_minor": 0,
       "model_id": "392316efabc948bfb0bb91abd3bb8c32"
      }
     },
     "metadata": {},
     "output_type": "display_data"
    },
    {
     "data": {
      "text/plain": "  0%|          | 0/521 [00:00<?, ?it/s]",
      "application/vnd.jupyter.widget-view+json": {
       "version_major": 2,
       "version_minor": 0,
       "model_id": "88fce372ad094e49b0b7b8921216d8fc"
      }
     },
     "metadata": {},
     "output_type": "display_data"
    },
    {
     "name": "stdout",
     "output_type": "stream",
     "text": [
      "tensor([  0, 280,   5, 104,  23,   7,   9,   2], device='cuda:0')\n",
      "tensor([0], device='cuda:0')\n",
      "tensor([ 40,   5,   6,  34,  79,  10,  25,  11, 120,  16,   4,   2],\n",
      "       device='cuda:0')\n",
      "ANSWER:  Yes, I'm going to be a lot of . |EOS|\n"
     ]
    },
    {
     "data": {
      "text/plain": "  0%|          | 0/11792 [00:00<?, ?it/s]",
      "application/vnd.jupyter.widget-view+json": {
       "version_major": 2,
       "version_minor": 0,
       "model_id": "d6edf22850284d7992b713a53ffb292f"
      }
     },
     "metadata": {},
     "output_type": "display_data"
    },
    {
     "data": {
      "text/plain": "  0%|          | 0/521 [00:00<?, ?it/s]",
      "application/vnd.jupyter.widget-view+json": {
       "version_major": 2,
       "version_minor": 0,
       "model_id": "02a15603009d470c8324dbb48f26aa70"
      }
     },
     "metadata": {},
     "output_type": "display_data"
    },
    {
     "name": "stdout",
     "output_type": "stream",
     "text": [
      "tensor([  0, 280,   5, 104,  23,   7,   9,   2], device='cuda:0')\n",
      "tensor([0], device='cuda:0')\n",
      "tensor([  6,  34, 177,   4,   6,  44,  25, 385,  10,  25,  11, 120,  16, 112,\n",
      "          4,   2], device='cuda:0')\n",
      "ANSWER:  I'm sorry . I'll be able to be a lot of people . |EOS|\n"
     ]
    },
    {
     "data": {
      "text/plain": "  0%|          | 0/11792 [00:00<?, ?it/s]",
      "application/vnd.jupyter.widget-view+json": {
       "version_major": 2,
       "version_minor": 0,
       "model_id": "8a21b33f19324d36975d7a46570e41eb"
      }
     },
     "metadata": {},
     "output_type": "display_data"
    },
    {
     "data": {
      "text/plain": "  0%|          | 0/521 [00:00<?, ?it/s]",
      "application/vnd.jupyter.widget-view+json": {
       "version_major": 2,
       "version_minor": 0,
       "model_id": "f0987eb66e5b4527ab4c044af4fb4bc2"
      }
     },
     "metadata": {},
     "output_type": "display_data"
    },
    {
     "name": "stdout",
     "output_type": "stream",
     "text": [
      "tensor([  0, 280,   5, 104,  23,   7,   9,   2], device='cuda:0')\n",
      "tensor([0], device='cuda:0')\n",
      "tensor([  6,  34, 177,  10, 343,  20,   4,   2], device='cuda:0')\n",
      "ANSWER:  I'm sorry to hear that . |EOS|\n"
     ]
    },
    {
     "data": {
      "text/plain": "  0%|          | 0/11792 [00:00<?, ?it/s]",
      "application/vnd.jupyter.widget-view+json": {
       "version_major": 2,
       "version_minor": 0,
       "model_id": "d1d14c9979684e32b0e0d7f0298567d2"
      }
     },
     "metadata": {},
     "output_type": "display_data"
    },
    {
     "data": {
      "text/plain": "  0%|          | 0/521 [00:00<?, ?it/s]",
      "application/vnd.jupyter.widget-view+json": {
       "version_major": 2,
       "version_minor": 0,
       "model_id": "c3c5bd912b424e6ca75359df49e32be2"
      }
     },
     "metadata": {},
     "output_type": "display_data"
    },
    {
     "name": "stdout",
     "output_type": "stream",
     "text": [
      "tensor([  0, 280,   5, 104,  23,   7,   9,   2], device='cuda:0')\n",
      "tensor([0], device='cuda:0')\n",
      "tensor([  6,  34, 177,   4,   6,  34,  52, 127,   4,   2], device='cuda:0')\n",
      "ANSWER:  I'm sorry . I'm not sure . |EOS|\n"
     ]
    },
    {
     "data": {
      "text/plain": "  0%|          | 0/11792 [00:00<?, ?it/s]",
      "application/vnd.jupyter.widget-view+json": {
       "version_major": 2,
       "version_minor": 0,
       "model_id": "db15570543c7496baa09ab50ac53ea50"
      }
     },
     "metadata": {},
     "output_type": "display_data"
    },
    {
     "data": {
      "text/plain": "  0%|          | 0/521 [00:00<?, ?it/s]",
      "application/vnd.jupyter.widget-view+json": {
       "version_major": 2,
       "version_minor": 0,
       "model_id": "3973c48634744b44a04e1ea9dd8b2d55"
      }
     },
     "metadata": {},
     "output_type": "display_data"
    },
    {
     "name": "stdout",
     "output_type": "stream",
     "text": [
      "tensor([  0, 280,   5, 104,  23,   7,   9,   2], device='cuda:0')\n",
      "tensor([0], device='cuda:0')\n",
      "tensor([ 40,   5,   6,  34,  52, 127,   4,   2], device='cuda:0')\n",
      "ANSWER:  Yes, I'm not sure . |EOS|\n"
     ]
    },
    {
     "data": {
      "text/plain": "  0%|          | 0/11792 [00:00<?, ?it/s]",
      "application/vnd.jupyter.widget-view+json": {
       "version_major": 2,
       "version_minor": 0,
       "model_id": "42a64c433db14237b15ec389d3f596d5"
      }
     },
     "metadata": {},
     "output_type": "display_data"
    },
    {
     "data": {
      "text/plain": "  0%|          | 0/521 [00:00<?, ?it/s]",
      "application/vnd.jupyter.widget-view+json": {
       "version_major": 2,
       "version_minor": 0,
       "model_id": "4137187ecf674e36be2924f006c63fbd"
      }
     },
     "metadata": {},
     "output_type": "display_data"
    },
    {
     "name": "stdout",
     "output_type": "stream",
     "text": [
      "tensor([  0, 280,   5, 104,  23,   7,   9,   2], device='cuda:0')\n",
      "tensor([0], device='cuda:0')\n",
      "tensor([ 40,   5,   6,  34,  52, 127,   4,   2], device='cuda:0')\n",
      "ANSWER:  Yes, I'm not sure . |EOS|\n"
     ]
    },
    {
     "data": {
      "text/plain": "  0%|          | 0/11792 [00:00<?, ?it/s]",
      "application/vnd.jupyter.widget-view+json": {
       "version_major": 2,
       "version_minor": 0,
       "model_id": "315d059fc7214c9c98120f36d40d9aa8"
      }
     },
     "metadata": {},
     "output_type": "display_data"
    },
    {
     "data": {
      "text/plain": "  0%|          | 0/521 [00:00<?, ?it/s]",
      "application/vnd.jupyter.widget-view+json": {
       "version_major": 2,
       "version_minor": 0,
       "model_id": "ac1d01b68a5f4cae9049d55b43c13381"
      }
     },
     "metadata": {},
     "output_type": "display_data"
    },
    {
     "name": "stdout",
     "output_type": "stream",
     "text": [
      "tensor([  0, 280,   5, 104,  23,   7,   9,   2], device='cuda:0')\n",
      "tensor([0], device='cuda:0')\n",
      "tensor([ 40,   5,   6,  34, 273,   6,  33,  18,   4,   2], device='cuda:0')\n",
      "ANSWER:  Yes, I'm afraid I can do . |EOS|\n"
     ]
    },
    {
     "data": {
      "text/plain": "                       Trial 1   Trial 2   Trial 3      Mean       Std\nLearning Rate 0.0001  1.349924  1.344503  1.346552  1.346993  0.002737\nLearning Rate 0.01    1.392080  1.380623  1.383668  1.385457  0.005934",
      "text/html": "<div>\n<style scoped>\n    .dataframe tbody tr th:only-of-type {\n        vertical-align: middle;\n    }\n\n    .dataframe tbody tr th {\n        vertical-align: top;\n    }\n\n    .dataframe thead th {\n        text-align: right;\n    }\n</style>\n<table border=\"1\" class=\"dataframe\">\n  <thead>\n    <tr style=\"text-align: right;\">\n      <th></th>\n      <th>Trial 1</th>\n      <th>Trial 2</th>\n      <th>Trial 3</th>\n      <th>Mean</th>\n      <th>Std</th>\n    </tr>\n  </thead>\n  <tbody>\n    <tr>\n      <th>Learning Rate 0.0001</th>\n      <td>1.349924</td>\n      <td>1.344503</td>\n      <td>1.346552</td>\n      <td>1.346993</td>\n      <td>0.002737</td>\n    </tr>\n    <tr>\n      <th>Learning Rate 0.01</th>\n      <td>1.392080</td>\n      <td>1.380623</td>\n      <td>1.383668</td>\n      <td>1.385457</td>\n      <td>0.005934</td>\n    </tr>\n  </tbody>\n</table>\n</div>"
     },
     "execution_count": 340,
     "metadata": {},
     "output_type": "execute_result"
    }
   ],
   "source": [
    "#df = pd.DataFrame()\n",
    "\n",
    "for lr in [1e-2]:\n",
    "    for t in range(3):\n",
    "        val_loss = train(max_len, bs, lr, epochs, device=device,\n",
    "                         encoder_embed_dim=128, encoder_n_layers=1, encoder_n_hidden=128, encoder_dropout_rate=0.2,\n",
    "                         decoder_embed_dim=128, decoder_n_layers=2, decoder_n_hidden=128, decoder_dropout_rate=0.2)\n",
    "\n",
    "        df.at[f'Learning Rate {lr}', f'Trial {t+1}'] = val_loss\n",
    "\n",
    "m = df.mean(axis=1)\n",
    "s = df.std(axis=1)\n",
    "\n",
    "df['Mean'] = m\n",
    "df['Std'] = s\n",
    "\n",
    "df"
   ]
  },
  {
   "cell_type": "code",
   "execution_count": 336,
   "metadata": {},
   "outputs": [],
   "source": []
  },
  {
   "cell_type": "code",
   "execution_count": 339,
   "outputs": [
    {
     "data": {
      "text/plain": "                       Trial 1   Trial 2   Trial 3\nLearning Rate 0.0001  1.349924  1.344503  1.346552",
      "text/html": "<div>\n<style scoped>\n    .dataframe tbody tr th:only-of-type {\n        vertical-align: middle;\n    }\n\n    .dataframe tbody tr th {\n        vertical-align: top;\n    }\n\n    .dataframe thead th {\n        text-align: right;\n    }\n</style>\n<table border=\"1\" class=\"dataframe\">\n  <thead>\n    <tr style=\"text-align: right;\">\n      <th></th>\n      <th>Trial 1</th>\n      <th>Trial 2</th>\n      <th>Trial 3</th>\n    </tr>\n  </thead>\n  <tbody>\n    <tr>\n      <th>Learning Rate 0.0001</th>\n      <td>1.349924</td>\n      <td>1.344503</td>\n      <td>1.346552</td>\n    </tr>\n  </tbody>\n</table>\n</div>"
     },
     "execution_count": 339,
     "metadata": {},
     "output_type": "execute_result"
    }
   ],
   "source": [
    "df"
   ],
   "metadata": {
    "collapsed": false
   }
  },
  {
   "cell_type": "code",
   "execution_count": null,
   "outputs": [],
   "source": [],
   "metadata": {
    "collapsed": false
   }
  }
 ],
 "metadata": {
  "kernelspec": {
   "display_name": "Python 3 (ipykernel)",
   "language": "python",
   "name": "python3"
  },
  "language_info": {
   "codemirror_mode": {
    "name": "ipython",
    "version": 3
   },
   "file_extension": ".py",
   "mimetype": "text/x-python",
   "name": "python",
   "nbconvert_exporter": "python",
   "pygments_lexer": "ipython3",
   "version": "3.8.13"
  }
 },
 "nbformat": 4,
 "nbformat_minor": 4
}
